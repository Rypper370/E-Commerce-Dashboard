{
  "cells": [
    {
      "cell_type": "markdown",
      "metadata": {
        "id": "H9wADwK78DCz"
      },
      "source": [
        "# Proyek Analisis Data: [Input Nama Dataset]\n",
        "- **Nama:** Yohanes Aldo Anantha\n",
        "- **Email:** aldo00931@gmail.com\n",
        "- **ID Dicoding:** mc172d5y1232"
      ]
    },
    {
      "cell_type": "markdown",
      "metadata": {
        "id": "eE0raob58DC0"
      },
      "source": [
        "## Menentukan Pertanyaan Bisnis"
      ]
    },
    {
      "cell_type": "markdown",
      "metadata": {
        "id": "GmQeQ5YF8DC0"
      },
      "source": [
        "- Bagaimana tren jumlah pesanan dan total pendapatan perusahaan dalam beberapa bulan terakhir?\n",
        "- Kategori produk mana yang paling banyak dan paling sedikit dipesan oleh pelanggan?\n",
        "- Bagaimana distribusi pelanggan berdasarkan lokasi geografis?\n",
        "- Kapan terakhir kali pelanggan melakukan pembelian?"
      ]
    },
    {
      "cell_type": "markdown",
      "metadata": {
        "id": "H-z4QGlO8DC1"
      },
      "source": [
        "## Import Semua Packages/Library yang Digunakan"
      ]
    },
    {
      "cell_type": "code",
      "execution_count": 100,
      "metadata": {
        "id": "FVYwaObI8DC1"
      },
      "outputs": [],
      "source": [
        "import pandas as pd\n",
        "import numpy as np\n",
        "import seaborn as sns\n",
        "import matplotlib.pyplot as plt"
      ]
    },
    {
      "cell_type": "markdown",
      "metadata": {
        "id": "h_Sh51Xy8DC1"
      },
      "source": [
        "## Data Wrangling"
      ]
    },
    {
      "cell_type": "markdown",
      "metadata": {
        "id": "sXU2GBYu8DC1"
      },
      "source": [
        "### Gathering Data"
      ]
    },
    {
      "cell_type": "code",
      "execution_count": 101,
      "metadata": {
        "colab": {
          "base_uri": "https://localhost:8080/",
          "height": 261
        },
        "id": "zjCBk1BI8DC1",
        "outputId": "5e1e03dd-d451-4846-ca7b-f579b76482ae"
      },
      "outputs": [
        {
          "data": {
            "text/html": [
              "<div>\n",
              "<style scoped>\n",
              "    .dataframe tbody tr th:only-of-type {\n",
              "        vertical-align: middle;\n",
              "    }\n",
              "\n",
              "    .dataframe tbody tr th {\n",
              "        vertical-align: top;\n",
              "    }\n",
              "\n",
              "    .dataframe thead th {\n",
              "        text-align: right;\n",
              "    }\n",
              "</style>\n",
              "<table border=\"1\" class=\"dataframe\">\n",
              "  <thead>\n",
              "    <tr style=\"text-align: right;\">\n",
              "      <th></th>\n",
              "      <th>customer_id</th>\n",
              "      <th>customer_unique_id</th>\n",
              "      <th>customer_zip_code_prefix</th>\n",
              "      <th>customer_city</th>\n",
              "      <th>customer_state</th>\n",
              "    </tr>\n",
              "  </thead>\n",
              "  <tbody>\n",
              "    <tr>\n",
              "      <th>0</th>\n",
              "      <td>06b8999e2fba1a1fbc88172c00ba8bc7</td>\n",
              "      <td>861eff4711a542e4b93843c6dd7febb0</td>\n",
              "      <td>14409</td>\n",
              "      <td>franca</td>\n",
              "      <td>SP</td>\n",
              "    </tr>\n",
              "    <tr>\n",
              "      <th>1</th>\n",
              "      <td>18955e83d337fd6b2def6b18a428ac77</td>\n",
              "      <td>290c77bc529b7ac935b93aa66c333dc3</td>\n",
              "      <td>9790</td>\n",
              "      <td>sao bernardo do campo</td>\n",
              "      <td>SP</td>\n",
              "    </tr>\n",
              "    <tr>\n",
              "      <th>2</th>\n",
              "      <td>4e7b3e00288586ebd08712fdd0374a03</td>\n",
              "      <td>060e732b5b29e8181a18229c7b0b2b5e</td>\n",
              "      <td>1151</td>\n",
              "      <td>sao paulo</td>\n",
              "      <td>SP</td>\n",
              "    </tr>\n",
              "    <tr>\n",
              "      <th>3</th>\n",
              "      <td>b2b6027bc5c5109e529d4dc6358b12c3</td>\n",
              "      <td>259dac757896d24d7702b9acbbff3f3c</td>\n",
              "      <td>8775</td>\n",
              "      <td>mogi das cruzes</td>\n",
              "      <td>SP</td>\n",
              "    </tr>\n",
              "    <tr>\n",
              "      <th>4</th>\n",
              "      <td>4f2d8ab171c80ec8364f7c12e35b23ad</td>\n",
              "      <td>345ecd01c38d18a9036ed96c73b8d066</td>\n",
              "      <td>13056</td>\n",
              "      <td>campinas</td>\n",
              "      <td>SP</td>\n",
              "    </tr>\n",
              "  </tbody>\n",
              "</table>\n",
              "</div>"
            ],
            "text/plain": [
              "                        customer_id                customer_unique_id  \\\n",
              "0  06b8999e2fba1a1fbc88172c00ba8bc7  861eff4711a542e4b93843c6dd7febb0   \n",
              "1  18955e83d337fd6b2def6b18a428ac77  290c77bc529b7ac935b93aa66c333dc3   \n",
              "2  4e7b3e00288586ebd08712fdd0374a03  060e732b5b29e8181a18229c7b0b2b5e   \n",
              "3  b2b6027bc5c5109e529d4dc6358b12c3  259dac757896d24d7702b9acbbff3f3c   \n",
              "4  4f2d8ab171c80ec8364f7c12e35b23ad  345ecd01c38d18a9036ed96c73b8d066   \n",
              "\n",
              "   customer_zip_code_prefix          customer_city customer_state  \n",
              "0                     14409                 franca             SP  \n",
              "1                      9790  sao bernardo do campo             SP  \n",
              "2                      1151              sao paulo             SP  \n",
              "3                      8775        mogi das cruzes             SP  \n",
              "4                     13056               campinas             SP  "
            ]
          },
          "execution_count": 101,
          "metadata": {},
          "output_type": "execute_result"
        }
      ],
      "source": [
        "customers_df = pd.read_csv(\"Dataset/customers_dataset.csv\")\n",
        "customers_df.head()"
      ]
    },
    {
      "cell_type": "code",
      "execution_count": 102,
      "metadata": {
        "colab": {
          "base_uri": "https://localhost:8080/",
          "height": 206
        },
        "id": "IOgl0OTFat7F",
        "outputId": "aec138fd-bd4f-41a1-c00a-4e6f7aa9ffe8"
      },
      "outputs": [
        {
          "data": {
            "text/html": [
              "<div>\n",
              "<style scoped>\n",
              "    .dataframe tbody tr th:only-of-type {\n",
              "        vertical-align: middle;\n",
              "    }\n",
              "\n",
              "    .dataframe tbody tr th {\n",
              "        vertical-align: top;\n",
              "    }\n",
              "\n",
              "    .dataframe thead th {\n",
              "        text-align: right;\n",
              "    }\n",
              "</style>\n",
              "<table border=\"1\" class=\"dataframe\">\n",
              "  <thead>\n",
              "    <tr style=\"text-align: right;\">\n",
              "      <th></th>\n",
              "      <th>geolocation_zip_code_prefix</th>\n",
              "      <th>geolocation_lat</th>\n",
              "      <th>geolocation_lng</th>\n",
              "      <th>geolocation_city</th>\n",
              "      <th>geolocation_state</th>\n",
              "    </tr>\n",
              "  </thead>\n",
              "  <tbody>\n",
              "    <tr>\n",
              "      <th>0</th>\n",
              "      <td>1037</td>\n",
              "      <td>-23.545621</td>\n",
              "      <td>-46.639292</td>\n",
              "      <td>sao paulo</td>\n",
              "      <td>SP</td>\n",
              "    </tr>\n",
              "    <tr>\n",
              "      <th>1</th>\n",
              "      <td>1046</td>\n",
              "      <td>-23.546081</td>\n",
              "      <td>-46.644820</td>\n",
              "      <td>sao paulo</td>\n",
              "      <td>SP</td>\n",
              "    </tr>\n",
              "    <tr>\n",
              "      <th>2</th>\n",
              "      <td>1046</td>\n",
              "      <td>-23.546129</td>\n",
              "      <td>-46.642951</td>\n",
              "      <td>sao paulo</td>\n",
              "      <td>SP</td>\n",
              "    </tr>\n",
              "    <tr>\n",
              "      <th>3</th>\n",
              "      <td>1041</td>\n",
              "      <td>-23.544392</td>\n",
              "      <td>-46.639499</td>\n",
              "      <td>sao paulo</td>\n",
              "      <td>SP</td>\n",
              "    </tr>\n",
              "    <tr>\n",
              "      <th>4</th>\n",
              "      <td>1035</td>\n",
              "      <td>-23.541578</td>\n",
              "      <td>-46.641607</td>\n",
              "      <td>sao paulo</td>\n",
              "      <td>SP</td>\n",
              "    </tr>\n",
              "  </tbody>\n",
              "</table>\n",
              "</div>"
            ],
            "text/plain": [
              "   geolocation_zip_code_prefix  geolocation_lat  geolocation_lng  \\\n",
              "0                         1037       -23.545621       -46.639292   \n",
              "1                         1046       -23.546081       -46.644820   \n",
              "2                         1046       -23.546129       -46.642951   \n",
              "3                         1041       -23.544392       -46.639499   \n",
              "4                         1035       -23.541578       -46.641607   \n",
              "\n",
              "  geolocation_city geolocation_state  \n",
              "0        sao paulo                SP  \n",
              "1        sao paulo                SP  \n",
              "2        sao paulo                SP  \n",
              "3        sao paulo                SP  \n",
              "4        sao paulo                SP  "
            ]
          },
          "execution_count": 102,
          "metadata": {},
          "output_type": "execute_result"
        }
      ],
      "source": [
        "geolocation_df = pd.read_csv(\"Dataset/geolocation_dataset.csv\")\n",
        "geolocation_df.head()"
      ]
    },
    {
      "cell_type": "code",
      "execution_count": 103,
      "metadata": {
        "colab": {
          "base_uri": "https://localhost:8080/",
          "height": 226
        },
        "id": "Sx3MHfSobE2k",
        "outputId": "b57a0495-b41c-4050-e162-f8734315a004"
      },
      "outputs": [
        {
          "data": {
            "text/html": [
              "<div>\n",
              "<style scoped>\n",
              "    .dataframe tbody tr th:only-of-type {\n",
              "        vertical-align: middle;\n",
              "    }\n",
              "\n",
              "    .dataframe tbody tr th {\n",
              "        vertical-align: top;\n",
              "    }\n",
              "\n",
              "    .dataframe thead th {\n",
              "        text-align: right;\n",
              "    }\n",
              "</style>\n",
              "<table border=\"1\" class=\"dataframe\">\n",
              "  <thead>\n",
              "    <tr style=\"text-align: right;\">\n",
              "      <th></th>\n",
              "      <th>order_id</th>\n",
              "      <th>customer_id</th>\n",
              "      <th>order_status</th>\n",
              "      <th>order_purchase_timestamp</th>\n",
              "      <th>order_approved_at</th>\n",
              "      <th>order_delivered_carrier_date</th>\n",
              "      <th>order_delivered_customer_date</th>\n",
              "      <th>order_estimated_delivery_date</th>\n",
              "    </tr>\n",
              "  </thead>\n",
              "  <tbody>\n",
              "    <tr>\n",
              "      <th>0</th>\n",
              "      <td>e481f51cbdc54678b7cc49136f2d6af7</td>\n",
              "      <td>9ef432eb6251297304e76186b10a928d</td>\n",
              "      <td>delivered</td>\n",
              "      <td>2017-10-02 10:56:33</td>\n",
              "      <td>2017-10-02 11:07:15</td>\n",
              "      <td>2017-10-04 19:55:00</td>\n",
              "      <td>2017-10-10 21:25:13</td>\n",
              "      <td>2017-10-18 00:00:00</td>\n",
              "    </tr>\n",
              "    <tr>\n",
              "      <th>1</th>\n",
              "      <td>53cdb2fc8bc7dce0b6741e2150273451</td>\n",
              "      <td>b0830fb4747a6c6d20dea0b8c802d7ef</td>\n",
              "      <td>delivered</td>\n",
              "      <td>2018-07-24 20:41:37</td>\n",
              "      <td>2018-07-26 03:24:27</td>\n",
              "      <td>2018-07-26 14:31:00</td>\n",
              "      <td>2018-08-07 15:27:45</td>\n",
              "      <td>2018-08-13 00:00:00</td>\n",
              "    </tr>\n",
              "    <tr>\n",
              "      <th>2</th>\n",
              "      <td>47770eb9100c2d0c44946d9cf07ec65d</td>\n",
              "      <td>41ce2a54c0b03bf3443c3d931a367089</td>\n",
              "      <td>delivered</td>\n",
              "      <td>2018-08-08 08:38:49</td>\n",
              "      <td>2018-08-08 08:55:23</td>\n",
              "      <td>2018-08-08 13:50:00</td>\n",
              "      <td>2018-08-17 18:06:29</td>\n",
              "      <td>2018-09-04 00:00:00</td>\n",
              "    </tr>\n",
              "    <tr>\n",
              "      <th>3</th>\n",
              "      <td>949d5b44dbf5de918fe9c16f97b45f8a</td>\n",
              "      <td>f88197465ea7920adcdbec7375364d82</td>\n",
              "      <td>delivered</td>\n",
              "      <td>2017-11-18 19:28:06</td>\n",
              "      <td>2017-11-18 19:45:59</td>\n",
              "      <td>2017-11-22 13:39:59</td>\n",
              "      <td>2017-12-02 00:28:42</td>\n",
              "      <td>2017-12-15 00:00:00</td>\n",
              "    </tr>\n",
              "    <tr>\n",
              "      <th>4</th>\n",
              "      <td>ad21c59c0840e6cb83a9ceb5573f8159</td>\n",
              "      <td>8ab97904e6daea8866dbdbc4fb7aad2c</td>\n",
              "      <td>delivered</td>\n",
              "      <td>2018-02-13 21:18:39</td>\n",
              "      <td>2018-02-13 22:20:29</td>\n",
              "      <td>2018-02-14 19:46:34</td>\n",
              "      <td>2018-02-16 18:17:02</td>\n",
              "      <td>2018-02-26 00:00:00</td>\n",
              "    </tr>\n",
              "  </tbody>\n",
              "</table>\n",
              "</div>"
            ],
            "text/plain": [
              "                           order_id                       customer_id  \\\n",
              "0  e481f51cbdc54678b7cc49136f2d6af7  9ef432eb6251297304e76186b10a928d   \n",
              "1  53cdb2fc8bc7dce0b6741e2150273451  b0830fb4747a6c6d20dea0b8c802d7ef   \n",
              "2  47770eb9100c2d0c44946d9cf07ec65d  41ce2a54c0b03bf3443c3d931a367089   \n",
              "3  949d5b44dbf5de918fe9c16f97b45f8a  f88197465ea7920adcdbec7375364d82   \n",
              "4  ad21c59c0840e6cb83a9ceb5573f8159  8ab97904e6daea8866dbdbc4fb7aad2c   \n",
              "\n",
              "  order_status order_purchase_timestamp    order_approved_at  \\\n",
              "0    delivered      2017-10-02 10:56:33  2017-10-02 11:07:15   \n",
              "1    delivered      2018-07-24 20:41:37  2018-07-26 03:24:27   \n",
              "2    delivered      2018-08-08 08:38:49  2018-08-08 08:55:23   \n",
              "3    delivered      2017-11-18 19:28:06  2017-11-18 19:45:59   \n",
              "4    delivered      2018-02-13 21:18:39  2018-02-13 22:20:29   \n",
              "\n",
              "  order_delivered_carrier_date order_delivered_customer_date  \\\n",
              "0          2017-10-04 19:55:00           2017-10-10 21:25:13   \n",
              "1          2018-07-26 14:31:00           2018-08-07 15:27:45   \n",
              "2          2018-08-08 13:50:00           2018-08-17 18:06:29   \n",
              "3          2017-11-22 13:39:59           2017-12-02 00:28:42   \n",
              "4          2018-02-14 19:46:34           2018-02-16 18:17:02   \n",
              "\n",
              "  order_estimated_delivery_date  \n",
              "0           2017-10-18 00:00:00  \n",
              "1           2018-08-13 00:00:00  \n",
              "2           2018-09-04 00:00:00  \n",
              "3           2017-12-15 00:00:00  \n",
              "4           2018-02-26 00:00:00  "
            ]
          },
          "execution_count": 103,
          "metadata": {},
          "output_type": "execute_result"
        }
      ],
      "source": [
        "orders_df = pd.read_csv(\"Dataset/orders_dataset.csv\")\n",
        "orders_df.head()"
      ]
    },
    {
      "cell_type": "code",
      "execution_count": 104,
      "metadata": {
        "colab": {
          "base_uri": "https://localhost:8080/",
          "height": 226
        },
        "id": "ZUZ3TTUVZ0gM",
        "outputId": "6a369e1f-9d68-4025-8b28-845c86aae04a"
      },
      "outputs": [
        {
          "data": {
            "text/html": [
              "<div>\n",
              "<style scoped>\n",
              "    .dataframe tbody tr th:only-of-type {\n",
              "        vertical-align: middle;\n",
              "    }\n",
              "\n",
              "    .dataframe tbody tr th {\n",
              "        vertical-align: top;\n",
              "    }\n",
              "\n",
              "    .dataframe thead th {\n",
              "        text-align: right;\n",
              "    }\n",
              "</style>\n",
              "<table border=\"1\" class=\"dataframe\">\n",
              "  <thead>\n",
              "    <tr style=\"text-align: right;\">\n",
              "      <th></th>\n",
              "      <th>order_id</th>\n",
              "      <th>order_item_id</th>\n",
              "      <th>product_id</th>\n",
              "      <th>seller_id</th>\n",
              "      <th>shipping_limit_date</th>\n",
              "      <th>price</th>\n",
              "      <th>freight_value</th>\n",
              "    </tr>\n",
              "  </thead>\n",
              "  <tbody>\n",
              "    <tr>\n",
              "      <th>0</th>\n",
              "      <td>00010242fe8c5a6d1ba2dd792cb16214</td>\n",
              "      <td>1</td>\n",
              "      <td>4244733e06e7ecb4970a6e2683c13e61</td>\n",
              "      <td>48436dade18ac8b2bce089ec2a041202</td>\n",
              "      <td>2017-09-19 09:45:35</td>\n",
              "      <td>58.90</td>\n",
              "      <td>13.29</td>\n",
              "    </tr>\n",
              "    <tr>\n",
              "      <th>1</th>\n",
              "      <td>00018f77f2f0320c557190d7a144bdd3</td>\n",
              "      <td>1</td>\n",
              "      <td>e5f2d52b802189ee658865ca93d83a8f</td>\n",
              "      <td>dd7ddc04e1b6c2c614352b383efe2d36</td>\n",
              "      <td>2017-05-03 11:05:13</td>\n",
              "      <td>239.90</td>\n",
              "      <td>19.93</td>\n",
              "    </tr>\n",
              "    <tr>\n",
              "      <th>2</th>\n",
              "      <td>000229ec398224ef6ca0657da4fc703e</td>\n",
              "      <td>1</td>\n",
              "      <td>c777355d18b72b67abbeef9df44fd0fd</td>\n",
              "      <td>5b51032eddd242adc84c38acab88f23d</td>\n",
              "      <td>2018-01-18 14:48:30</td>\n",
              "      <td>199.00</td>\n",
              "      <td>17.87</td>\n",
              "    </tr>\n",
              "    <tr>\n",
              "      <th>3</th>\n",
              "      <td>00024acbcdf0a6daa1e931b038114c75</td>\n",
              "      <td>1</td>\n",
              "      <td>7634da152a4610f1595efa32f14722fc</td>\n",
              "      <td>9d7a1d34a5052409006425275ba1c2b4</td>\n",
              "      <td>2018-08-15 10:10:18</td>\n",
              "      <td>12.99</td>\n",
              "      <td>12.79</td>\n",
              "    </tr>\n",
              "    <tr>\n",
              "      <th>4</th>\n",
              "      <td>00042b26cf59d7ce69dfabb4e55b4fd9</td>\n",
              "      <td>1</td>\n",
              "      <td>ac6c3623068f30de03045865e4e10089</td>\n",
              "      <td>df560393f3a51e74553ab94004ba5c87</td>\n",
              "      <td>2017-02-13 13:57:51</td>\n",
              "      <td>199.90</td>\n",
              "      <td>18.14</td>\n",
              "    </tr>\n",
              "  </tbody>\n",
              "</table>\n",
              "</div>"
            ],
            "text/plain": [
              "                           order_id  order_item_id  \\\n",
              "0  00010242fe8c5a6d1ba2dd792cb16214              1   \n",
              "1  00018f77f2f0320c557190d7a144bdd3              1   \n",
              "2  000229ec398224ef6ca0657da4fc703e              1   \n",
              "3  00024acbcdf0a6daa1e931b038114c75              1   \n",
              "4  00042b26cf59d7ce69dfabb4e55b4fd9              1   \n",
              "\n",
              "                         product_id                         seller_id  \\\n",
              "0  4244733e06e7ecb4970a6e2683c13e61  48436dade18ac8b2bce089ec2a041202   \n",
              "1  e5f2d52b802189ee658865ca93d83a8f  dd7ddc04e1b6c2c614352b383efe2d36   \n",
              "2  c777355d18b72b67abbeef9df44fd0fd  5b51032eddd242adc84c38acab88f23d   \n",
              "3  7634da152a4610f1595efa32f14722fc  9d7a1d34a5052409006425275ba1c2b4   \n",
              "4  ac6c3623068f30de03045865e4e10089  df560393f3a51e74553ab94004ba5c87   \n",
              "\n",
              "   shipping_limit_date   price  freight_value  \n",
              "0  2017-09-19 09:45:35   58.90          13.29  \n",
              "1  2017-05-03 11:05:13  239.90          19.93  \n",
              "2  2018-01-18 14:48:30  199.00          17.87  \n",
              "3  2018-08-15 10:10:18   12.99          12.79  \n",
              "4  2017-02-13 13:57:51  199.90          18.14  "
            ]
          },
          "execution_count": 104,
          "metadata": {},
          "output_type": "execute_result"
        }
      ],
      "source": [
        "orderItems_df = pd.read_csv(\"Dataset/order_items_dataset.csv\")\n",
        "orderItems_df.head()"
      ]
    },
    {
      "cell_type": "code",
      "execution_count": 105,
      "metadata": {
        "colab": {
          "base_uri": "https://localhost:8080/",
          "height": 206
        },
        "id": "--ecJ5xha9fO",
        "outputId": "beb560e1-b0b7-40a1-d52c-41990a05f0fb"
      },
      "outputs": [
        {
          "data": {
            "text/html": [
              "<div>\n",
              "<style scoped>\n",
              "    .dataframe tbody tr th:only-of-type {\n",
              "        vertical-align: middle;\n",
              "    }\n",
              "\n",
              "    .dataframe tbody tr th {\n",
              "        vertical-align: top;\n",
              "    }\n",
              "\n",
              "    .dataframe thead th {\n",
              "        text-align: right;\n",
              "    }\n",
              "</style>\n",
              "<table border=\"1\" class=\"dataframe\">\n",
              "  <thead>\n",
              "    <tr style=\"text-align: right;\">\n",
              "      <th></th>\n",
              "      <th>order_id</th>\n",
              "      <th>payment_sequential</th>\n",
              "      <th>payment_type</th>\n",
              "      <th>payment_installments</th>\n",
              "      <th>payment_value</th>\n",
              "    </tr>\n",
              "  </thead>\n",
              "  <tbody>\n",
              "    <tr>\n",
              "      <th>0</th>\n",
              "      <td>b81ef226f3fe1789b1e8b2acac839d17</td>\n",
              "      <td>1</td>\n",
              "      <td>credit_card</td>\n",
              "      <td>8</td>\n",
              "      <td>99.33</td>\n",
              "    </tr>\n",
              "    <tr>\n",
              "      <th>1</th>\n",
              "      <td>a9810da82917af2d9aefd1278f1dcfa0</td>\n",
              "      <td>1</td>\n",
              "      <td>credit_card</td>\n",
              "      <td>1</td>\n",
              "      <td>24.39</td>\n",
              "    </tr>\n",
              "    <tr>\n",
              "      <th>2</th>\n",
              "      <td>25e8ea4e93396b6fa0d3dd708e76c1bd</td>\n",
              "      <td>1</td>\n",
              "      <td>credit_card</td>\n",
              "      <td>1</td>\n",
              "      <td>65.71</td>\n",
              "    </tr>\n",
              "    <tr>\n",
              "      <th>3</th>\n",
              "      <td>ba78997921bbcdc1373bb41e913ab953</td>\n",
              "      <td>1</td>\n",
              "      <td>credit_card</td>\n",
              "      <td>8</td>\n",
              "      <td>107.78</td>\n",
              "    </tr>\n",
              "    <tr>\n",
              "      <th>4</th>\n",
              "      <td>42fdf880ba16b47b59251dd489d4441a</td>\n",
              "      <td>1</td>\n",
              "      <td>credit_card</td>\n",
              "      <td>2</td>\n",
              "      <td>128.45</td>\n",
              "    </tr>\n",
              "  </tbody>\n",
              "</table>\n",
              "</div>"
            ],
            "text/plain": [
              "                           order_id  payment_sequential payment_type  \\\n",
              "0  b81ef226f3fe1789b1e8b2acac839d17                   1  credit_card   \n",
              "1  a9810da82917af2d9aefd1278f1dcfa0                   1  credit_card   \n",
              "2  25e8ea4e93396b6fa0d3dd708e76c1bd                   1  credit_card   \n",
              "3  ba78997921bbcdc1373bb41e913ab953                   1  credit_card   \n",
              "4  42fdf880ba16b47b59251dd489d4441a                   1  credit_card   \n",
              "\n",
              "   payment_installments  payment_value  \n",
              "0                     8          99.33  \n",
              "1                     1          24.39  \n",
              "2                     1          65.71  \n",
              "3                     8         107.78  \n",
              "4                     2         128.45  "
            ]
          },
          "execution_count": 105,
          "metadata": {},
          "output_type": "execute_result"
        }
      ],
      "source": [
        "orderPayments_df = pd.read_csv(\"Dataset/order_payments_dataset.csv\")\n",
        "orderPayments_df.head()"
      ]
    },
    {
      "cell_type": "code",
      "execution_count": 106,
      "metadata": {
        "colab": {
          "base_uri": "https://localhost:8080/",
          "height": 226
        },
        "id": "EjJgoZqZbRRi",
        "outputId": "a52f1faf-2ac5-40a0-f838-fdeeb56d1413"
      },
      "outputs": [
        {
          "data": {
            "text/html": [
              "<div>\n",
              "<style scoped>\n",
              "    .dataframe tbody tr th:only-of-type {\n",
              "        vertical-align: middle;\n",
              "    }\n",
              "\n",
              "    .dataframe tbody tr th {\n",
              "        vertical-align: top;\n",
              "    }\n",
              "\n",
              "    .dataframe thead th {\n",
              "        text-align: right;\n",
              "    }\n",
              "</style>\n",
              "<table border=\"1\" class=\"dataframe\">\n",
              "  <thead>\n",
              "    <tr style=\"text-align: right;\">\n",
              "      <th></th>\n",
              "      <th>product_id</th>\n",
              "      <th>product_category_name</th>\n",
              "      <th>product_name_lenght</th>\n",
              "      <th>product_description_lenght</th>\n",
              "      <th>product_photos_qty</th>\n",
              "      <th>product_weight_g</th>\n",
              "      <th>product_length_cm</th>\n",
              "      <th>product_height_cm</th>\n",
              "      <th>product_width_cm</th>\n",
              "    </tr>\n",
              "  </thead>\n",
              "  <tbody>\n",
              "    <tr>\n",
              "      <th>0</th>\n",
              "      <td>1e9e8ef04dbcff4541ed26657ea517e5</td>\n",
              "      <td>perfumaria</td>\n",
              "      <td>40.0</td>\n",
              "      <td>287.0</td>\n",
              "      <td>1.0</td>\n",
              "      <td>225.0</td>\n",
              "      <td>16.0</td>\n",
              "      <td>10.0</td>\n",
              "      <td>14.0</td>\n",
              "    </tr>\n",
              "    <tr>\n",
              "      <th>1</th>\n",
              "      <td>3aa071139cb16b67ca9e5dea641aaa2f</td>\n",
              "      <td>artes</td>\n",
              "      <td>44.0</td>\n",
              "      <td>276.0</td>\n",
              "      <td>1.0</td>\n",
              "      <td>1000.0</td>\n",
              "      <td>30.0</td>\n",
              "      <td>18.0</td>\n",
              "      <td>20.0</td>\n",
              "    </tr>\n",
              "    <tr>\n",
              "      <th>2</th>\n",
              "      <td>96bd76ec8810374ed1b65e291975717f</td>\n",
              "      <td>esporte_lazer</td>\n",
              "      <td>46.0</td>\n",
              "      <td>250.0</td>\n",
              "      <td>1.0</td>\n",
              "      <td>154.0</td>\n",
              "      <td>18.0</td>\n",
              "      <td>9.0</td>\n",
              "      <td>15.0</td>\n",
              "    </tr>\n",
              "    <tr>\n",
              "      <th>3</th>\n",
              "      <td>cef67bcfe19066a932b7673e239eb23d</td>\n",
              "      <td>bebes</td>\n",
              "      <td>27.0</td>\n",
              "      <td>261.0</td>\n",
              "      <td>1.0</td>\n",
              "      <td>371.0</td>\n",
              "      <td>26.0</td>\n",
              "      <td>4.0</td>\n",
              "      <td>26.0</td>\n",
              "    </tr>\n",
              "    <tr>\n",
              "      <th>4</th>\n",
              "      <td>9dc1a7de274444849c219cff195d0b71</td>\n",
              "      <td>utilidades_domesticas</td>\n",
              "      <td>37.0</td>\n",
              "      <td>402.0</td>\n",
              "      <td>4.0</td>\n",
              "      <td>625.0</td>\n",
              "      <td>20.0</td>\n",
              "      <td>17.0</td>\n",
              "      <td>13.0</td>\n",
              "    </tr>\n",
              "  </tbody>\n",
              "</table>\n",
              "</div>"
            ],
            "text/plain": [
              "                         product_id  product_category_name  \\\n",
              "0  1e9e8ef04dbcff4541ed26657ea517e5             perfumaria   \n",
              "1  3aa071139cb16b67ca9e5dea641aaa2f                  artes   \n",
              "2  96bd76ec8810374ed1b65e291975717f          esporte_lazer   \n",
              "3  cef67bcfe19066a932b7673e239eb23d                  bebes   \n",
              "4  9dc1a7de274444849c219cff195d0b71  utilidades_domesticas   \n",
              "\n",
              "   product_name_lenght  product_description_lenght  product_photos_qty  \\\n",
              "0                 40.0                       287.0                 1.0   \n",
              "1                 44.0                       276.0                 1.0   \n",
              "2                 46.0                       250.0                 1.0   \n",
              "3                 27.0                       261.0                 1.0   \n",
              "4                 37.0                       402.0                 4.0   \n",
              "\n",
              "   product_weight_g  product_length_cm  product_height_cm  product_width_cm  \n",
              "0             225.0               16.0               10.0              14.0  \n",
              "1            1000.0               30.0               18.0              20.0  \n",
              "2             154.0               18.0                9.0              15.0  \n",
              "3             371.0               26.0                4.0              26.0  \n",
              "4             625.0               20.0               17.0              13.0  "
            ]
          },
          "execution_count": 106,
          "metadata": {},
          "output_type": "execute_result"
        }
      ],
      "source": [
        "product_df = pd.read_csv(\"Dataset/products_dataset.csv\")\n",
        "product_df.head()"
      ]
    },
    {
      "cell_type": "markdown",
      "metadata": {
        "id": "MMi6xGaDkbCi"
      },
      "source": [
        "**Insight:**\n",
        "- xxx\n",
        "- xxx"
      ]
    },
    {
      "cell_type": "markdown",
      "metadata": {
        "id": "FHSiqaZp8DC1"
      },
      "source": [
        "### Assessing Data"
      ]
    },
    {
      "cell_type": "markdown",
      "metadata": {
        "id": "6Aes_1FMYcXd"
      },
      "source": [
        "####Menilai Table `customers_df`\n"
      ]
    },
    {
      "cell_type": "code",
      "execution_count": 107,
      "metadata": {
        "colab": {
          "base_uri": "https://localhost:8080/"
        },
        "id": "6dS5tizff3kz",
        "outputId": "e3036e92-807d-4f0e-c7e4-d27089149efa"
      },
      "outputs": [
        {
          "name": "stdout",
          "output_type": "stream",
          "text": [
            "<class 'pandas.core.frame.DataFrame'>\n",
            "RangeIndex: 99441 entries, 0 to 99440\n",
            "Data columns (total 5 columns):\n",
            " #   Column                    Non-Null Count  Dtype \n",
            "---  ------                    --------------  ----- \n",
            " 0   customer_id               99441 non-null  object\n",
            " 1   customer_unique_id        99441 non-null  object\n",
            " 2   customer_zip_code_prefix  99441 non-null  int64 \n",
            " 3   customer_city             99441 non-null  object\n",
            " 4   customer_state            99441 non-null  object\n",
            "dtypes: int64(1), object(4)\n",
            "memory usage: 3.8+ MB\n"
          ]
        }
      ],
      "source": [
        "customers_df.info()"
      ]
    },
    {
      "cell_type": "code",
      "execution_count": 108,
      "metadata": {
        "colab": {
          "base_uri": "https://localhost:8080/",
          "height": 318
        },
        "id": "4bav9H1WgGE_",
        "outputId": "cfedc3a9-cb7c-4b61-d3bb-fefb81078da8"
      },
      "outputs": [
        {
          "name": "stdout",
          "output_type": "stream",
          "text": [
            "Jumlah duplikasi:  0\n"
          ]
        },
        {
          "data": {
            "text/html": [
              "<div>\n",
              "<style scoped>\n",
              "    .dataframe tbody tr th:only-of-type {\n",
              "        vertical-align: middle;\n",
              "    }\n",
              "\n",
              "    .dataframe tbody tr th {\n",
              "        vertical-align: top;\n",
              "    }\n",
              "\n",
              "    .dataframe thead th {\n",
              "        text-align: right;\n",
              "    }\n",
              "</style>\n",
              "<table border=\"1\" class=\"dataframe\">\n",
              "  <thead>\n",
              "    <tr style=\"text-align: right;\">\n",
              "      <th></th>\n",
              "      <th>customer_zip_code_prefix</th>\n",
              "    </tr>\n",
              "  </thead>\n",
              "  <tbody>\n",
              "    <tr>\n",
              "      <th>count</th>\n",
              "      <td>99441.000000</td>\n",
              "    </tr>\n",
              "    <tr>\n",
              "      <th>mean</th>\n",
              "      <td>35137.474583</td>\n",
              "    </tr>\n",
              "    <tr>\n",
              "      <th>std</th>\n",
              "      <td>29797.938996</td>\n",
              "    </tr>\n",
              "    <tr>\n",
              "      <th>min</th>\n",
              "      <td>1003.000000</td>\n",
              "    </tr>\n",
              "    <tr>\n",
              "      <th>25%</th>\n",
              "      <td>11347.000000</td>\n",
              "    </tr>\n",
              "    <tr>\n",
              "      <th>50%</th>\n",
              "      <td>24416.000000</td>\n",
              "    </tr>\n",
              "    <tr>\n",
              "      <th>75%</th>\n",
              "      <td>58900.000000</td>\n",
              "    </tr>\n",
              "    <tr>\n",
              "      <th>max</th>\n",
              "      <td>99990.000000</td>\n",
              "    </tr>\n",
              "  </tbody>\n",
              "</table>\n",
              "</div>"
            ],
            "text/plain": [
              "       customer_zip_code_prefix\n",
              "count              99441.000000\n",
              "mean               35137.474583\n",
              "std                29797.938996\n",
              "min                 1003.000000\n",
              "25%                11347.000000\n",
              "50%                24416.000000\n",
              "75%                58900.000000\n",
              "max                99990.000000"
            ]
          },
          "execution_count": 108,
          "metadata": {},
          "output_type": "execute_result"
        }
      ],
      "source": [
        "print(\"Jumlah duplikasi: \", customers_df.duplicated().sum())\n",
        "customers_df.describe()"
      ]
    },
    {
      "cell_type": "markdown",
      "metadata": {
        "id": "7dtxhAPrkhPL"
      },
      "source": [
        "**Insight:**\n",
        "- Tidak terdapat duplikasi data.\n",
        "- Data customer memiliki 99441 baris dan 5 kolom\n",
        "\n"
      ]
    },
    {
      "cell_type": "markdown",
      "metadata": {
        "id": "o7yVSxoshWRL"
      },
      "source": [
        "####Menilai Table `geolocation_df`\n"
      ]
    },
    {
      "cell_type": "code",
      "execution_count": 109,
      "metadata": {
        "colab": {
          "base_uri": "https://localhost:8080/"
        },
        "id": "qkKASobkhQU4",
        "outputId": "f0ec09c6-f86a-4f6c-9db3-1d3c264b6a7a"
      },
      "outputs": [
        {
          "name": "stdout",
          "output_type": "stream",
          "text": [
            "<class 'pandas.core.frame.DataFrame'>\n",
            "RangeIndex: 1000163 entries, 0 to 1000162\n",
            "Data columns (total 5 columns):\n",
            " #   Column                       Non-Null Count    Dtype  \n",
            "---  ------                       --------------    -----  \n",
            " 0   geolocation_zip_code_prefix  1000163 non-null  int64  \n",
            " 1   geolocation_lat              1000163 non-null  float64\n",
            " 2   geolocation_lng              1000163 non-null  float64\n",
            " 3   geolocation_city             1000163 non-null  object \n",
            " 4   geolocation_state            1000163 non-null  object \n",
            "dtypes: float64(2), int64(1), object(2)\n",
            "memory usage: 38.2+ MB\n"
          ]
        }
      ],
      "source": [
        "geolocation_df.info()"
      ]
    },
    {
      "cell_type": "code",
      "execution_count": 110,
      "metadata": {
        "colab": {
          "base_uri": "https://localhost:8080/",
          "height": 318
        },
        "id": "P0mE1x3BhaPP",
        "outputId": "ffafa4a0-4fc4-45d7-b84e-b5f843d00cee"
      },
      "outputs": [
        {
          "name": "stdout",
          "output_type": "stream",
          "text": [
            "Jumlah duplikasi:  261831\n"
          ]
        },
        {
          "data": {
            "text/html": [
              "<div>\n",
              "<style scoped>\n",
              "    .dataframe tbody tr th:only-of-type {\n",
              "        vertical-align: middle;\n",
              "    }\n",
              "\n",
              "    .dataframe tbody tr th {\n",
              "        vertical-align: top;\n",
              "    }\n",
              "\n",
              "    .dataframe thead th {\n",
              "        text-align: right;\n",
              "    }\n",
              "</style>\n",
              "<table border=\"1\" class=\"dataframe\">\n",
              "  <thead>\n",
              "    <tr style=\"text-align: right;\">\n",
              "      <th></th>\n",
              "      <th>geolocation_zip_code_prefix</th>\n",
              "      <th>geolocation_lat</th>\n",
              "      <th>geolocation_lng</th>\n",
              "    </tr>\n",
              "  </thead>\n",
              "  <tbody>\n",
              "    <tr>\n",
              "      <th>count</th>\n",
              "      <td>1.000163e+06</td>\n",
              "      <td>1.000163e+06</td>\n",
              "      <td>1.000163e+06</td>\n",
              "    </tr>\n",
              "    <tr>\n",
              "      <th>mean</th>\n",
              "      <td>3.657417e+04</td>\n",
              "      <td>-2.117615e+01</td>\n",
              "      <td>-4.639054e+01</td>\n",
              "    </tr>\n",
              "    <tr>\n",
              "      <th>std</th>\n",
              "      <td>3.054934e+04</td>\n",
              "      <td>5.715866e+00</td>\n",
              "      <td>4.269748e+00</td>\n",
              "    </tr>\n",
              "    <tr>\n",
              "      <th>min</th>\n",
              "      <td>1.001000e+03</td>\n",
              "      <td>-3.660537e+01</td>\n",
              "      <td>-1.014668e+02</td>\n",
              "    </tr>\n",
              "    <tr>\n",
              "      <th>25%</th>\n",
              "      <td>1.107500e+04</td>\n",
              "      <td>-2.360355e+01</td>\n",
              "      <td>-4.857317e+01</td>\n",
              "    </tr>\n",
              "    <tr>\n",
              "      <th>50%</th>\n",
              "      <td>2.653000e+04</td>\n",
              "      <td>-2.291938e+01</td>\n",
              "      <td>-4.663788e+01</td>\n",
              "    </tr>\n",
              "    <tr>\n",
              "      <th>75%</th>\n",
              "      <td>6.350400e+04</td>\n",
              "      <td>-1.997962e+01</td>\n",
              "      <td>-4.376771e+01</td>\n",
              "    </tr>\n",
              "    <tr>\n",
              "      <th>max</th>\n",
              "      <td>9.999000e+04</td>\n",
              "      <td>4.506593e+01</td>\n",
              "      <td>1.211054e+02</td>\n",
              "    </tr>\n",
              "  </tbody>\n",
              "</table>\n",
              "</div>"
            ],
            "text/plain": [
              "       geolocation_zip_code_prefix  geolocation_lat  geolocation_lng\n",
              "count                 1.000163e+06     1.000163e+06     1.000163e+06\n",
              "mean                  3.657417e+04    -2.117615e+01    -4.639054e+01\n",
              "std                   3.054934e+04     5.715866e+00     4.269748e+00\n",
              "min                   1.001000e+03    -3.660537e+01    -1.014668e+02\n",
              "25%                   1.107500e+04    -2.360355e+01    -4.857317e+01\n",
              "50%                   2.653000e+04    -2.291938e+01    -4.663788e+01\n",
              "75%                   6.350400e+04    -1.997962e+01    -4.376771e+01\n",
              "max                   9.999000e+04     4.506593e+01     1.211054e+02"
            ]
          },
          "execution_count": 110,
          "metadata": {},
          "output_type": "execute_result"
        }
      ],
      "source": [
        "print(\"Jumlah duplikasi: \", geolocation_df.duplicated().sum())\n",
        "geolocation_df.describe()"
      ]
    },
    {
      "cell_type": "code",
      "execution_count": 111,
      "metadata": {
        "colab": {
          "base_uri": "https://localhost:8080/",
          "height": 490
        },
        "id": "R9HCLqRIrBE2",
        "outputId": "8ad72b37-a84d-42be-84c9-8332cd594d96"
      },
      "outputs": [
        {
          "data": {
            "text/plain": [
              "geolocation_city\n",
              "* cidade                   1\n",
              "pau brasil                 1\n",
              "patu                       1\n",
              "patrocínio paulista        1\n",
              "patrocínio do muriaé       1\n",
              "                        ... \n",
              "rio de janeiro           404\n",
              "brasília                 406\n",
              "brasilia                 496\n",
              "são paulo               3013\n",
              "sao paulo               3171\n",
              "Name: geolocation_zip_code_prefix, Length: 8011, dtype: int64"
            ]
          },
          "execution_count": 111,
          "metadata": {},
          "output_type": "execute_result"
        }
      ],
      "source": [
        "geolocation_df.groupby(by=\"geolocation_city\").geolocation_zip_code_prefix.nunique().sort_values(ascending=True)"
      ]
    },
    {
      "cell_type": "markdown",
      "metadata": {
        "id": "s66ZXrZmhWRN"
      },
      "source": [
        "**Insight:**\n",
        "- data geolocation memiliki 261831 duplikasi data\n",
        "- data tidak konsisten terlihat dari penulisan kota yang berbeda seperti sao paulo dan são paulo.\n"
      ]
    },
    {
      "cell_type": "markdown",
      "metadata": {
        "id": "gBdAn62EgHsG"
      },
      "source": [
        "####Menilai Table `orders_df`\n"
      ]
    },
    {
      "cell_type": "code",
      "execution_count": 112,
      "metadata": {
        "colab": {
          "base_uri": "https://localhost:8080/"
        },
        "id": "uElBz6mwigyw",
        "outputId": "170a7fe8-62a0-4e9c-ca20-7fa1ed41f079"
      },
      "outputs": [
        {
          "name": "stdout",
          "output_type": "stream",
          "text": [
            "<class 'pandas.core.frame.DataFrame'>\n",
            "RangeIndex: 99441 entries, 0 to 99440\n",
            "Data columns (total 8 columns):\n",
            " #   Column                         Non-Null Count  Dtype \n",
            "---  ------                         --------------  ----- \n",
            " 0   order_id                       99441 non-null  object\n",
            " 1   customer_id                    99441 non-null  object\n",
            " 2   order_status                   99441 non-null  object\n",
            " 3   order_purchase_timestamp       99441 non-null  object\n",
            " 4   order_approved_at              99281 non-null  object\n",
            " 5   order_delivered_carrier_date   97658 non-null  object\n",
            " 6   order_delivered_customer_date  96476 non-null  object\n",
            " 7   order_estimated_delivery_date  99441 non-null  object\n",
            "dtypes: object(8)\n",
            "memory usage: 6.1+ MB\n"
          ]
        }
      ],
      "source": [
        "orders_df.info()"
      ]
    },
    {
      "cell_type": "code",
      "execution_count": 113,
      "metadata": {
        "colab": {
          "base_uri": "https://localhost:8080/",
          "height": 335
        },
        "id": "a53tcoBzmZTK",
        "outputId": "1d391a32-ee2a-48cb-f6f5-42ca4a008332"
      },
      "outputs": [
        {
          "data": {
            "text/plain": [
              "order_id                            0\n",
              "customer_id                         0\n",
              "order_status                        0\n",
              "order_purchase_timestamp            0\n",
              "order_approved_at                 160\n",
              "order_delivered_carrier_date     1783\n",
              "order_delivered_customer_date    2965\n",
              "order_estimated_delivery_date       0\n",
              "dtype: int64"
            ]
          },
          "execution_count": 113,
          "metadata": {},
          "output_type": "execute_result"
        }
      ],
      "source": [
        "orders_df.isna().sum()"
      ]
    },
    {
      "cell_type": "code",
      "execution_count": 114,
      "metadata": {
        "colab": {
          "base_uri": "https://localhost:8080/",
          "height": 212
        },
        "id": "c-uYaMe0jfzG",
        "outputId": "6a4ece67-29bb-4947-befd-10f1f5979b1b"
      },
      "outputs": [
        {
          "name": "stdout",
          "output_type": "stream",
          "text": [
            "Jumlah duplikasi:  0\n"
          ]
        },
        {
          "data": {
            "text/html": [
              "<div>\n",
              "<style scoped>\n",
              "    .dataframe tbody tr th:only-of-type {\n",
              "        vertical-align: middle;\n",
              "    }\n",
              "\n",
              "    .dataframe tbody tr th {\n",
              "        vertical-align: top;\n",
              "    }\n",
              "\n",
              "    .dataframe thead th {\n",
              "        text-align: right;\n",
              "    }\n",
              "</style>\n",
              "<table border=\"1\" class=\"dataframe\">\n",
              "  <thead>\n",
              "    <tr style=\"text-align: right;\">\n",
              "      <th></th>\n",
              "      <th>order_id</th>\n",
              "      <th>customer_id</th>\n",
              "      <th>order_status</th>\n",
              "      <th>order_purchase_timestamp</th>\n",
              "      <th>order_approved_at</th>\n",
              "      <th>order_delivered_carrier_date</th>\n",
              "      <th>order_delivered_customer_date</th>\n",
              "      <th>order_estimated_delivery_date</th>\n",
              "    </tr>\n",
              "  </thead>\n",
              "  <tbody>\n",
              "    <tr>\n",
              "      <th>count</th>\n",
              "      <td>99441</td>\n",
              "      <td>99441</td>\n",
              "      <td>99441</td>\n",
              "      <td>99441</td>\n",
              "      <td>99281</td>\n",
              "      <td>97658</td>\n",
              "      <td>96476</td>\n",
              "      <td>99441</td>\n",
              "    </tr>\n",
              "    <tr>\n",
              "      <th>unique</th>\n",
              "      <td>99441</td>\n",
              "      <td>99441</td>\n",
              "      <td>8</td>\n",
              "      <td>98875</td>\n",
              "      <td>90733</td>\n",
              "      <td>81018</td>\n",
              "      <td>95664</td>\n",
              "      <td>459</td>\n",
              "    </tr>\n",
              "    <tr>\n",
              "      <th>top</th>\n",
              "      <td>e481f51cbdc54678b7cc49136f2d6af7</td>\n",
              "      <td>9ef432eb6251297304e76186b10a928d</td>\n",
              "      <td>delivered</td>\n",
              "      <td>2018-04-11 10:48:14</td>\n",
              "      <td>2018-02-27 04:31:10</td>\n",
              "      <td>2018-05-09 15:48:00</td>\n",
              "      <td>2018-05-08 23:38:46</td>\n",
              "      <td>2017-12-20 00:00:00</td>\n",
              "    </tr>\n",
              "    <tr>\n",
              "      <th>freq</th>\n",
              "      <td>1</td>\n",
              "      <td>1</td>\n",
              "      <td>96478</td>\n",
              "      <td>3</td>\n",
              "      <td>9</td>\n",
              "      <td>47</td>\n",
              "      <td>3</td>\n",
              "      <td>522</td>\n",
              "    </tr>\n",
              "  </tbody>\n",
              "</table>\n",
              "</div>"
            ],
            "text/plain": [
              "                                order_id                       customer_id  \\\n",
              "count                              99441                             99441   \n",
              "unique                             99441                             99441   \n",
              "top     e481f51cbdc54678b7cc49136f2d6af7  9ef432eb6251297304e76186b10a928d   \n",
              "freq                                   1                                 1   \n",
              "\n",
              "       order_status order_purchase_timestamp    order_approved_at  \\\n",
              "count         99441                    99441                99281   \n",
              "unique            8                    98875                90733   \n",
              "top       delivered      2018-04-11 10:48:14  2018-02-27 04:31:10   \n",
              "freq          96478                        3                    9   \n",
              "\n",
              "       order_delivered_carrier_date order_delivered_customer_date  \\\n",
              "count                         97658                         96476   \n",
              "unique                        81018                         95664   \n",
              "top             2018-05-09 15:48:00           2018-05-08 23:38:46   \n",
              "freq                             47                             3   \n",
              "\n",
              "       order_estimated_delivery_date  \n",
              "count                          99441  \n",
              "unique                           459  \n",
              "top              2017-12-20 00:00:00  \n",
              "freq                             522  "
            ]
          },
          "execution_count": 114,
          "metadata": {},
          "output_type": "execute_result"
        }
      ],
      "source": [
        "print(\"Jumlah duplikasi: \", orders_df.duplicated().sum())\n",
        "orders_df.describe()"
      ]
    },
    {
      "cell_type": "markdown",
      "metadata": {
        "id": "YPFiyoyEeWnV"
      },
      "source": [
        "**Insight:**\n",
        "- Terdapat kesalahan tipe data pada kolom order_purchase_timestamp, order_delivered_carrier_date, order_delivered_customer_date , dan order_estimated_delivery_date\n",
        "\n",
        "- Terdapat missing value pada kolom order_approved_at, order_delivered_carrier_date, dan order_delivered_customer_date"
      ]
    },
    {
      "cell_type": "markdown",
      "metadata": {
        "id": "oFH833zmhosu"
      },
      "source": [
        "####Menilai Table `orderItems_df`\n"
      ]
    },
    {
      "cell_type": "code",
      "execution_count": 115,
      "metadata": {
        "colab": {
          "base_uri": "https://localhost:8080/"
        },
        "id": "ZUnpbyNEnRkn",
        "outputId": "d398d839-5664-4669-db49-2aa6e0a07771"
      },
      "outputs": [
        {
          "name": "stdout",
          "output_type": "stream",
          "text": [
            "<class 'pandas.core.frame.DataFrame'>\n",
            "RangeIndex: 112650 entries, 0 to 112649\n",
            "Data columns (total 7 columns):\n",
            " #   Column               Non-Null Count   Dtype  \n",
            "---  ------               --------------   -----  \n",
            " 0   order_id             112650 non-null  object \n",
            " 1   order_item_id        112650 non-null  int64  \n",
            " 2   product_id           112650 non-null  object \n",
            " 3   seller_id            112650 non-null  object \n",
            " 4   shipping_limit_date  112650 non-null  object \n",
            " 5   price                112650 non-null  float64\n",
            " 6   freight_value        112650 non-null  float64\n",
            "dtypes: float64(2), int64(1), object(4)\n",
            "memory usage: 6.0+ MB\n"
          ]
        }
      ],
      "source": [
        "orderItems_df.info()"
      ]
    },
    {
      "cell_type": "code",
      "execution_count": 116,
      "metadata": {
        "colab": {
          "base_uri": "https://localhost:8080/",
          "height": 318
        },
        "id": "XMZaMwScng4H",
        "outputId": "b1addec7-566b-4050-df71-ac26d75a2a24"
      },
      "outputs": [
        {
          "name": "stdout",
          "output_type": "stream",
          "text": [
            "Jumlah duplikasi:  0\n"
          ]
        },
        {
          "data": {
            "text/html": [
              "<div>\n",
              "<style scoped>\n",
              "    .dataframe tbody tr th:only-of-type {\n",
              "        vertical-align: middle;\n",
              "    }\n",
              "\n",
              "    .dataframe tbody tr th {\n",
              "        vertical-align: top;\n",
              "    }\n",
              "\n",
              "    .dataframe thead th {\n",
              "        text-align: right;\n",
              "    }\n",
              "</style>\n",
              "<table border=\"1\" class=\"dataframe\">\n",
              "  <thead>\n",
              "    <tr style=\"text-align: right;\">\n",
              "      <th></th>\n",
              "      <th>order_item_id</th>\n",
              "      <th>price</th>\n",
              "      <th>freight_value</th>\n",
              "    </tr>\n",
              "  </thead>\n",
              "  <tbody>\n",
              "    <tr>\n",
              "      <th>count</th>\n",
              "      <td>112650.000000</td>\n",
              "      <td>112650.000000</td>\n",
              "      <td>112650.000000</td>\n",
              "    </tr>\n",
              "    <tr>\n",
              "      <th>mean</th>\n",
              "      <td>1.197834</td>\n",
              "      <td>120.653739</td>\n",
              "      <td>19.990320</td>\n",
              "    </tr>\n",
              "    <tr>\n",
              "      <th>std</th>\n",
              "      <td>0.705124</td>\n",
              "      <td>183.633928</td>\n",
              "      <td>15.806405</td>\n",
              "    </tr>\n",
              "    <tr>\n",
              "      <th>min</th>\n",
              "      <td>1.000000</td>\n",
              "      <td>0.850000</td>\n",
              "      <td>0.000000</td>\n",
              "    </tr>\n",
              "    <tr>\n",
              "      <th>25%</th>\n",
              "      <td>1.000000</td>\n",
              "      <td>39.900000</td>\n",
              "      <td>13.080000</td>\n",
              "    </tr>\n",
              "    <tr>\n",
              "      <th>50%</th>\n",
              "      <td>1.000000</td>\n",
              "      <td>74.990000</td>\n",
              "      <td>16.260000</td>\n",
              "    </tr>\n",
              "    <tr>\n",
              "      <th>75%</th>\n",
              "      <td>1.000000</td>\n",
              "      <td>134.900000</td>\n",
              "      <td>21.150000</td>\n",
              "    </tr>\n",
              "    <tr>\n",
              "      <th>max</th>\n",
              "      <td>21.000000</td>\n",
              "      <td>6735.000000</td>\n",
              "      <td>409.680000</td>\n",
              "    </tr>\n",
              "  </tbody>\n",
              "</table>\n",
              "</div>"
            ],
            "text/plain": [
              "       order_item_id          price  freight_value\n",
              "count  112650.000000  112650.000000  112650.000000\n",
              "mean        1.197834     120.653739      19.990320\n",
              "std         0.705124     183.633928      15.806405\n",
              "min         1.000000       0.850000       0.000000\n",
              "25%         1.000000      39.900000      13.080000\n",
              "50%         1.000000      74.990000      16.260000\n",
              "75%         1.000000     134.900000      21.150000\n",
              "max        21.000000    6735.000000     409.680000"
            ]
          },
          "execution_count": 116,
          "metadata": {},
          "output_type": "execute_result"
        }
      ],
      "source": [
        "print(\"Jumlah duplikasi: \", orderItems_df.duplicated().sum())\n",
        "orderItems_df.describe()"
      ]
    },
    {
      "cell_type": "markdown",
      "metadata": {
        "id": "M9OAXJ2xhosv"
      },
      "source": [
        "**Insight:**\n",
        "- Terdapat kesalahan tipe data pada kolom shipping_limit_date.\n",
        "- Perlu dilakukan pemeriksaan pada kolom biaya pengiriman (freight_value) yang memiliki nilai 0 dan 409, karena nilai tersebut diindikasikan sebagai outlier.  "
      ]
    },
    {
      "cell_type": "markdown",
      "metadata": {
        "id": "lrTbtTs4iIe0"
      },
      "source": [
        "####Menilai Table `orderPayments_df`\n"
      ]
    },
    {
      "cell_type": "code",
      "execution_count": 117,
      "metadata": {
        "colab": {
          "base_uri": "https://localhost:8080/"
        },
        "id": "ATbuq1vGmKFT",
        "outputId": "b3f48919-ffe0-45aa-8534-56a3b553ca83"
      },
      "outputs": [
        {
          "name": "stdout",
          "output_type": "stream",
          "text": [
            "<class 'pandas.core.frame.DataFrame'>\n",
            "RangeIndex: 103886 entries, 0 to 103885\n",
            "Data columns (total 5 columns):\n",
            " #   Column                Non-Null Count   Dtype  \n",
            "---  ------                --------------   -----  \n",
            " 0   order_id              103886 non-null  object \n",
            " 1   payment_sequential    103886 non-null  int64  \n",
            " 2   payment_type          103886 non-null  object \n",
            " 3   payment_installments  103886 non-null  int64  \n",
            " 4   payment_value         103886 non-null  float64\n",
            "dtypes: float64(1), int64(2), object(2)\n",
            "memory usage: 4.0+ MB\n"
          ]
        }
      ],
      "source": [
        "orderPayments_df.info()"
      ]
    },
    {
      "cell_type": "code",
      "execution_count": 118,
      "metadata": {
        "colab": {
          "base_uri": "https://localhost:8080/",
          "height": 318
        },
        "id": "8mcY0AcJpWUu",
        "outputId": "fe5c3cfa-9442-4126-e722-e5db094bd59a"
      },
      "outputs": [
        {
          "name": "stdout",
          "output_type": "stream",
          "text": [
            "Jumlah duplikasi:  0\n"
          ]
        },
        {
          "data": {
            "text/html": [
              "<div>\n",
              "<style scoped>\n",
              "    .dataframe tbody tr th:only-of-type {\n",
              "        vertical-align: middle;\n",
              "    }\n",
              "\n",
              "    .dataframe tbody tr th {\n",
              "        vertical-align: top;\n",
              "    }\n",
              "\n",
              "    .dataframe thead th {\n",
              "        text-align: right;\n",
              "    }\n",
              "</style>\n",
              "<table border=\"1\" class=\"dataframe\">\n",
              "  <thead>\n",
              "    <tr style=\"text-align: right;\">\n",
              "      <th></th>\n",
              "      <th>payment_sequential</th>\n",
              "      <th>payment_installments</th>\n",
              "      <th>payment_value</th>\n",
              "    </tr>\n",
              "  </thead>\n",
              "  <tbody>\n",
              "    <tr>\n",
              "      <th>count</th>\n",
              "      <td>103886.000000</td>\n",
              "      <td>103886.000000</td>\n",
              "      <td>103886.000000</td>\n",
              "    </tr>\n",
              "    <tr>\n",
              "      <th>mean</th>\n",
              "      <td>1.092679</td>\n",
              "      <td>2.853349</td>\n",
              "      <td>154.100380</td>\n",
              "    </tr>\n",
              "    <tr>\n",
              "      <th>std</th>\n",
              "      <td>0.706584</td>\n",
              "      <td>2.687051</td>\n",
              "      <td>217.494064</td>\n",
              "    </tr>\n",
              "    <tr>\n",
              "      <th>min</th>\n",
              "      <td>1.000000</td>\n",
              "      <td>0.000000</td>\n",
              "      <td>0.000000</td>\n",
              "    </tr>\n",
              "    <tr>\n",
              "      <th>25%</th>\n",
              "      <td>1.000000</td>\n",
              "      <td>1.000000</td>\n",
              "      <td>56.790000</td>\n",
              "    </tr>\n",
              "    <tr>\n",
              "      <th>50%</th>\n",
              "      <td>1.000000</td>\n",
              "      <td>1.000000</td>\n",
              "      <td>100.000000</td>\n",
              "    </tr>\n",
              "    <tr>\n",
              "      <th>75%</th>\n",
              "      <td>1.000000</td>\n",
              "      <td>4.000000</td>\n",
              "      <td>171.837500</td>\n",
              "    </tr>\n",
              "    <tr>\n",
              "      <th>max</th>\n",
              "      <td>29.000000</td>\n",
              "      <td>24.000000</td>\n",
              "      <td>13664.080000</td>\n",
              "    </tr>\n",
              "  </tbody>\n",
              "</table>\n",
              "</div>"
            ],
            "text/plain": [
              "       payment_sequential  payment_installments  payment_value\n",
              "count       103886.000000         103886.000000  103886.000000\n",
              "mean             1.092679              2.853349     154.100380\n",
              "std              0.706584              2.687051     217.494064\n",
              "min              1.000000              0.000000       0.000000\n",
              "25%              1.000000              1.000000      56.790000\n",
              "50%              1.000000              1.000000     100.000000\n",
              "75%              1.000000              4.000000     171.837500\n",
              "max             29.000000             24.000000   13664.080000"
            ]
          },
          "execution_count": 118,
          "metadata": {},
          "output_type": "execute_result"
        }
      ],
      "source": [
        "print(\"Jumlah duplikasi: \", orderPayments_df.duplicated().sum())\n",
        "orderPayments_df.describe()"
      ]
    },
    {
      "cell_type": "markdown",
      "metadata": {
        "id": "gmLrIT6NiIe1"
      },
      "source": [
        "**Insight:**\n",
        "- Data tidak memiliki duplikasi\n",
        "- Kemungkinan ada transaksi besar dimana nilai rata-rata pembayaran (payment_value) = 154.1 tetapi nilai maksimumnya mencapai 103886."
      ]
    },
    {
      "cell_type": "markdown",
      "metadata": {
        "id": "zmzKt7kKjsS8"
      },
      "source": [
        "####Menilai Table `product_df`\n"
      ]
    },
    {
      "cell_type": "code",
      "execution_count": 119,
      "metadata": {
        "colab": {
          "base_uri": "https://localhost:8080/"
        },
        "id": "Nu6lgdbrUqjS",
        "outputId": "7e625585-9019-4d00-eb2a-106d7e58c282"
      },
      "outputs": [
        {
          "name": "stdout",
          "output_type": "stream",
          "text": [
            "<class 'pandas.core.frame.DataFrame'>\n",
            "RangeIndex: 32951 entries, 0 to 32950\n",
            "Data columns (total 9 columns):\n",
            " #   Column                      Non-Null Count  Dtype  \n",
            "---  ------                      --------------  -----  \n",
            " 0   product_id                  32951 non-null  object \n",
            " 1   product_category_name       32341 non-null  object \n",
            " 2   product_name_lenght         32341 non-null  float64\n",
            " 3   product_description_lenght  32341 non-null  float64\n",
            " 4   product_photos_qty          32341 non-null  float64\n",
            " 5   product_weight_g            32949 non-null  float64\n",
            " 6   product_length_cm           32949 non-null  float64\n",
            " 7   product_height_cm           32949 non-null  float64\n",
            " 8   product_width_cm            32949 non-null  float64\n",
            "dtypes: float64(7), object(2)\n",
            "memory usage: 2.3+ MB\n"
          ]
        }
      ],
      "source": [
        "product_df.info()"
      ]
    },
    {
      "cell_type": "code",
      "execution_count": 120,
      "metadata": {
        "colab": {
          "base_uri": "https://localhost:8080/",
          "height": 366
        },
        "id": "Ba3M7wGNWUYW",
        "outputId": "0be4e7ea-d2b3-4008-c474-e5a4663d2ea2"
      },
      "outputs": [
        {
          "data": {
            "text/plain": [
              "product_id                      0\n",
              "product_category_name         610\n",
              "product_name_lenght           610\n",
              "product_description_lenght    610\n",
              "product_photos_qty            610\n",
              "product_weight_g                2\n",
              "product_length_cm               2\n",
              "product_height_cm               2\n",
              "product_width_cm                2\n",
              "dtype: int64"
            ]
          },
          "execution_count": 120,
          "metadata": {},
          "output_type": "execute_result"
        }
      ],
      "source": [
        "product_df.isna().sum()"
      ]
    },
    {
      "cell_type": "code",
      "execution_count": 121,
      "metadata": {
        "colab": {
          "base_uri": "https://localhost:8080/",
          "height": 338
        },
        "id": "h6WDngycWcVP",
        "outputId": "cf24d938-9d78-4ec8-aca3-28fdb3f69dc2"
      },
      "outputs": [
        {
          "name": "stdout",
          "output_type": "stream",
          "text": [
            "Jumlah duplikasi:  0\n"
          ]
        },
        {
          "data": {
            "text/html": [
              "<div>\n",
              "<style scoped>\n",
              "    .dataframe tbody tr th:only-of-type {\n",
              "        vertical-align: middle;\n",
              "    }\n",
              "\n",
              "    .dataframe tbody tr th {\n",
              "        vertical-align: top;\n",
              "    }\n",
              "\n",
              "    .dataframe thead th {\n",
              "        text-align: right;\n",
              "    }\n",
              "</style>\n",
              "<table border=\"1\" class=\"dataframe\">\n",
              "  <thead>\n",
              "    <tr style=\"text-align: right;\">\n",
              "      <th></th>\n",
              "      <th>product_name_lenght</th>\n",
              "      <th>product_description_lenght</th>\n",
              "      <th>product_photos_qty</th>\n",
              "      <th>product_weight_g</th>\n",
              "      <th>product_length_cm</th>\n",
              "      <th>product_height_cm</th>\n",
              "      <th>product_width_cm</th>\n",
              "    </tr>\n",
              "  </thead>\n",
              "  <tbody>\n",
              "    <tr>\n",
              "      <th>count</th>\n",
              "      <td>32341.000000</td>\n",
              "      <td>32341.000000</td>\n",
              "      <td>32341.000000</td>\n",
              "      <td>32949.000000</td>\n",
              "      <td>32949.000000</td>\n",
              "      <td>32949.000000</td>\n",
              "      <td>32949.000000</td>\n",
              "    </tr>\n",
              "    <tr>\n",
              "      <th>mean</th>\n",
              "      <td>48.476949</td>\n",
              "      <td>771.495285</td>\n",
              "      <td>2.188986</td>\n",
              "      <td>2276.472488</td>\n",
              "      <td>30.815078</td>\n",
              "      <td>16.937661</td>\n",
              "      <td>23.196728</td>\n",
              "    </tr>\n",
              "    <tr>\n",
              "      <th>std</th>\n",
              "      <td>10.245741</td>\n",
              "      <td>635.115225</td>\n",
              "      <td>1.736766</td>\n",
              "      <td>4282.038731</td>\n",
              "      <td>16.914458</td>\n",
              "      <td>13.637554</td>\n",
              "      <td>12.079047</td>\n",
              "    </tr>\n",
              "    <tr>\n",
              "      <th>min</th>\n",
              "      <td>5.000000</td>\n",
              "      <td>4.000000</td>\n",
              "      <td>1.000000</td>\n",
              "      <td>0.000000</td>\n",
              "      <td>7.000000</td>\n",
              "      <td>2.000000</td>\n",
              "      <td>6.000000</td>\n",
              "    </tr>\n",
              "    <tr>\n",
              "      <th>25%</th>\n",
              "      <td>42.000000</td>\n",
              "      <td>339.000000</td>\n",
              "      <td>1.000000</td>\n",
              "      <td>300.000000</td>\n",
              "      <td>18.000000</td>\n",
              "      <td>8.000000</td>\n",
              "      <td>15.000000</td>\n",
              "    </tr>\n",
              "    <tr>\n",
              "      <th>50%</th>\n",
              "      <td>51.000000</td>\n",
              "      <td>595.000000</td>\n",
              "      <td>1.000000</td>\n",
              "      <td>700.000000</td>\n",
              "      <td>25.000000</td>\n",
              "      <td>13.000000</td>\n",
              "      <td>20.000000</td>\n",
              "    </tr>\n",
              "    <tr>\n",
              "      <th>75%</th>\n",
              "      <td>57.000000</td>\n",
              "      <td>972.000000</td>\n",
              "      <td>3.000000</td>\n",
              "      <td>1900.000000</td>\n",
              "      <td>38.000000</td>\n",
              "      <td>21.000000</td>\n",
              "      <td>30.000000</td>\n",
              "    </tr>\n",
              "    <tr>\n",
              "      <th>max</th>\n",
              "      <td>76.000000</td>\n",
              "      <td>3992.000000</td>\n",
              "      <td>20.000000</td>\n",
              "      <td>40425.000000</td>\n",
              "      <td>105.000000</td>\n",
              "      <td>105.000000</td>\n",
              "      <td>118.000000</td>\n",
              "    </tr>\n",
              "  </tbody>\n",
              "</table>\n",
              "</div>"
            ],
            "text/plain": [
              "       product_name_lenght  product_description_lenght  product_photos_qty  \\\n",
              "count         32341.000000                32341.000000        32341.000000   \n",
              "mean             48.476949                  771.495285            2.188986   \n",
              "std              10.245741                  635.115225            1.736766   \n",
              "min               5.000000                    4.000000            1.000000   \n",
              "25%              42.000000                  339.000000            1.000000   \n",
              "50%              51.000000                  595.000000            1.000000   \n",
              "75%              57.000000                  972.000000            3.000000   \n",
              "max              76.000000                 3992.000000           20.000000   \n",
              "\n",
              "       product_weight_g  product_length_cm  product_height_cm  \\\n",
              "count      32949.000000       32949.000000       32949.000000   \n",
              "mean        2276.472488          30.815078          16.937661   \n",
              "std         4282.038731          16.914458          13.637554   \n",
              "min            0.000000           7.000000           2.000000   \n",
              "25%          300.000000          18.000000           8.000000   \n",
              "50%          700.000000          25.000000          13.000000   \n",
              "75%         1900.000000          38.000000          21.000000   \n",
              "max        40425.000000         105.000000         105.000000   \n",
              "\n",
              "       product_width_cm  \n",
              "count      32949.000000  \n",
              "mean          23.196728  \n",
              "std           12.079047  \n",
              "min            6.000000  \n",
              "25%           15.000000  \n",
              "50%           20.000000  \n",
              "75%           30.000000  \n",
              "max          118.000000  "
            ]
          },
          "execution_count": 121,
          "metadata": {},
          "output_type": "execute_result"
        }
      ],
      "source": [
        "print(\"Jumlah duplikasi: \", product_df.duplicated().sum())\n",
        "product_df.describe()"
      ]
    },
    {
      "cell_type": "markdown",
      "metadata": {
        "id": "RwHWqlFrjsS9"
      },
      "source": [
        "**Insight:**\n",
        "- Terdapat Missing value pada 9 kolom  \n",
        "- Berat produk (product_weight_g) memiliki nilai rata-rata = 2276(2.2 kg) tetapi nilai maksimum mencapai 40425(40.4 kg)"
      ]
    },
    {
      "cell_type": "markdown",
      "metadata": {
        "id": "EhN5R4hr8DC1"
      },
      "source": [
        "### Cleaning Data"
      ]
    },
    {
      "cell_type": "markdown",
      "metadata": {
        "id": "oJyarRRvhSZz"
      },
      "source": [
        "####Membersihkan Tabel `geolocation_df`"
      ]
    },
    {
      "cell_type": "code",
      "execution_count": 122,
      "metadata": {
        "colab": {
          "base_uri": "https://localhost:8080/"
        },
        "id": "hXLGhvdfh59L",
        "outputId": "603bbf32-6e1a-450d-e58f-b0e320bd00b3"
      },
      "outputs": [
        {
          "name": "stdout",
          "output_type": "stream",
          "text": [
            "<class 'pandas.core.frame.DataFrame'>\n",
            "RangeIndex: 1000163 entries, 0 to 1000162\n",
            "Data columns (total 5 columns):\n",
            " #   Column                       Non-Null Count    Dtype  \n",
            "---  ------                       --------------    -----  \n",
            " 0   geolocation_zip_code_prefix  1000163 non-null  int64  \n",
            " 1   geolocation_lat              1000163 non-null  float64\n",
            " 2   geolocation_lng              1000163 non-null  float64\n",
            " 3   geolocation_city             1000163 non-null  object \n",
            " 4   geolocation_state            1000163 non-null  object \n",
            "dtypes: float64(2), int64(1), object(2)\n",
            "memory usage: 38.2+ MB\n"
          ]
        }
      ],
      "source": [
        "geolocation_df.info()"
      ]
    },
    {
      "cell_type": "markdown",
      "metadata": {
        "id": "Kowkm6RMhyr-"
      },
      "source": [
        "#####Menghapus duplikasi"
      ]
    },
    {
      "cell_type": "code",
      "execution_count": 123,
      "metadata": {
        "colab": {
          "base_uri": "https://localhost:8080/"
        },
        "id": "5EgdFLSCh37U",
        "outputId": "e038aaca-7b79-4401-fbb9-16b521b98401"
      },
      "outputs": [
        {
          "data": {
            "text/plain": [
              "261831"
            ]
          },
          "execution_count": 123,
          "metadata": {},
          "output_type": "execute_result"
        }
      ],
      "source": [
        "geolocation_df.duplicated().sum()"
      ]
    },
    {
      "cell_type": "code",
      "execution_count": 124,
      "metadata": {
        "colab": {
          "base_uri": "https://localhost:8080/"
        },
        "id": "f4Xyeb5hiFXZ",
        "outputId": "62cbb2be-b647-4afe-d087-0d1b4b365725"
      },
      "outputs": [
        {
          "name": "stdout",
          "output_type": "stream",
          "text": [
            "Jumlah duplikasi:  0\n"
          ]
        }
      ],
      "source": [
        "geolocation_df.drop_duplicates(inplace=True)\n",
        "print(\"Jumlah duplikasi: \", geolocation_df.duplicated().sum())"
      ]
    },
    {
      "cell_type": "code",
      "execution_count": 125,
      "metadata": {
        "colab": {
          "base_uri": "https://localhost:8080/",
          "height": 490
        },
        "id": "HxmO7pLHn8ut",
        "outputId": "e7512661-90c9-471d-8abd-40fca5406751"
      },
      "outputs": [
        {
          "data": {
            "text/plain": [
              "geolocation_city\n",
              "* cidade                   1\n",
              "pau brasil                 1\n",
              "patu                       1\n",
              "patrocínio paulista        1\n",
              "patrocínio do muriaé       1\n",
              "                        ... \n",
              "rio de janeiro           404\n",
              "brasília                 406\n",
              "brasilia                 496\n",
              "são paulo               3013\n",
              "sao paulo               3171\n",
              "Name: geolocation_zip_code_prefix, Length: 8011, dtype: int64"
            ]
          },
          "execution_count": 125,
          "metadata": {},
          "output_type": "execute_result"
        }
      ],
      "source": [
        "geolocation_df.groupby(by=\"geolocation_city\").geolocation_zip_code_prefix.nunique().sort_values(ascending=True)"
      ]
    },
    {
      "cell_type": "code",
      "execution_count": 126,
      "metadata": {
        "colab": {
          "base_uri": "https://localhost:8080/",
          "height": 490
        },
        "id": "v0MyKvvRpUoO",
        "outputId": "34c1988b-b7d1-4fb7-9114-fa9c28b05111"
      },
      "outputs": [
        {
          "data": {
            "text/plain": [
              "geolocation_city\n",
              " cidade                  1\n",
              "paraguacu paulista       1\n",
              "paraguacu                1\n",
              "paracuru                 1\n",
              "paracambi                1\n",
              "                      ... \n",
              "goiania                233\n",
              "salvador               275\n",
              "rio de janeiro         404\n",
              "brasilia               510\n",
              "sao paulo             3185\n",
              "Name: geolocation_zip_code_prefix, Length: 6183, dtype: int64"
            ]
          },
          "execution_count": 126,
          "metadata": {},
          "output_type": "execute_result"
        }
      ],
      "source": [
        "import re\n",
        "# Fungsi untuk menormalisasi nama kota\n",
        "def normalize_city_name(city_name):\n",
        "    city_name = city_name.lower()\n",
        "    city_name = re.sub(r'[\\.\\-_]', '',city_name)\n",
        "    city_name = city_name.replace('á', 'a').replace('é', 'e').replace('ê', 'e').replace('í', 'i').replace('ó', 'o').replace('ú', 'u').replace('ã', 'a').replace('õ', 'o').replace('ç', 'c').replace('*', '')\n",
        "    return city_name\n",
        "\n",
        "# Menerapkan fungsi normalisasi ke kolom geolocation_city\n",
        "geolocation_df['geolocation_city'] = geolocation_df['geolocation_city'].apply(normalize_city_name)\n",
        "geolocation_df.groupby(by=\"geolocation_city\").geolocation_zip_code_prefix.nunique().sort_values(ascending=True)"
      ]
    },
    {
      "cell_type": "code",
      "execution_count": 127,
      "metadata": {
        "colab": {
          "base_uri": "https://localhost:8080/",
          "height": 206
        },
        "id": "Dd-Jr8vZ6enz",
        "outputId": "cdb611b7-1916-4a72-b8b0-3aff6195dcc2"
      },
      "outputs": [
        {
          "data": {
            "text/html": [
              "<div>\n",
              "<style scoped>\n",
              "    .dataframe tbody tr th:only-of-type {\n",
              "        vertical-align: middle;\n",
              "    }\n",
              "\n",
              "    .dataframe tbody tr th {\n",
              "        vertical-align: top;\n",
              "    }\n",
              "\n",
              "    .dataframe thead th {\n",
              "        text-align: right;\n",
              "    }\n",
              "</style>\n",
              "<table border=\"1\" class=\"dataframe\">\n",
              "  <thead>\n",
              "    <tr style=\"text-align: right;\">\n",
              "      <th></th>\n",
              "      <th>geolocation_zip_code_prefix</th>\n",
              "      <th>geolocation_lat</th>\n",
              "      <th>geolocation_lng</th>\n",
              "      <th>geolocation_city</th>\n",
              "      <th>geolocation_state</th>\n",
              "    </tr>\n",
              "  </thead>\n",
              "  <tbody>\n",
              "    <tr>\n",
              "      <th>0</th>\n",
              "      <td>1037</td>\n",
              "      <td>-23.545621</td>\n",
              "      <td>-46.639292</td>\n",
              "      <td>sao paulo</td>\n",
              "      <td>SP</td>\n",
              "    </tr>\n",
              "    <tr>\n",
              "      <th>1</th>\n",
              "      <td>1046</td>\n",
              "      <td>-23.546081</td>\n",
              "      <td>-46.644820</td>\n",
              "      <td>sao paulo</td>\n",
              "      <td>SP</td>\n",
              "    </tr>\n",
              "    <tr>\n",
              "      <th>2</th>\n",
              "      <td>1046</td>\n",
              "      <td>-23.546129</td>\n",
              "      <td>-46.642951</td>\n",
              "      <td>sao paulo</td>\n",
              "      <td>SP</td>\n",
              "    </tr>\n",
              "    <tr>\n",
              "      <th>3</th>\n",
              "      <td>1041</td>\n",
              "      <td>-23.544392</td>\n",
              "      <td>-46.639499</td>\n",
              "      <td>sao paulo</td>\n",
              "      <td>SP</td>\n",
              "    </tr>\n",
              "    <tr>\n",
              "      <th>4</th>\n",
              "      <td>1035</td>\n",
              "      <td>-23.541578</td>\n",
              "      <td>-46.641607</td>\n",
              "      <td>sao paulo</td>\n",
              "      <td>SP</td>\n",
              "    </tr>\n",
              "  </tbody>\n",
              "</table>\n",
              "</div>"
            ],
            "text/plain": [
              "   geolocation_zip_code_prefix  geolocation_lat  geolocation_lng  \\\n",
              "0                         1037       -23.545621       -46.639292   \n",
              "1                         1046       -23.546081       -46.644820   \n",
              "2                         1046       -23.546129       -46.642951   \n",
              "3                         1041       -23.544392       -46.639499   \n",
              "4                         1035       -23.541578       -46.641607   \n",
              "\n",
              "  geolocation_city geolocation_state  \n",
              "0        sao paulo                SP  \n",
              "1        sao paulo                SP  \n",
              "2        sao paulo                SP  \n",
              "3        sao paulo                SP  \n",
              "4        sao paulo                SP  "
            ]
          },
          "execution_count": 127,
          "metadata": {},
          "output_type": "execute_result"
        }
      ],
      "source": [
        "geolocation_df.head()"
      ]
    },
    {
      "cell_type": "markdown",
      "metadata": {
        "id": "VzHGruHBOavU"
      },
      "source": [
        "####Membersihkan Tabel `Orders`"
      ]
    },
    {
      "cell_type": "code",
      "execution_count": 128,
      "metadata": {
        "colab": {
          "base_uri": "https://localhost:8080/"
        },
        "id": "_3ucgsqfOrpR",
        "outputId": "5306f7d0-a090-43f6-a8f5-f06458382e95"
      },
      "outputs": [
        {
          "name": "stdout",
          "output_type": "stream",
          "text": [
            "<class 'pandas.core.frame.DataFrame'>\n",
            "RangeIndex: 99441 entries, 0 to 99440\n",
            "Data columns (total 8 columns):\n",
            " #   Column                         Non-Null Count  Dtype \n",
            "---  ------                         --------------  ----- \n",
            " 0   order_id                       99441 non-null  object\n",
            " 1   customer_id                    99441 non-null  object\n",
            " 2   order_status                   99441 non-null  object\n",
            " 3   order_purchase_timestamp       99441 non-null  object\n",
            " 4   order_approved_at              99281 non-null  object\n",
            " 5   order_delivered_carrier_date   97658 non-null  object\n",
            " 6   order_delivered_customer_date  96476 non-null  object\n",
            " 7   order_estimated_delivery_date  99441 non-null  object\n",
            "dtypes: object(8)\n",
            "memory usage: 6.1+ MB\n"
          ]
        }
      ],
      "source": [
        "orders_df.info()"
      ]
    },
    {
      "cell_type": "markdown",
      "metadata": {
        "id": "-hQrdbJMO5_4"
      },
      "source": [
        "#####Membersihkan Missing Value"
      ]
    },
    {
      "cell_type": "code",
      "execution_count": 129,
      "metadata": {
        "colab": {
          "base_uri": "https://localhost:8080/",
          "height": 335
        },
        "id": "Ib91HsNAO42b",
        "outputId": "af4422e3-2ce2-4233-c7b3-907c82ce17f8"
      },
      "outputs": [
        {
          "data": {
            "text/plain": [
              "order_id                            0\n",
              "customer_id                         0\n",
              "order_status                        0\n",
              "order_purchase_timestamp            0\n",
              "order_approved_at                 160\n",
              "order_delivered_carrier_date     1783\n",
              "order_delivered_customer_date    2965\n",
              "order_estimated_delivery_date       0\n",
              "dtype: int64"
            ]
          },
          "execution_count": 129,
          "metadata": {},
          "output_type": "execute_result"
        }
      ],
      "source": [
        "orders_df.isna().sum()"
      ]
    },
    {
      "cell_type": "markdown",
      "metadata": {
        "id": "_fKS2C5ZRxNP"
      },
      "source": [
        "#####Mengubah Tipe Data\n"
      ]
    },
    {
      "cell_type": "code",
      "execution_count": 130,
      "metadata": {
        "colab": {
          "base_uri": "https://localhost:8080/",
          "height": 335
        },
        "id": "q-sbEHZuRQWa",
        "outputId": "e7f41cd5-4b91-42de-e078-4d03ee372ceb"
      },
      "outputs": [
        {
          "data": {
            "text/plain": [
              "order_id                         0\n",
              "customer_id                      0\n",
              "order_status                     0\n",
              "order_purchase_timestamp         0\n",
              "order_approved_at                0\n",
              "order_delivered_carrier_date     0\n",
              "order_delivered_customer_date    0\n",
              "order_estimated_delivery_date    0\n",
              "dtype: int64"
            ]
          },
          "execution_count": 130,
          "metadata": {},
          "output_type": "execute_result"
        }
      ],
      "source": [
        "orders_df.dropna(inplace=True)\n",
        "orders_df.isna().sum()"
      ]
    },
    {
      "cell_type": "code",
      "execution_count": 131,
      "metadata": {
        "colab": {
          "base_uri": "https://localhost:8080/"
        },
        "id": "9FKkHN2aR1Fk",
        "outputId": "e07e5fa5-a549-4c71-c1bf-9661898d04be"
      },
      "outputs": [
        {
          "name": "stdout",
          "output_type": "stream",
          "text": [
            "<class 'pandas.core.frame.DataFrame'>\n",
            "Index: 96461 entries, 0 to 99440\n",
            "Data columns (total 8 columns):\n",
            " #   Column                         Non-Null Count  Dtype         \n",
            "---  ------                         --------------  -----         \n",
            " 0   order_id                       96461 non-null  object        \n",
            " 1   customer_id                    96461 non-null  object        \n",
            " 2   order_status                   96461 non-null  object        \n",
            " 3   order_purchase_timestamp       96461 non-null  datetime64[ns]\n",
            " 4   order_approved_at              96461 non-null  datetime64[ns]\n",
            " 5   order_delivered_carrier_date   96461 non-null  datetime64[ns]\n",
            " 6   order_delivered_customer_date  96461 non-null  datetime64[ns]\n",
            " 7   order_estimated_delivery_date  96461 non-null  datetime64[ns]\n",
            "dtypes: datetime64[ns](5), object(3)\n",
            "memory usage: 6.6+ MB\n"
          ]
        }
      ],
      "source": [
        "datetime_Orders = [\"order_purchase_timestamp\", \"order_approved_at\", \"order_delivered_carrier_date\", \"order_delivered_customer_date\", \"order_estimated_delivery_date\"]\n",
        "for column in datetime_Orders:\n",
        "  orders_df[column] = pd.to_datetime(orders_df[column])\n",
        "\n",
        "orders_df.info()"
      ]
    },
    {
      "cell_type": "markdown",
      "metadata": {
        "id": "ik28NTEtSUN6"
      },
      "source": [
        "####Membersihkan Tabel `orderItems_df`"
      ]
    },
    {
      "cell_type": "code",
      "execution_count": 132,
      "metadata": {
        "colab": {
          "base_uri": "https://localhost:8080/"
        },
        "id": "65EXWkQWTU0d",
        "outputId": "dc7f7d69-1cdd-4542-992d-ac34cc5512fb"
      },
      "outputs": [
        {
          "name": "stdout",
          "output_type": "stream",
          "text": [
            "<class 'pandas.core.frame.DataFrame'>\n",
            "RangeIndex: 112650 entries, 0 to 112649\n",
            "Data columns (total 7 columns):\n",
            " #   Column               Non-Null Count   Dtype  \n",
            "---  ------               --------------   -----  \n",
            " 0   order_id             112650 non-null  object \n",
            " 1   order_item_id        112650 non-null  int64  \n",
            " 2   product_id           112650 non-null  object \n",
            " 3   seller_id            112650 non-null  object \n",
            " 4   shipping_limit_date  112650 non-null  object \n",
            " 5   price                112650 non-null  float64\n",
            " 6   freight_value        112650 non-null  float64\n",
            "dtypes: float64(2), int64(1), object(4)\n",
            "memory usage: 6.0+ MB\n"
          ]
        }
      ],
      "source": [
        "orderItems_df.info()"
      ]
    },
    {
      "cell_type": "markdown",
      "metadata": {
        "id": "DrB94eZ_TNus"
      },
      "source": [
        "#####Mengubah Tipe Data"
      ]
    },
    {
      "cell_type": "code",
      "execution_count": 133,
      "metadata": {
        "colab": {
          "base_uri": "https://localhost:8080/"
        },
        "id": "VSAxw8oSTR6l",
        "outputId": "2b1c37c4-48b5-4ea4-bfe9-face8eef718a"
      },
      "outputs": [
        {
          "name": "stdout",
          "output_type": "stream",
          "text": [
            "<class 'pandas.core.frame.DataFrame'>\n",
            "RangeIndex: 112650 entries, 0 to 112649\n",
            "Data columns (total 7 columns):\n",
            " #   Column               Non-Null Count   Dtype         \n",
            "---  ------               --------------   -----         \n",
            " 0   order_id             112650 non-null  object        \n",
            " 1   order_item_id        112650 non-null  int64         \n",
            " 2   product_id           112650 non-null  object        \n",
            " 3   seller_id            112650 non-null  object        \n",
            " 4   shipping_limit_date  112650 non-null  datetime64[ns]\n",
            " 5   price                112650 non-null  float64       \n",
            " 6   freight_value        112650 non-null  float64       \n",
            "dtypes: datetime64[ns](1), float64(2), int64(1), object(3)\n",
            "memory usage: 6.0+ MB\n"
          ]
        }
      ],
      "source": [
        "datetime_OrderItems = [\"shipping_limit_date\"]\n",
        "for column in datetime_OrderItems:\n",
        "  orderItems_df[column] = pd.to_datetime(orderItems_df[column])\n",
        "\n",
        "orderItems_df.info()"
      ]
    },
    {
      "cell_type": "markdown",
      "metadata": {
        "id": "tv9-ZRJTTvjI"
      },
      "source": [
        "#####Membersihkan Outliers"
      ]
    },
    {
      "cell_type": "code",
      "execution_count": 134,
      "metadata": {
        "colab": {
          "base_uri": "https://localhost:8080/",
          "height": 468
        },
        "id": "XJdcKTKyTvFE",
        "outputId": "02828fcb-795e-4afd-a805-245603999441"
      },
      "outputs": [
        {
          "data": {
            "image/png": "[encoded data removed]",
            "text/plain": [
              "<Figure size 1000x500 with 1 Axes>"
            ]
          },
          "metadata": {},
          "output_type": "display_data"
        }
      ],
      "source": [
        "plt.figure(figsize=(10,5))\n",
        "sns.boxplot(data=orderItems_df[['freight_value', 'price']])\n",
        "plt.title('Boxplot untuk mendeteksi Outliers')\n",
        "plt.show()"
      ]
    },
    {
      "cell_type": "code",
      "execution_count": 135,
      "metadata": {
        "colab": {
          "base_uri": "https://localhost:8080/",
          "height": 484
        },
        "id": "VJSKXkZhXTAW",
        "outputId": "57af38a8-29da-43ba-ace9-8e1c45386361"
      },
      "outputs": [
        {
          "name": "stderr",
          "output_type": "stream",
          "text": [
            "C:\\Users\\YOHANES ALDO\\AppData\\Local\\Temp\\ipykernel_14256\\1887345910.py:12: UserWarning: Boolean Series key will be reindexed to match DataFrame index.\n",
            "  orderItems_df.drop(orderItems_df[kondisi_more_than].index, inplace=True)\n"
          ]
        },
        {
          "data": {
            "image/png": "[encoded data removed]",
            "text/plain": [
              "<Figure size 1000x500 with 1 Axes>"
            ]
          },
          "metadata": {},
          "output_type": "display_data"
        }
      ],
      "source": [
        "Q1 = (orderItems_df['freight_value']).quantile(0.25)\n",
        "Q3 = (orderItems_df['freight_value']).quantile(0.75)\n",
        "IQR = Q3 - Q1\n",
        "\n",
        "maximum = Q3 + (1.5*IQR)\n",
        "minimum = Q1 - (1.5*IQR)\n",
        "\n",
        "kondisi_lower_than = orderItems_df['freight_value'] < minimum\n",
        "kondisi_more_than = orderItems_df['freight_value'] > maximum\n",
        "\n",
        "orderItems_df.drop(orderItems_df[kondisi_lower_than].index, inplace=True)\n",
        "orderItems_df.drop(orderItems_df[kondisi_more_than].index, inplace=True)\n",
        "\n",
        "\n",
        "plt.figure(figsize=(10,5))\n",
        "sns.boxplot(data=orderItems_df['freight_value'])\n",
        "plt.title('Boxplot Setelah Dibersihkan Outliers')\n",
        "plt.show()"
      ]
    },
    {
      "cell_type": "markdown",
      "metadata": {
        "id": "r_BBZ3qua_kQ"
      },
      "source": [
        "####Membersihkan `Tabel OrderPayments_df`"
      ]
    },
    {
      "cell_type": "code",
      "execution_count": 136,
      "metadata": {
        "colab": {
          "base_uri": "https://localhost:8080/"
        },
        "id": "kULhKeuZbI11",
        "outputId": "cba52a79-486c-40c9-a4fa-91db161b52e5"
      },
      "outputs": [
        {
          "name": "stdout",
          "output_type": "stream",
          "text": [
            "<class 'pandas.core.frame.DataFrame'>\n",
            "RangeIndex: 103886 entries, 0 to 103885\n",
            "Data columns (total 5 columns):\n",
            " #   Column                Non-Null Count   Dtype  \n",
            "---  ------                --------------   -----  \n",
            " 0   order_id              103886 non-null  object \n",
            " 1   payment_sequential    103886 non-null  int64  \n",
            " 2   payment_type          103886 non-null  object \n",
            " 3   payment_installments  103886 non-null  int64  \n",
            " 4   payment_value         103886 non-null  float64\n",
            "dtypes: float64(1), int64(2), object(2)\n",
            "memory usage: 4.0+ MB\n"
          ]
        }
      ],
      "source": [
        "orderPayments_df.info()"
      ]
    },
    {
      "cell_type": "markdown",
      "metadata": {
        "id": "GQAd8iYLbqaz"
      },
      "source": [
        "#####Membersihkan Outliers"
      ]
    },
    {
      "cell_type": "code",
      "execution_count": 137,
      "metadata": {
        "colab": {
          "base_uri": "https://localhost:8080/",
          "height": 449
        },
        "id": "kafYZztFcIMS",
        "outputId": "6647bb93-c57f-438b-aa97-a4da350ebe60"
      },
      "outputs": [
        {
          "data": {
            "image/png": "[encoded data removed]",
            "text/plain": [
              "<Figure size 1000x500 with 1 Axes>"
            ]
          },
          "metadata": {},
          "output_type": "display_data"
        }
      ],
      "source": [
        "plt.figure(figsize=(10,5))\n",
        "sns.boxplot(data=orderPayments_df['payment_value'])\n",
        "plt.title('Boxplot Untuk Mendeteksi Outliers')\n",
        "plt.show()"
      ]
    },
    {
      "cell_type": "code",
      "execution_count": 138,
      "metadata": {
        "colab": {
          "base_uri": "https://localhost:8080/",
          "height": 449
        },
        "id": "UjIPPCaObuI_",
        "outputId": "7b0bf9b6-e80f-4119-a37c-a0a21581e3e2"
      },
      "outputs": [
        {
          "data": {
            "image/png": "[encoded data removed]",
            "text/plain": [
              "<Figure size 1000x500 with 1 Axes>"
            ]
          },
          "metadata": {},
          "output_type": "display_data"
        }
      ],
      "source": [
        "Q1 = (orderPayments_df['payment_value']).quantile(0.25)\n",
        "Q3 = (orderPayments_df['payment_value']).quantile(0.75)\n",
        "IQR = Q3 - Q1\n",
        "\n",
        "maximum = Q3 + (1.5*IQR)\n",
        "minimum = Q1 - (1.5*IQR)\n",
        "\n",
        "kondisi_lower_than = orderPayments_df['payment_value'] < minimum\n",
        "kondisi_more_than = orderPayments_df['payment_value'] > maximum\n",
        "\n",
        "orderPayments_df.drop(orderPayments_df[kondisi_lower_than].index, inplace=True)\n",
        "orderPayments_df.drop(orderPayments_df[kondisi_more_than].index, inplace=True)\n",
        "\n",
        "plt.figure(figsize=(10,5))\n",
        "sns.boxplot(data=orderPayments_df['payment_value'])\n",
        "plt.title('Boxplot Setelah Outliers Dibersihkan')\n",
        "plt.show()"
      ]
    },
    {
      "cell_type": "markdown",
      "metadata": {
        "id": "ORHP1bT-dLkL"
      },
      "source": [
        "####Membersihkan Tabel `product_df`"
      ]
    },
    {
      "cell_type": "code",
      "execution_count": 139,
      "metadata": {
        "colab": {
          "base_uri": "https://localhost:8080/"
        },
        "id": "jLrigHzMdRUM",
        "outputId": "0a153117-9b2a-4a81-fda2-0deabc0089fe"
      },
      "outputs": [
        {
          "name": "stdout",
          "output_type": "stream",
          "text": [
            "<class 'pandas.core.frame.DataFrame'>\n",
            "RangeIndex: 32951 entries, 0 to 32950\n",
            "Data columns (total 9 columns):\n",
            " #   Column                      Non-Null Count  Dtype  \n",
            "---  ------                      --------------  -----  \n",
            " 0   product_id                  32951 non-null  object \n",
            " 1   product_category_name       32341 non-null  object \n",
            " 2   product_name_lenght         32341 non-null  float64\n",
            " 3   product_description_lenght  32341 non-null  float64\n",
            " 4   product_photos_qty          32341 non-null  float64\n",
            " 5   product_weight_g            32949 non-null  float64\n",
            " 6   product_length_cm           32949 non-null  float64\n",
            " 7   product_height_cm           32949 non-null  float64\n",
            " 8   product_width_cm            32949 non-null  float64\n",
            "dtypes: float64(7), object(2)\n",
            "memory usage: 2.3+ MB\n"
          ]
        }
      ],
      "source": [
        "product_df.info()"
      ]
    },
    {
      "cell_type": "markdown",
      "metadata": {
        "id": "pofcwF6adVMN"
      },
      "source": [
        "#####Membersihkan Missing Value"
      ]
    },
    {
      "cell_type": "code",
      "execution_count": 140,
      "metadata": {
        "colab": {
          "base_uri": "https://localhost:8080/",
          "height": 366
        },
        "id": "VDpW6-P1dY2N",
        "outputId": "8bb2be23-4232-48ee-b5a4-97c9f0d9970e"
      },
      "outputs": [
        {
          "data": {
            "text/plain": [
              "product_id                      0\n",
              "product_category_name         610\n",
              "product_name_lenght           610\n",
              "product_description_lenght    610\n",
              "product_photos_qty            610\n",
              "product_weight_g                2\n",
              "product_length_cm               2\n",
              "product_height_cm               2\n",
              "product_width_cm                2\n",
              "dtype: int64"
            ]
          },
          "execution_count": 140,
          "metadata": {},
          "output_type": "execute_result"
        }
      ],
      "source": [
        "product_df.isna().sum()"
      ]
    },
    {
      "cell_type": "code",
      "execution_count": 141,
      "metadata": {
        "colab": {
          "base_uri": "https://localhost:8080/",
          "height": 366
        },
        "id": "79nDQBnLdeMO",
        "outputId": "4c87296e-0314-4ac7-8eac-4ae55cbee0a2"
      },
      "outputs": [
        {
          "data": {
            "text/plain": [
              "product_id                    0\n",
              "product_category_name         0\n",
              "product_name_lenght           0\n",
              "product_description_lenght    0\n",
              "product_photos_qty            0\n",
              "product_weight_g              0\n",
              "product_length_cm             0\n",
              "product_height_cm             0\n",
              "product_width_cm              0\n",
              "dtype: int64"
            ]
          },
          "execution_count": 141,
          "metadata": {},
          "output_type": "execute_result"
        }
      ],
      "source": [
        "product_df.dropna(inplace=True)\n",
        "product_df.isna().sum()"
      ]
    },
    {
      "cell_type": "markdown",
      "metadata": {
        "id": "tAw7V8NMdi_v"
      },
      "source": [
        "#####Membersihkan Outliers"
      ]
    },
    {
      "cell_type": "code",
      "execution_count": 142,
      "metadata": {
        "colab": {
          "base_uri": "https://localhost:8080/",
          "height": 449
        },
        "id": "zsYausrgdxPI",
        "outputId": "9a2fc79c-809e-4272-a089-5e440778ea55"
      },
      "outputs": [
        {
          "data": {
            "image/png": "[encoded data removed]",
            "text/plain": [
              "<Figure size 1000x500 with 1 Axes>"
            ]
          },
          "metadata": {},
          "output_type": "display_data"
        }
      ],
      "source": [
        "plt.figure(figsize=(10,5))\n",
        "sns.boxplot(data=product_df['product_weight_g'])\n",
        "plt.title('Boxplot Mendeteksi Outliers ')\n",
        "plt.show()"
      ]
    },
    {
      "cell_type": "code",
      "execution_count": 143,
      "metadata": {
        "colab": {
          "base_uri": "https://localhost:8080/",
          "height": 449
        },
        "id": "RTh6lhVadslJ",
        "outputId": "d6a9ff7f-9af8-44e8-9328-8e648b09d2f4"
      },
      "outputs": [
        {
          "data": {
            "image/png": "[encoded data removed]",
            "text/plain": [
              "<Figure size 1000x500 with 1 Axes>"
            ]
          },
          "metadata": {},
          "output_type": "display_data"
        }
      ],
      "source": [
        "Q1 = (product_df['product_weight_g']).quantile(0.25)\n",
        "Q3 = (product_df['product_weight_g']).quantile(0.75)\n",
        "IQR = Q3 - Q1\n",
        "\n",
        "maximum = Q3 + (1.5*IQR)\n",
        "minimum = Q1 - (1.5*IQR)\n",
        "\n",
        "kondisi_lower_than = product_df['product_weight_g'] < minimum\n",
        "kondisi_more_than = product_df['product_weight_g'] > maximum\n",
        "\n",
        "product_df.drop(product_df[kondisi_lower_than].index, inplace=True)\n",
        "product_df.drop(product_df[kondisi_more_than].index, inplace=True)\n",
        "\n",
        "plt.figure(figsize=(10,5))\n",
        "sns.boxplot(data=product_df['product_weight_g'])\n",
        "plt.title('Boxplot Setelah Outliers Dibersihkan')\n",
        "plt.show()"
      ]
    },
    {
      "cell_type": "markdown",
      "metadata": {},
      "source": [
        "**Insight**\n",
        "- Beberapa data yang memiliki outliers sudah dibersihkan tetapi tetap memiliki sedikit outliers.\n",
        "- Rata-rata data yang dipakai memiliki missing value"
      ]
    },
    {
      "cell_type": "markdown",
      "metadata": {
        "id": "gp-Y6wU38DC1"
      },
      "source": [
        "## Exploratory Data Analysis (EDA)"
      ]
    },
    {
      "cell_type": "markdown",
      "metadata": {
        "id": "MW7WF2kr8DC1"
      },
      "source": [
        "#### Explore `customer_df`"
      ]
    },
    {
      "cell_type": "code",
      "execution_count": 144,
      "metadata": {
        "colab": {
          "base_uri": "https://localhost:8080/",
          "height": 226
        },
        "id": "e9CQCZjk8DC2",
        "outputId": "e5c58324-8e20-44e3-a481-3f3d8fd52733"
      },
      "outputs": [
        {
          "data": {
            "text/html": [
              "<div>\n",
              "<style scoped>\n",
              "    .dataframe tbody tr th:only-of-type {\n",
              "        vertical-align: middle;\n",
              "    }\n",
              "\n",
              "    .dataframe tbody tr th {\n",
              "        vertical-align: top;\n",
              "    }\n",
              "\n",
              "    .dataframe thead th {\n",
              "        text-align: right;\n",
              "    }\n",
              "</style>\n",
              "<table border=\"1\" class=\"dataframe\">\n",
              "  <thead>\n",
              "    <tr style=\"text-align: right;\">\n",
              "      <th></th>\n",
              "      <th>customer_id</th>\n",
              "      <th>customer_unique_id</th>\n",
              "      <th>customer_zip_code_prefix</th>\n",
              "      <th>customer_city</th>\n",
              "      <th>customer_state</th>\n",
              "    </tr>\n",
              "  </thead>\n",
              "  <tbody>\n",
              "    <tr>\n",
              "      <th>65253</th>\n",
              "      <td>ed110cb97194f4281568a16d130589f8</td>\n",
              "      <td>ca0e20ade97bc751496dfc450afe397b</td>\n",
              "      <td>13214</td>\n",
              "      <td>jundiai</td>\n",
              "      <td>SP</td>\n",
              "    </tr>\n",
              "    <tr>\n",
              "      <th>29675</th>\n",
              "      <td>fc0505a97dd36f988806bba5178aef83</td>\n",
              "      <td>cab88505ad6b31d02081fa42b34c1d24</td>\n",
              "      <td>38720</td>\n",
              "      <td>lagoa formosa</td>\n",
              "      <td>MG</td>\n",
              "    </tr>\n",
              "    <tr>\n",
              "      <th>6943</th>\n",
              "      <td>6af03066082921bc62c125b085440b76</td>\n",
              "      <td>55686a9ed1bd3d5603eea2a0b801455b</td>\n",
              "      <td>18090</td>\n",
              "      <td>sorocaba</td>\n",
              "      <td>SP</td>\n",
              "    </tr>\n",
              "    <tr>\n",
              "      <th>19944</th>\n",
              "      <td>e9195926b82fbae50a32827fdcfd42f1</td>\n",
              "      <td>befd3bac1f21bc3a2131be66811360b5</td>\n",
              "      <td>83410</td>\n",
              "      <td>colombo</td>\n",
              "      <td>PR</td>\n",
              "    </tr>\n",
              "    <tr>\n",
              "      <th>29981</th>\n",
              "      <td>8ac12be4103f6d1ad36d0c21efc8fd5f</td>\n",
              "      <td>fa58e11c149d7e903dbe5f6c854277e7</td>\n",
              "      <td>98780</td>\n",
              "      <td>santa rosa</td>\n",
              "      <td>RS</td>\n",
              "    </tr>\n",
              "  </tbody>\n",
              "</table>\n",
              "</div>"
            ],
            "text/plain": [
              "                            customer_id                customer_unique_id  \\\n",
              "65253  ed110cb97194f4281568a16d130589f8  ca0e20ade97bc751496dfc450afe397b   \n",
              "29675  fc0505a97dd36f988806bba5178aef83  cab88505ad6b31d02081fa42b34c1d24   \n",
              "6943   6af03066082921bc62c125b085440b76  55686a9ed1bd3d5603eea2a0b801455b   \n",
              "19944  e9195926b82fbae50a32827fdcfd42f1  befd3bac1f21bc3a2131be66811360b5   \n",
              "29981  8ac12be4103f6d1ad36d0c21efc8fd5f  fa58e11c149d7e903dbe5f6c854277e7   \n",
              "\n",
              "       customer_zip_code_prefix  customer_city customer_state  \n",
              "65253                     13214        jundiai             SP  \n",
              "29675                     38720  lagoa formosa             MG  \n",
              "6943                      18090       sorocaba             SP  \n",
              "19944                     83410        colombo             PR  \n",
              "29981                     98780     santa rosa             RS  "
            ]
          },
          "execution_count": 144,
          "metadata": {},
          "output_type": "execute_result"
        }
      ],
      "source": [
        "customers_df.sample(5)"
      ]
    },
    {
      "cell_type": "code",
      "execution_count": 145,
      "metadata": {
        "colab": {
          "base_uri": "https://localhost:8080/",
          "height": 414
        },
        "id": "8i_w7z1fgiau",
        "outputId": "26cf7ddb-cfc6-4690-833a-fcf2ea49aa2b"
      },
      "outputs": [
        {
          "data": {
            "text/html": [
              "<div>\n",
              "<style scoped>\n",
              "    .dataframe tbody tr th:only-of-type {\n",
              "        vertical-align: middle;\n",
              "    }\n",
              "\n",
              "    .dataframe tbody tr th {\n",
              "        vertical-align: top;\n",
              "    }\n",
              "\n",
              "    .dataframe thead th {\n",
              "        text-align: right;\n",
              "    }\n",
              "</style>\n",
              "<table border=\"1\" class=\"dataframe\">\n",
              "  <thead>\n",
              "    <tr style=\"text-align: right;\">\n",
              "      <th></th>\n",
              "      <th>customer_id</th>\n",
              "      <th>customer_unique_id</th>\n",
              "      <th>customer_zip_code_prefix</th>\n",
              "      <th>customer_city</th>\n",
              "      <th>customer_state</th>\n",
              "    </tr>\n",
              "  </thead>\n",
              "  <tbody>\n",
              "    <tr>\n",
              "      <th>count</th>\n",
              "      <td>99441</td>\n",
              "      <td>99441</td>\n",
              "      <td>99441.000000</td>\n",
              "      <td>99441</td>\n",
              "      <td>99441</td>\n",
              "    </tr>\n",
              "    <tr>\n",
              "      <th>unique</th>\n",
              "      <td>99441</td>\n",
              "      <td>96096</td>\n",
              "      <td>NaN</td>\n",
              "      <td>4119</td>\n",
              "      <td>27</td>\n",
              "    </tr>\n",
              "    <tr>\n",
              "      <th>top</th>\n",
              "      <td>06b8999e2fba1a1fbc88172c00ba8bc7</td>\n",
              "      <td>8d50f5eadf50201ccdcedfb9e2ac8455</td>\n",
              "      <td>NaN</td>\n",
              "      <td>sao paulo</td>\n",
              "      <td>SP</td>\n",
              "    </tr>\n",
              "    <tr>\n",
              "      <th>freq</th>\n",
              "      <td>1</td>\n",
              "      <td>17</td>\n",
              "      <td>NaN</td>\n",
              "      <td>15540</td>\n",
              "      <td>41746</td>\n",
              "    </tr>\n",
              "    <tr>\n",
              "      <th>mean</th>\n",
              "      <td>NaN</td>\n",
              "      <td>NaN</td>\n",
              "      <td>35137.474583</td>\n",
              "      <td>NaN</td>\n",
              "      <td>NaN</td>\n",
              "    </tr>\n",
              "    <tr>\n",
              "      <th>std</th>\n",
              "      <td>NaN</td>\n",
              "      <td>NaN</td>\n",
              "      <td>29797.938996</td>\n",
              "      <td>NaN</td>\n",
              "      <td>NaN</td>\n",
              "    </tr>\n",
              "    <tr>\n",
              "      <th>min</th>\n",
              "      <td>NaN</td>\n",
              "      <td>NaN</td>\n",
              "      <td>1003.000000</td>\n",
              "      <td>NaN</td>\n",
              "      <td>NaN</td>\n",
              "    </tr>\n",
              "    <tr>\n",
              "      <th>25%</th>\n",
              "      <td>NaN</td>\n",
              "      <td>NaN</td>\n",
              "      <td>11347.000000</td>\n",
              "      <td>NaN</td>\n",
              "      <td>NaN</td>\n",
              "    </tr>\n",
              "    <tr>\n",
              "      <th>50%</th>\n",
              "      <td>NaN</td>\n",
              "      <td>NaN</td>\n",
              "      <td>24416.000000</td>\n",
              "      <td>NaN</td>\n",
              "      <td>NaN</td>\n",
              "    </tr>\n",
              "    <tr>\n",
              "      <th>75%</th>\n",
              "      <td>NaN</td>\n",
              "      <td>NaN</td>\n",
              "      <td>58900.000000</td>\n",
              "      <td>NaN</td>\n",
              "      <td>NaN</td>\n",
              "    </tr>\n",
              "    <tr>\n",
              "      <th>max</th>\n",
              "      <td>NaN</td>\n",
              "      <td>NaN</td>\n",
              "      <td>99990.000000</td>\n",
              "      <td>NaN</td>\n",
              "      <td>NaN</td>\n",
              "    </tr>\n",
              "  </tbody>\n",
              "</table>\n",
              "</div>"
            ],
            "text/plain": [
              "                             customer_id                customer_unique_id  \\\n",
              "count                              99441                             99441   \n",
              "unique                             99441                             96096   \n",
              "top     06b8999e2fba1a1fbc88172c00ba8bc7  8d50f5eadf50201ccdcedfb9e2ac8455   \n",
              "freq                                   1                                17   \n",
              "mean                                 NaN                               NaN   \n",
              "std                                  NaN                               NaN   \n",
              "min                                  NaN                               NaN   \n",
              "25%                                  NaN                               NaN   \n",
              "50%                                  NaN                               NaN   \n",
              "75%                                  NaN                               NaN   \n",
              "max                                  NaN                               NaN   \n",
              "\n",
              "        customer_zip_code_prefix customer_city customer_state  \n",
              "count               99441.000000         99441          99441  \n",
              "unique                       NaN          4119             27  \n",
              "top                          NaN     sao paulo             SP  \n",
              "freq                         NaN         15540          41746  \n",
              "mean                35137.474583           NaN            NaN  \n",
              "std                 29797.938996           NaN            NaN  \n",
              "min                  1003.000000           NaN            NaN  \n",
              "25%                 11347.000000           NaN            NaN  \n",
              "50%                 24416.000000           NaN            NaN  \n",
              "75%                 58900.000000           NaN            NaN  \n",
              "max                 99990.000000           NaN            NaN  "
            ]
          },
          "execution_count": 145,
          "metadata": {},
          "output_type": "execute_result"
        }
      ],
      "source": [
        "customers_df.describe(include='all')"
      ]
    },
    {
      "cell_type": "code",
      "execution_count": 146,
      "metadata": {
        "colab": {
          "base_uri": "https://localhost:8080/"
        },
        "id": "AJLubvDKgojr",
        "outputId": "53bf1fec-2f5b-4bb0-a752-dc8aecdce71c"
      },
      "outputs": [
        {
          "data": {
            "text/plain": [
              "True"
            ]
          },
          "execution_count": 146,
          "metadata": {},
          "output_type": "execute_result"
        }
      ],
      "source": [
        "customers_df.customer_id.is_unique"
      ]
    },
    {
      "cell_type": "code",
      "execution_count": 147,
      "metadata": {
        "colab": {
          "base_uri": "https://localhost:8080/",
          "height": 490
        },
        "id": "39vo7T6jhNGO",
        "outputId": "933093ef-8954-447b-c0d6-919397dd31f8"
      },
      "outputs": [
        {
          "data": {
            "text/plain": [
              "customer_city\n",
              "sao paulo         15540\n",
              "rio de janeiro     6882\n",
              "belo horizonte     2773\n",
              "brasilia           2131\n",
              "curitiba           1521\n",
              "                  ...  \n",
              "ibiara                1\n",
              "rio espera            1\n",
              "rio dos indios        1\n",
              "rio dos cedros        1\n",
              "lagoao                1\n",
              "Name: customer_id, Length: 4119, dtype: int64"
            ]
          },
          "execution_count": 147,
          "metadata": {},
          "output_type": "execute_result"
        }
      ],
      "source": [
        "customers_df.groupby(by='customer_city').customer_id.nunique().sort_values(ascending=False)"
      ]
    },
    {
      "cell_type": "code",
      "execution_count": 148,
      "metadata": {
        "colab": {
          "base_uri": "https://localhost:8080/",
          "height": 962
        },
        "id": "sXzYFkvyhelA",
        "outputId": "79e82996-7632-4e4e-ba8a-46cfe70eab2e"
      },
      "outputs": [
        {
          "data": {
            "text/plain": [
              "customer_state\n",
              "SP    41746\n",
              "RJ    12852\n",
              "MG    11635\n",
              "RS     5466\n",
              "PR     5045\n",
              "SC     3637\n",
              "BA     3380\n",
              "DF     2140\n",
              "ES     2033\n",
              "GO     2020\n",
              "PE     1652\n",
              "CE     1336\n",
              "PA      975\n",
              "MT      907\n",
              "MA      747\n",
              "MS      715\n",
              "PB      536\n",
              "PI      495\n",
              "RN      485\n",
              "AL      413\n",
              "SE      350\n",
              "TO      280\n",
              "RO      253\n",
              "AM      148\n",
              "AC       81\n",
              "AP       68\n",
              "RR       46\n",
              "Name: customer_id, dtype: int64"
            ]
          },
          "execution_count": 148,
          "metadata": {},
          "output_type": "execute_result"
        }
      ],
      "source": [
        "customers_df.groupby(by='customer_state').customer_id.nunique().sort_values(ascending=False)"
      ]
    },
    {
      "cell_type": "markdown",
      "metadata": {
        "id": "th_Lzl2Fkj9O"
      },
      "source": [
        "**Insight:**\n",
        "- xxx\n",
        "- xxx"
      ]
    },
    {
      "cell_type": "markdown",
      "metadata": {
        "id": "xoYs86FOix0C"
      },
      "source": [
        "####Explore `geolocation_df`\n",
        "\n",
        "\n"
      ]
    },
    {
      "cell_type": "code",
      "execution_count": 149,
      "metadata": {
        "colab": {
          "base_uri": "https://localhost:8080/",
          "height": 206
        },
        "id": "QoK9c5Pdi_9b",
        "outputId": "d89c7c55-5f59-4e78-9507-ee4fcaaea8aa"
      },
      "outputs": [
        {
          "data": {
            "text/html": [
              "<div>\n",
              "<style scoped>\n",
              "    .dataframe tbody tr th:only-of-type {\n",
              "        vertical-align: middle;\n",
              "    }\n",
              "\n",
              "    .dataframe tbody tr th {\n",
              "        vertical-align: top;\n",
              "    }\n",
              "\n",
              "    .dataframe thead th {\n",
              "        text-align: right;\n",
              "    }\n",
              "</style>\n",
              "<table border=\"1\" class=\"dataframe\">\n",
              "  <thead>\n",
              "    <tr style=\"text-align: right;\">\n",
              "      <th></th>\n",
              "      <th>geolocation_zip_code_prefix</th>\n",
              "      <th>geolocation_lat</th>\n",
              "      <th>geolocation_lng</th>\n",
              "      <th>geolocation_city</th>\n",
              "      <th>geolocation_state</th>\n",
              "    </tr>\n",
              "  </thead>\n",
              "  <tbody>\n",
              "    <tr>\n",
              "      <th>860267</th>\n",
              "      <td>83280</td>\n",
              "      <td>-25.898228</td>\n",
              "      <td>-48.571003</td>\n",
              "      <td>guaratuba</td>\n",
              "      <td>PR</td>\n",
              "    </tr>\n",
              "    <tr>\n",
              "      <th>671341</th>\n",
              "      <td>40270</td>\n",
              "      <td>-12.972408</td>\n",
              "      <td>-38.490680</td>\n",
              "      <td>salvador</td>\n",
              "      <td>BA</td>\n",
              "    </tr>\n",
              "    <tr>\n",
              "      <th>530013</th>\n",
              "      <td>29144</td>\n",
              "      <td>-20.303101</td>\n",
              "      <td>-40.366037</td>\n",
              "      <td>cariacica</td>\n",
              "      <td>ES</td>\n",
              "    </tr>\n",
              "    <tr>\n",
              "      <th>18747</th>\n",
              "      <td>1531</td>\n",
              "      <td>-23.572371</td>\n",
              "      <td>-46.631805</td>\n",
              "      <td>sao paulo</td>\n",
              "      <td>SP</td>\n",
              "    </tr>\n",
              "    <tr>\n",
              "      <th>815227</th>\n",
              "      <td>76907</td>\n",
              "      <td>-10.860131</td>\n",
              "      <td>-61.962889</td>\n",
              "      <td>jiparana</td>\n",
              "      <td>RO</td>\n",
              "    </tr>\n",
              "  </tbody>\n",
              "</table>\n",
              "</div>"
            ],
            "text/plain": [
              "        geolocation_zip_code_prefix  geolocation_lat  geolocation_lng  \\\n",
              "860267                        83280       -25.898228       -48.571003   \n",
              "671341                        40270       -12.972408       -38.490680   \n",
              "530013                        29144       -20.303101       -40.366037   \n",
              "18747                          1531       -23.572371       -46.631805   \n",
              "815227                        76907       -10.860131       -61.962889   \n",
              "\n",
              "       geolocation_city geolocation_state  \n",
              "860267        guaratuba                PR  \n",
              "671341         salvador                BA  \n",
              "530013        cariacica                ES  \n",
              "18747         sao paulo                SP  \n",
              "815227         jiparana                RO  "
            ]
          },
          "execution_count": 149,
          "metadata": {},
          "output_type": "execute_result"
        }
      ],
      "source": [
        "geolocation_df.sample(5)"
      ]
    },
    {
      "cell_type": "code",
      "execution_count": 150,
      "metadata": {
        "colab": {
          "base_uri": "https://localhost:8080/",
          "height": 394
        },
        "id": "ftlHqMEjjKer",
        "outputId": "69ff242d-3d3a-460a-8759-4657cd11bd0e"
      },
      "outputs": [
        {
          "data": {
            "text/html": [
              "<div>\n",
              "<style scoped>\n",
              "    .dataframe tbody tr th:only-of-type {\n",
              "        vertical-align: middle;\n",
              "    }\n",
              "\n",
              "    .dataframe tbody tr th {\n",
              "        vertical-align: top;\n",
              "    }\n",
              "\n",
              "    .dataframe thead th {\n",
              "        text-align: right;\n",
              "    }\n",
              "</style>\n",
              "<table border=\"1\" class=\"dataframe\">\n",
              "  <thead>\n",
              "    <tr style=\"text-align: right;\">\n",
              "      <th></th>\n",
              "      <th>geolocation_zip_code_prefix</th>\n",
              "      <th>geolocation_lat</th>\n",
              "      <th>geolocation_lng</th>\n",
              "      <th>geolocation_city</th>\n",
              "      <th>geolocation_state</th>\n",
              "    </tr>\n",
              "  </thead>\n",
              "  <tbody>\n",
              "    <tr>\n",
              "      <th>count</th>\n",
              "      <td>738332.000000</td>\n",
              "      <td>738332.000000</td>\n",
              "      <td>738332.000000</td>\n",
              "      <td>738332</td>\n",
              "      <td>738332</td>\n",
              "    </tr>\n",
              "    <tr>\n",
              "      <th>unique</th>\n",
              "      <td>NaN</td>\n",
              "      <td>NaN</td>\n",
              "      <td>NaN</td>\n",
              "      <td>6183</td>\n",
              "      <td>27</td>\n",
              "    </tr>\n",
              "    <tr>\n",
              "      <th>top</th>\n",
              "      <td>NaN</td>\n",
              "      <td>NaN</td>\n",
              "      <td>NaN</td>\n",
              "      <td>sao paulo</td>\n",
              "      <td>SP</td>\n",
              "    </tr>\n",
              "    <tr>\n",
              "      <th>freq</th>\n",
              "      <td>NaN</td>\n",
              "      <td>NaN</td>\n",
              "      <td>NaN</td>\n",
              "      <td>99645</td>\n",
              "      <td>285976</td>\n",
              "    </tr>\n",
              "    <tr>\n",
              "      <th>mean</th>\n",
              "      <td>38316.086800</td>\n",
              "      <td>-20.998353</td>\n",
              "      <td>-46.461098</td>\n",
              "      <td>NaN</td>\n",
              "      <td>NaN</td>\n",
              "    </tr>\n",
              "    <tr>\n",
              "      <th>std</th>\n",
              "      <td>30632.496675</td>\n",
              "      <td>5.892315</td>\n",
              "      <td>4.393705</td>\n",
              "      <td>NaN</td>\n",
              "      <td>NaN</td>\n",
              "    </tr>\n",
              "    <tr>\n",
              "      <th>min</th>\n",
              "      <td>1001.000000</td>\n",
              "      <td>-36.605374</td>\n",
              "      <td>-101.466766</td>\n",
              "      <td>NaN</td>\n",
              "      <td>NaN</td>\n",
              "    </tr>\n",
              "    <tr>\n",
              "      <th>25%</th>\n",
              "      <td>12600.000000</td>\n",
              "      <td>-23.603061</td>\n",
              "      <td>-48.867822</td>\n",
              "      <td>NaN</td>\n",
              "      <td>NaN</td>\n",
              "    </tr>\n",
              "    <tr>\n",
              "      <th>50%</th>\n",
              "      <td>29144.000000</td>\n",
              "      <td>-22.873588</td>\n",
              "      <td>-46.647278</td>\n",
              "      <td>NaN</td>\n",
              "      <td>NaN</td>\n",
              "    </tr>\n",
              "    <tr>\n",
              "      <th>75%</th>\n",
              "      <td>65950.000000</td>\n",
              "      <td>-19.923336</td>\n",
              "      <td>-43.836974</td>\n",
              "      <td>NaN</td>\n",
              "      <td>NaN</td>\n",
              "    </tr>\n",
              "    <tr>\n",
              "      <th>max</th>\n",
              "      <td>99990.000000</td>\n",
              "      <td>45.065933</td>\n",
              "      <td>121.105394</td>\n",
              "      <td>NaN</td>\n",
              "      <td>NaN</td>\n",
              "    </tr>\n",
              "  </tbody>\n",
              "</table>\n",
              "</div>"
            ],
            "text/plain": [
              "        geolocation_zip_code_prefix  geolocation_lat  geolocation_lng  \\\n",
              "count                 738332.000000    738332.000000    738332.000000   \n",
              "unique                          NaN              NaN              NaN   \n",
              "top                             NaN              NaN              NaN   \n",
              "freq                            NaN              NaN              NaN   \n",
              "mean                   38316.086800       -20.998353       -46.461098   \n",
              "std                    30632.496675         5.892315         4.393705   \n",
              "min                     1001.000000       -36.605374      -101.466766   \n",
              "25%                    12600.000000       -23.603061       -48.867822   \n",
              "50%                    29144.000000       -22.873588       -46.647278   \n",
              "75%                    65950.000000       -19.923336       -43.836974   \n",
              "max                    99990.000000        45.065933       121.105394   \n",
              "\n",
              "       geolocation_city geolocation_state  \n",
              "count            738332            738332  \n",
              "unique             6183                27  \n",
              "top           sao paulo                SP  \n",
              "freq              99645            285976  \n",
              "mean                NaN               NaN  \n",
              "std                 NaN               NaN  \n",
              "min                 NaN               NaN  \n",
              "25%                 NaN               NaN  \n",
              "50%                 NaN               NaN  \n",
              "75%                 NaN               NaN  \n",
              "max                 NaN               NaN  "
            ]
          },
          "execution_count": 150,
          "metadata": {},
          "output_type": "execute_result"
        }
      ],
      "source": [
        "geolocation_df.describe(include='all')"
      ]
    },
    {
      "cell_type": "code",
      "execution_count": 151,
      "metadata": {
        "colab": {
          "base_uri": "https://localhost:8080/"
        },
        "id": "OUdX4Gd_jOe2",
        "outputId": "a3d7be1d-9cce-4285-f0f9-f4a2aa3e53b6"
      },
      "outputs": [
        {
          "data": {
            "text/plain": [
              "False"
            ]
          },
          "execution_count": 151,
          "metadata": {},
          "output_type": "execute_result"
        }
      ],
      "source": [
        "geolocation_df.geolocation_zip_code_prefix.is_unique"
      ]
    },
    {
      "cell_type": "code",
      "execution_count": 152,
      "metadata": {
        "colab": {
          "base_uri": "https://localhost:8080/"
        },
        "id": "Azf3CWANjXX4",
        "outputId": "5c414f97-8c54-427d-8847-d5ea770b232f"
      },
      "outputs": [
        {
          "data": {
            "text/plain": [
              "719317"
            ]
          },
          "execution_count": 152,
          "metadata": {},
          "output_type": "execute_result"
        }
      ],
      "source": [
        "geolocation_df.geolocation_zip_code_prefix.duplicated().sum()"
      ]
    },
    {
      "cell_type": "code",
      "execution_count": 153,
      "metadata": {
        "colab": {
          "base_uri": "https://localhost:8080/",
          "height": 490
        },
        "id": "6RgirYaej3Dt",
        "outputId": "4c156036-cbc7-4c2e-f64d-36dd9d82ca9d"
      },
      "outputs": [
        {
          "data": {
            "text/plain": [
              "geolocation_city\n",
              "sao paulo         3185\n",
              "brasilia           510\n",
              "rio de janeiro     404\n",
              "salvador           275\n",
              "goiania            233\n",
              "                  ... \n",
              "guaiba               1\n",
              "guaianas             1\n",
              "guadalupe            1\n",
              "guacui               1\n",
              "ângulo               1\n",
              "Name: geolocation_zip_code_prefix, Length: 6183, dtype: int64"
            ]
          },
          "execution_count": 153,
          "metadata": {},
          "output_type": "execute_result"
        }
      ],
      "source": [
        "geolocation_df.groupby(by=\"geolocation_city\").geolocation_zip_code_prefix.nunique().sort_values(ascending=False)"
      ]
    },
    {
      "cell_type": "markdown",
      "metadata": {
        "id": "zOjMeTXZkW05"
      },
      "source": [
        "####Explore `customer_df` & `geolocation_df`"
      ]
    },
    {
      "cell_type": "code",
      "execution_count": 154,
      "metadata": {
        "colab": {
          "base_uri": "https://localhost:8080/",
          "height": 226
        },
        "id": "7SJZstvOlADd",
        "outputId": "cee72449-3824-495f-d13a-59f8e813a8ad"
      },
      "outputs": [
        {
          "data": {
            "text/html": [
              "<div>\n",
              "<style scoped>\n",
              "    .dataframe tbody tr th:only-of-type {\n",
              "        vertical-align: middle;\n",
              "    }\n",
              "\n",
              "    .dataframe tbody tr th {\n",
              "        vertical-align: top;\n",
              "    }\n",
              "\n",
              "    .dataframe thead th {\n",
              "        text-align: right;\n",
              "    }\n",
              "</style>\n",
              "<table border=\"1\" class=\"dataframe\">\n",
              "  <thead>\n",
              "    <tr style=\"text-align: right;\">\n",
              "      <th></th>\n",
              "      <th>customer_id</th>\n",
              "      <th>customer_unique_id</th>\n",
              "      <th>customer_zip_code_prefix</th>\n",
              "      <th>customer_city</th>\n",
              "      <th>customer_state</th>\n",
              "      <th>geolocation_zip_code_prefix</th>\n",
              "      <th>geolocation_lat</th>\n",
              "      <th>geolocation_lng</th>\n",
              "      <th>geolocation_city</th>\n",
              "      <th>geolocation_state</th>\n",
              "    </tr>\n",
              "  </thead>\n",
              "  <tbody>\n",
              "    <tr>\n",
              "      <th>0</th>\n",
              "      <td>06b8999e2fba1a1fbc88172c00ba8bc7</td>\n",
              "      <td>861eff4711a542e4b93843c6dd7febb0</td>\n",
              "      <td>14409</td>\n",
              "      <td>franca</td>\n",
              "      <td>SP</td>\n",
              "      <td>14409.0</td>\n",
              "      <td>-20.509897</td>\n",
              "      <td>-47.397866</td>\n",
              "      <td>franca</td>\n",
              "      <td>SP</td>\n",
              "    </tr>\n",
              "    <tr>\n",
              "      <th>1</th>\n",
              "      <td>06b8999e2fba1a1fbc88172c00ba8bc7</td>\n",
              "      <td>861eff4711a542e4b93843c6dd7febb0</td>\n",
              "      <td>14409</td>\n",
              "      <td>franca</td>\n",
              "      <td>SP</td>\n",
              "      <td>14409.0</td>\n",
              "      <td>-20.497396</td>\n",
              "      <td>-47.399241</td>\n",
              "      <td>franca</td>\n",
              "      <td>SP</td>\n",
              "    </tr>\n",
              "    <tr>\n",
              "      <th>2</th>\n",
              "      <td>06b8999e2fba1a1fbc88172c00ba8bc7</td>\n",
              "      <td>861eff4711a542e4b93843c6dd7febb0</td>\n",
              "      <td>14409</td>\n",
              "      <td>franca</td>\n",
              "      <td>SP</td>\n",
              "      <td>14409.0</td>\n",
              "      <td>-20.510459</td>\n",
              "      <td>-47.399553</td>\n",
              "      <td>franca</td>\n",
              "      <td>SP</td>\n",
              "    </tr>\n",
              "    <tr>\n",
              "      <th>3</th>\n",
              "      <td>06b8999e2fba1a1fbc88172c00ba8bc7</td>\n",
              "      <td>861eff4711a542e4b93843c6dd7febb0</td>\n",
              "      <td>14409</td>\n",
              "      <td>franca</td>\n",
              "      <td>SP</td>\n",
              "      <td>14409.0</td>\n",
              "      <td>-20.480940</td>\n",
              "      <td>-47.394161</td>\n",
              "      <td>franca</td>\n",
              "      <td>SP</td>\n",
              "    </tr>\n",
              "    <tr>\n",
              "      <th>4</th>\n",
              "      <td>06b8999e2fba1a1fbc88172c00ba8bc7</td>\n",
              "      <td>861eff4711a542e4b93843c6dd7febb0</td>\n",
              "      <td>14409</td>\n",
              "      <td>franca</td>\n",
              "      <td>SP</td>\n",
              "      <td>14409.0</td>\n",
              "      <td>-20.515413</td>\n",
              "      <td>-47.398194</td>\n",
              "      <td>franca</td>\n",
              "      <td>SP</td>\n",
              "    </tr>\n",
              "  </tbody>\n",
              "</table>\n",
              "</div>"
            ],
            "text/plain": [
              "                        customer_id                customer_unique_id  \\\n",
              "0  06b8999e2fba1a1fbc88172c00ba8bc7  861eff4711a542e4b93843c6dd7febb0   \n",
              "1  06b8999e2fba1a1fbc88172c00ba8bc7  861eff4711a542e4b93843c6dd7febb0   \n",
              "2  06b8999e2fba1a1fbc88172c00ba8bc7  861eff4711a542e4b93843c6dd7febb0   \n",
              "3  06b8999e2fba1a1fbc88172c00ba8bc7  861eff4711a542e4b93843c6dd7febb0   \n",
              "4  06b8999e2fba1a1fbc88172c00ba8bc7  861eff4711a542e4b93843c6dd7febb0   \n",
              "\n",
              "   customer_zip_code_prefix customer_city customer_state  \\\n",
              "0                     14409        franca             SP   \n",
              "1                     14409        franca             SP   \n",
              "2                     14409        franca             SP   \n",
              "3                     14409        franca             SP   \n",
              "4                     14409        franca             SP   \n",
              "\n",
              "   geolocation_zip_code_prefix  geolocation_lat  geolocation_lng  \\\n",
              "0                      14409.0       -20.509897       -47.397866   \n",
              "1                      14409.0       -20.497396       -47.399241   \n",
              "2                      14409.0       -20.510459       -47.399553   \n",
              "3                      14409.0       -20.480940       -47.394161   \n",
              "4                      14409.0       -20.515413       -47.398194   \n",
              "\n",
              "  geolocation_city geolocation_state  \n",
              "0           franca                SP  \n",
              "1           franca                SP  \n",
              "2           franca                SP  \n",
              "3           franca                SP  \n",
              "4           franca                SP  "
            ]
          },
          "execution_count": 154,
          "metadata": {},
          "output_type": "execute_result"
        }
      ],
      "source": [
        "geolocation_customer_df = pd.merge(\n",
        "    left=customers_df,\n",
        "    right=geolocation_df,\n",
        "    how='left',\n",
        "    left_on='customer_zip_code_prefix',\n",
        "    right_on='geolocation_zip_code_prefix'\n",
        ")\n",
        "geolocation_customer_df.head()"
      ]
    },
    {
      "cell_type": "code",
      "execution_count": 155,
      "metadata": {
        "colab": {
          "base_uri": "https://localhost:8080/",
          "height": 490
        },
        "id": "4EEpBfssmNLV",
        "outputId": "23a2ad09-bf6b-42ca-df0b-8b25f6025bf5"
      },
      "outputs": [
        {
          "data": {
            "text/plain": [
              "geolocation_city\n",
              "sao paulo                  15618\n",
              "rio de janeiro              6923\n",
              "belo horizonte              2789\n",
              "brasilia                    1964\n",
              "curitiba                    1524\n",
              "                           ...  \n",
              "centralina                     1\n",
              "centro novo do maranhao        1\n",
              "cerejeiras                     1\n",
              "isaias coelho                  1\n",
              "campinacu                      1\n",
              "Name: customer_id, Length: 4380, dtype: int64"
            ]
          },
          "execution_count": 155,
          "metadata": {},
          "output_type": "execute_result"
        }
      ],
      "source": [
        "geolocation_customer_df.groupby(by='geolocation_city').customer_id.nunique().sort_values(ascending=False)"
      ]
    },
    {
      "cell_type": "markdown",
      "metadata": {
        "id": "mNzkYV477WSr"
      },
      "source": [
        "####Explore `orders_df`"
      ]
    },
    {
      "cell_type": "code",
      "execution_count": 156,
      "metadata": {
        "colab": {
          "base_uri": "https://localhost:8080/",
          "height": 226
        },
        "id": "PmRScLeW7gxI",
        "outputId": "bd96011e-1b39-4f7a-95a4-3792f731401e"
      },
      "outputs": [
        {
          "data": {
            "text/html": [
              "<div>\n",
              "<style scoped>\n",
              "    .dataframe tbody tr th:only-of-type {\n",
              "        vertical-align: middle;\n",
              "    }\n",
              "\n",
              "    .dataframe tbody tr th {\n",
              "        vertical-align: top;\n",
              "    }\n",
              "\n",
              "    .dataframe thead th {\n",
              "        text-align: right;\n",
              "    }\n",
              "</style>\n",
              "<table border=\"1\" class=\"dataframe\">\n",
              "  <thead>\n",
              "    <tr style=\"text-align: right;\">\n",
              "      <th></th>\n",
              "      <th>order_id</th>\n",
              "      <th>customer_id</th>\n",
              "      <th>order_status</th>\n",
              "      <th>order_purchase_timestamp</th>\n",
              "      <th>order_approved_at</th>\n",
              "      <th>order_delivered_carrier_date</th>\n",
              "      <th>order_delivered_customer_date</th>\n",
              "      <th>order_estimated_delivery_date</th>\n",
              "    </tr>\n",
              "  </thead>\n",
              "  <tbody>\n",
              "    <tr>\n",
              "      <th>48465</th>\n",
              "      <td>767595f6cbb3f45f3d3fced0aecc7fed</td>\n",
              "      <td>971928f2e125b0d9b0d51e24b0c682eb</td>\n",
              "      <td>delivered</td>\n",
              "      <td>2018-01-18 15:57:06</td>\n",
              "      <td>2018-01-18 16:16:27</td>\n",
              "      <td>2018-01-19 22:13:44</td>\n",
              "      <td>2018-02-09 15:35:08</td>\n",
              "      <td>2018-02-19</td>\n",
              "    </tr>\n",
              "    <tr>\n",
              "      <th>84422</th>\n",
              "      <td>3d46adb746f95277b8567c00b7bbfc22</td>\n",
              "      <td>00efd0bb67f3af4d73269668a6cc8b49</td>\n",
              "      <td>delivered</td>\n",
              "      <td>2018-05-11 01:46:56</td>\n",
              "      <td>2018-05-11 02:18:11</td>\n",
              "      <td>2018-05-11 13:22:00</td>\n",
              "      <td>2018-05-16 22:58:49</td>\n",
              "      <td>2018-05-21</td>\n",
              "    </tr>\n",
              "    <tr>\n",
              "      <th>42034</th>\n",
              "      <td>76cd8bdf29b1ad8f6dad715d6ad8fe90</td>\n",
              "      <td>f3ea766418f91a35a84d530bae7787ff</td>\n",
              "      <td>delivered</td>\n",
              "      <td>2017-05-10 13:17:10</td>\n",
              "      <td>2017-05-10 13:30:16</td>\n",
              "      <td>2017-05-11 12:24:29</td>\n",
              "      <td>2017-05-30 09:42:28</td>\n",
              "      <td>2017-06-01</td>\n",
              "    </tr>\n",
              "    <tr>\n",
              "      <th>59534</th>\n",
              "      <td>89df20c6ed881fc9d841a717c76a212b</td>\n",
              "      <td>dc0601b04f43f219b2cefc8025fe4673</td>\n",
              "      <td>delivered</td>\n",
              "      <td>2017-06-16 10:33:12</td>\n",
              "      <td>2017-06-17 10:25:15</td>\n",
              "      <td>2017-06-20 10:54:02</td>\n",
              "      <td>2017-06-21 18:06:29</td>\n",
              "      <td>2017-06-29</td>\n",
              "    </tr>\n",
              "    <tr>\n",
              "      <th>42225</th>\n",
              "      <td>3a7fcc00c5d5f8bd9daf0c246bd93a54</td>\n",
              "      <td>abb4bba6c51db8e00607f28f0af2e448</td>\n",
              "      <td>delivered</td>\n",
              "      <td>2018-01-21 14:07:04</td>\n",
              "      <td>2018-01-22 13:50:47</td>\n",
              "      <td>2018-01-23 20:57:43</td>\n",
              "      <td>2018-01-29 23:56:57</td>\n",
              "      <td>2018-02-15</td>\n",
              "    </tr>\n",
              "  </tbody>\n",
              "</table>\n",
              "</div>"
            ],
            "text/plain": [
              "                               order_id                       customer_id  \\\n",
              "48465  767595f6cbb3f45f3d3fced0aecc7fed  971928f2e125b0d9b0d51e24b0c682eb   \n",
              "84422  3d46adb746f95277b8567c00b7bbfc22  00efd0bb67f3af4d73269668a6cc8b49   \n",
              "42034  76cd8bdf29b1ad8f6dad715d6ad8fe90  f3ea766418f91a35a84d530bae7787ff   \n",
              "59534  89df20c6ed881fc9d841a717c76a212b  dc0601b04f43f219b2cefc8025fe4673   \n",
              "42225  3a7fcc00c5d5f8bd9daf0c246bd93a54  abb4bba6c51db8e00607f28f0af2e448   \n",
              "\n",
              "      order_status order_purchase_timestamp   order_approved_at  \\\n",
              "48465    delivered      2018-01-18 15:57:06 2018-01-18 16:16:27   \n",
              "84422    delivered      2018-05-11 01:46:56 2018-05-11 02:18:11   \n",
              "42034    delivered      2017-05-10 13:17:10 2017-05-10 13:30:16   \n",
              "59534    delivered      2017-06-16 10:33:12 2017-06-17 10:25:15   \n",
              "42225    delivered      2018-01-21 14:07:04 2018-01-22 13:50:47   \n",
              "\n",
              "      order_delivered_carrier_date order_delivered_customer_date  \\\n",
              "48465          2018-01-19 22:13:44           2018-02-09 15:35:08   \n",
              "84422          2018-05-11 13:22:00           2018-05-16 22:58:49   \n",
              "42034          2017-05-11 12:24:29           2017-05-30 09:42:28   \n",
              "59534          2017-06-20 10:54:02           2017-06-21 18:06:29   \n",
              "42225          2018-01-23 20:57:43           2018-01-29 23:56:57   \n",
              "\n",
              "      order_estimated_delivery_date  \n",
              "48465                    2018-02-19  \n",
              "84422                    2018-05-21  \n",
              "42034                    2017-06-01  \n",
              "59534                    2017-06-29  \n",
              "42225                    2018-02-15  "
            ]
          },
          "execution_count": 156,
          "metadata": {},
          "output_type": "execute_result"
        }
      ],
      "source": [
        "orders_df.sample(5)"
      ]
    },
    {
      "cell_type": "code",
      "execution_count": 157,
      "metadata": {
        "colab": {
          "base_uri": "https://localhost:8080/"
        },
        "id": "6DEn2atxEz2K",
        "outputId": "34f5e2bb-e908-4d2e-d88c-c31e2643f1d6"
      },
      "outputs": [
        {
          "data": {
            "text/plain": [
              "True"
            ]
          },
          "execution_count": 157,
          "metadata": {},
          "output_type": "execute_result"
        }
      ],
      "source": [
        "orders_df.order_id.is_unique"
      ]
    },
    {
      "cell_type": "code",
      "execution_count": 158,
      "metadata": {
        "colab": {
          "base_uri": "https://localhost:8080/",
          "height": 226
        },
        "id": "rmPKl2F7_H8i",
        "outputId": "4dfe409e-b926-452c-9688-c7d6172938d6"
      },
      "outputs": [
        {
          "data": {
            "text/html": [
              "<div>\n",
              "<style scoped>\n",
              "    .dataframe tbody tr th:only-of-type {\n",
              "        vertical-align: middle;\n",
              "    }\n",
              "\n",
              "    .dataframe tbody tr th {\n",
              "        vertical-align: top;\n",
              "    }\n",
              "\n",
              "    .dataframe thead th {\n",
              "        text-align: right;\n",
              "    }\n",
              "</style>\n",
              "<table border=\"1\" class=\"dataframe\">\n",
              "  <thead>\n",
              "    <tr style=\"text-align: right;\">\n",
              "      <th></th>\n",
              "      <th>order_id</th>\n",
              "      <th>customer_id</th>\n",
              "      <th>order_status</th>\n",
              "      <th>order_purchase_timestamp</th>\n",
              "      <th>order_approved_at</th>\n",
              "      <th>order_delivered_carrier_date</th>\n",
              "      <th>order_delivered_customer_date</th>\n",
              "      <th>order_estimated_delivery_date</th>\n",
              "      <th>delivery_day</th>\n",
              "    </tr>\n",
              "  </thead>\n",
              "  <tbody>\n",
              "    <tr>\n",
              "      <th>0</th>\n",
              "      <td>e481f51cbdc54678b7cc49136f2d6af7</td>\n",
              "      <td>9ef432eb6251297304e76186b10a928d</td>\n",
              "      <td>delivered</td>\n",
              "      <td>2017-10-02 10:56:33</td>\n",
              "      <td>2017-10-02 11:07:15</td>\n",
              "      <td>2017-10-04 19:55:00</td>\n",
              "      <td>2017-10-10 21:25:13</td>\n",
              "      <td>2017-10-18</td>\n",
              "      <td>6</td>\n",
              "    </tr>\n",
              "    <tr>\n",
              "      <th>1</th>\n",
              "      <td>53cdb2fc8bc7dce0b6741e2150273451</td>\n",
              "      <td>b0830fb4747a6c6d20dea0b8c802d7ef</td>\n",
              "      <td>delivered</td>\n",
              "      <td>2018-07-24 20:41:37</td>\n",
              "      <td>2018-07-26 03:24:27</td>\n",
              "      <td>2018-07-26 14:31:00</td>\n",
              "      <td>2018-08-07 15:27:45</td>\n",
              "      <td>2018-08-13</td>\n",
              "      <td>12</td>\n",
              "    </tr>\n",
              "    <tr>\n",
              "      <th>2</th>\n",
              "      <td>47770eb9100c2d0c44946d9cf07ec65d</td>\n",
              "      <td>41ce2a54c0b03bf3443c3d931a367089</td>\n",
              "      <td>delivered</td>\n",
              "      <td>2018-08-08 08:38:49</td>\n",
              "      <td>2018-08-08 08:55:23</td>\n",
              "      <td>2018-08-08 13:50:00</td>\n",
              "      <td>2018-08-17 18:06:29</td>\n",
              "      <td>2018-09-04</td>\n",
              "      <td>9</td>\n",
              "    </tr>\n",
              "    <tr>\n",
              "      <th>3</th>\n",
              "      <td>949d5b44dbf5de918fe9c16f97b45f8a</td>\n",
              "      <td>f88197465ea7920adcdbec7375364d82</td>\n",
              "      <td>delivered</td>\n",
              "      <td>2017-11-18 19:28:06</td>\n",
              "      <td>2017-11-18 19:45:59</td>\n",
              "      <td>2017-11-22 13:39:59</td>\n",
              "      <td>2017-12-02 00:28:42</td>\n",
              "      <td>2017-12-15</td>\n",
              "      <td>9</td>\n",
              "    </tr>\n",
              "    <tr>\n",
              "      <th>4</th>\n",
              "      <td>ad21c59c0840e6cb83a9ceb5573f8159</td>\n",
              "      <td>8ab97904e6daea8866dbdbc4fb7aad2c</td>\n",
              "      <td>delivered</td>\n",
              "      <td>2018-02-13 21:18:39</td>\n",
              "      <td>2018-02-13 22:20:29</td>\n",
              "      <td>2018-02-14 19:46:34</td>\n",
              "      <td>2018-02-16 18:17:02</td>\n",
              "      <td>2018-02-26</td>\n",
              "      <td>1</td>\n",
              "    </tr>\n",
              "  </tbody>\n",
              "</table>\n",
              "</div>"
            ],
            "text/plain": [
              "                           order_id                       customer_id  \\\n",
              "0  e481f51cbdc54678b7cc49136f2d6af7  9ef432eb6251297304e76186b10a928d   \n",
              "1  53cdb2fc8bc7dce0b6741e2150273451  b0830fb4747a6c6d20dea0b8c802d7ef   \n",
              "2  47770eb9100c2d0c44946d9cf07ec65d  41ce2a54c0b03bf3443c3d931a367089   \n",
              "3  949d5b44dbf5de918fe9c16f97b45f8a  f88197465ea7920adcdbec7375364d82   \n",
              "4  ad21c59c0840e6cb83a9ceb5573f8159  8ab97904e6daea8866dbdbc4fb7aad2c   \n",
              "\n",
              "  order_status order_purchase_timestamp   order_approved_at  \\\n",
              "0    delivered      2017-10-02 10:56:33 2017-10-02 11:07:15   \n",
              "1    delivered      2018-07-24 20:41:37 2018-07-26 03:24:27   \n",
              "2    delivered      2018-08-08 08:38:49 2018-08-08 08:55:23   \n",
              "3    delivered      2017-11-18 19:28:06 2017-11-18 19:45:59   \n",
              "4    delivered      2018-02-13 21:18:39 2018-02-13 22:20:29   \n",
              "\n",
              "  order_delivered_carrier_date order_delivered_customer_date  \\\n",
              "0          2017-10-04 19:55:00           2017-10-10 21:25:13   \n",
              "1          2018-07-26 14:31:00           2018-08-07 15:27:45   \n",
              "2          2018-08-08 13:50:00           2018-08-17 18:06:29   \n",
              "3          2017-11-22 13:39:59           2017-12-02 00:28:42   \n",
              "4          2018-02-14 19:46:34           2018-02-16 18:17:02   \n",
              "\n",
              "  order_estimated_delivery_date  delivery_day  \n",
              "0                    2017-10-18             6  \n",
              "1                    2018-08-13            12  \n",
              "2                    2018-09-04             9  \n",
              "3                    2017-12-15             9  \n",
              "4                    2018-02-26             1  "
            ]
          },
          "execution_count": 158,
          "metadata": {},
          "output_type": "execute_result"
        }
      ],
      "source": [
        "delivery_day =  orders_df['order_delivered_customer_date']- orders_df['order_delivered_carrier_date']\n",
        "delivery_day = delivery_day.dt.days\n",
        "orders_df['delivery_day'] = delivery_day\n",
        "orders_df.head()"
      ]
    },
    {
      "cell_type": "code",
      "execution_count": 159,
      "metadata": {
        "colab": {
          "base_uri": "https://localhost:8080/"
        },
        "id": "9TdZHxrpCIAe",
        "outputId": "1663608c-9995-41ce-b516-008b104ac923"
      },
      "outputs": [
        {
          "name": "stdout",
          "output_type": "stream",
          "text": [
            "Waktu pengiriman paling lama adalah  205 hari\n"
          ]
        }
      ],
      "source": [
        "print('Waktu pengiriman paling lama adalah ',orders_df['delivery_day'].max(), 'hari')"
      ]
    },
    {
      "cell_type": "code",
      "execution_count": 160,
      "metadata": {
        "colab": {
          "base_uri": "https://localhost:8080/",
          "height": 178
        },
        "id": "4ebdK8D7FG0B",
        "outputId": "55e587ec-2bb1-45eb-8e9d-c8af00978f6b"
      },
      "outputs": [
        {
          "data": {
            "text/plain": [
              "order_status\n",
              "canceled         6\n",
              "delivered    96455\n",
              "Name: customer_id, dtype: int64"
            ]
          },
          "execution_count": 160,
          "metadata": {},
          "output_type": "execute_result"
        }
      ],
      "source": [
        "orders_df.groupby(by='order_status').customer_id.count()"
      ]
    },
    {
      "cell_type": "code",
      "execution_count": 161,
      "metadata": {
        "colab": {
          "base_uri": "https://localhost:8080/",
          "height": 258
        },
        "id": "AWE35dZAGH1V",
        "outputId": "84fe3075-3192-4a59-a811-2b99e222d262"
      },
      "outputs": [
        {
          "data": {
            "text/html": [
              "<div>\n",
              "<style scoped>\n",
              "    .dataframe tbody tr th:only-of-type {\n",
              "        vertical-align: middle;\n",
              "    }\n",
              "\n",
              "    .dataframe tbody tr th {\n",
              "        vertical-align: top;\n",
              "    }\n",
              "\n",
              "    .dataframe thead th {\n",
              "        text-align: right;\n",
              "    }\n",
              "</style>\n",
              "<table border=\"1\" class=\"dataframe\">\n",
              "  <thead>\n",
              "    <tr style=\"text-align: right;\">\n",
              "      <th></th>\n",
              "      <th>order_id</th>\n",
              "      <th>customer_id</th>\n",
              "      <th>order_status</th>\n",
              "      <th>order_purchase_timestamp</th>\n",
              "      <th>order_approved_at</th>\n",
              "      <th>order_delivered_carrier_date</th>\n",
              "      <th>order_delivered_customer_date</th>\n",
              "      <th>order_estimated_delivery_date</th>\n",
              "      <th>delivery_day</th>\n",
              "    </tr>\n",
              "  </thead>\n",
              "  <tbody>\n",
              "    <tr>\n",
              "      <th>2921</th>\n",
              "      <td>1950d777989f6a877539f53795b4c3c3</td>\n",
              "      <td>1bccb206de9f0f25adc6871a1bcf77b2</td>\n",
              "      <td>canceled</td>\n",
              "      <td>2018-02-19 19:48:52</td>\n",
              "      <td>2018-02-19 20:56:05</td>\n",
              "      <td>2018-02-20 19:57:13</td>\n",
              "      <td>2018-03-21 22:03:51</td>\n",
              "      <td>2018-03-09</td>\n",
              "      <td>29</td>\n",
              "    </tr>\n",
              "    <tr>\n",
              "      <th>8791</th>\n",
              "      <td>dabf2b0e35b423f94618bf965fcb7514</td>\n",
              "      <td>5cdec0bb8cbdf53ffc8fdc212cd247c6</td>\n",
              "      <td>canceled</td>\n",
              "      <td>2016-10-09 00:56:52</td>\n",
              "      <td>2016-10-09 13:36:58</td>\n",
              "      <td>2016-10-13 13:36:59</td>\n",
              "      <td>2016-10-16 14:36:59</td>\n",
              "      <td>2016-11-30</td>\n",
              "      <td>3</td>\n",
              "    </tr>\n",
              "    <tr>\n",
              "      <th>58266</th>\n",
              "      <td>770d331c84e5b214bd9dc70a10b829d0</td>\n",
              "      <td>6c57e6119369185e575b36712766b0ef</td>\n",
              "      <td>canceled</td>\n",
              "      <td>2016-10-07 14:52:30</td>\n",
              "      <td>2016-10-07 15:07:10</td>\n",
              "      <td>2016-10-11 15:07:11</td>\n",
              "      <td>2016-10-14 15:07:11</td>\n",
              "      <td>2016-11-29</td>\n",
              "      <td>3</td>\n",
              "    </tr>\n",
              "    <tr>\n",
              "      <th>59332</th>\n",
              "      <td>8beb59392e21af5eb9547ae1a9938d06</td>\n",
              "      <td>bf609b5741f71697f65ce3852c5d2623</td>\n",
              "      <td>canceled</td>\n",
              "      <td>2016-10-08 20:17:50</td>\n",
              "      <td>2016-10-09 14:34:30</td>\n",
              "      <td>2016-10-14 22:45:26</td>\n",
              "      <td>2016-10-19 18:47:43</td>\n",
              "      <td>2016-11-30</td>\n",
              "      <td>4</td>\n",
              "    </tr>\n",
              "    <tr>\n",
              "      <th>92636</th>\n",
              "      <td>65d1e226dfaeb8cdc42f665422522d14</td>\n",
              "      <td>70fc57eeae292675927697fe03ad3ff5</td>\n",
              "      <td>canceled</td>\n",
              "      <td>2016-10-03 21:01:41</td>\n",
              "      <td>2016-10-04 10:18:57</td>\n",
              "      <td>2016-10-25 12:14:28</td>\n",
              "      <td>2016-11-08 10:58:34</td>\n",
              "      <td>2016-11-25</td>\n",
              "      <td>13</td>\n",
              "    </tr>\n",
              "    <tr>\n",
              "      <th>94399</th>\n",
              "      <td>2c45c33d2f9cb8ff8b1c86cc28c11c30</td>\n",
              "      <td>de4caa97afa80c8eeac2ff4c8da5b72e</td>\n",
              "      <td>canceled</td>\n",
              "      <td>2016-10-09 15:39:56</td>\n",
              "      <td>2016-10-10 10:40:49</td>\n",
              "      <td>2016-10-14 10:40:50</td>\n",
              "      <td>2016-11-09 14:53:50</td>\n",
              "      <td>2016-12-08</td>\n",
              "      <td>26</td>\n",
              "    </tr>\n",
              "  </tbody>\n",
              "</table>\n",
              "</div>"
            ],
            "text/plain": [
              "                               order_id                       customer_id  \\\n",
              "2921   1950d777989f6a877539f53795b4c3c3  1bccb206de9f0f25adc6871a1bcf77b2   \n",
              "8791   dabf2b0e35b423f94618bf965fcb7514  5cdec0bb8cbdf53ffc8fdc212cd247c6   \n",
              "58266  770d331c84e5b214bd9dc70a10b829d0  6c57e6119369185e575b36712766b0ef   \n",
              "59332  8beb59392e21af5eb9547ae1a9938d06  bf609b5741f71697f65ce3852c5d2623   \n",
              "92636  65d1e226dfaeb8cdc42f665422522d14  70fc57eeae292675927697fe03ad3ff5   \n",
              "94399  2c45c33d2f9cb8ff8b1c86cc28c11c30  de4caa97afa80c8eeac2ff4c8da5b72e   \n",
              "\n",
              "      order_status order_purchase_timestamp   order_approved_at  \\\n",
              "2921      canceled      2018-02-19 19:48:52 2018-02-19 20:56:05   \n",
              "8791      canceled      2016-10-09 00:56:52 2016-10-09 13:36:58   \n",
              "58266     canceled      2016-10-07 14:52:30 2016-10-07 15:07:10   \n",
              "59332     canceled      2016-10-08 20:17:50 2016-10-09 14:34:30   \n",
              "92636     canceled      2016-10-03 21:01:41 2016-10-04 10:18:57   \n",
              "94399     canceled      2016-10-09 15:39:56 2016-10-10 10:40:49   \n",
              "\n",
              "      order_delivered_carrier_date order_delivered_customer_date  \\\n",
              "2921           2018-02-20 19:57:13           2018-03-21 22:03:51   \n",
              "8791           2016-10-13 13:36:59           2016-10-16 14:36:59   \n",
              "58266          2016-10-11 15:07:11           2016-10-14 15:07:11   \n",
              "59332          2016-10-14 22:45:26           2016-10-19 18:47:43   \n",
              "92636          2016-10-25 12:14:28           2016-11-08 10:58:34   \n",
              "94399          2016-10-14 10:40:50           2016-11-09 14:53:50   \n",
              "\n",
              "      order_estimated_delivery_date  delivery_day  \n",
              "2921                     2018-03-09            29  \n",
              "8791                     2016-11-30             3  \n",
              "58266                    2016-11-29             3  \n",
              "59332                    2016-11-30             4  \n",
              "92636                    2016-11-25            13  \n",
              "94399                    2016-12-08            26  "
            ]
          },
          "execution_count": 161,
          "metadata": {},
          "output_type": "execute_result"
        }
      ],
      "source": [
        "orders_df[orders_df.order_status == 'canceled']"
      ]
    },
    {
      "cell_type": "markdown",
      "metadata": {
        "id": "kC2q7CLDGl8p"
      },
      "source": [
        "####Explore `orders_df` & `customers_df`"
      ]
    },
    {
      "cell_type": "markdown",
      "metadata": {
        "id": "6igTCVdyGugM"
      },
      "source": [
        "#####Menggabungkan data `customers_df` dan `orders_df`"
      ]
    },
    {
      "cell_type": "code",
      "execution_count": 162,
      "metadata": {
        "colab": {
          "base_uri": "https://localhost:8080/",
          "height": 244
        },
        "id": "Ohck-l8tG0oi",
        "outputId": "3e146f94-5537-4b91-8d52-b57cf5572200"
      },
      "outputs": [
        {
          "data": {
            "text/html": [
              "<div>\n",
              "<style scoped>\n",
              "    .dataframe tbody tr th:only-of-type {\n",
              "        vertical-align: middle;\n",
              "    }\n",
              "\n",
              "    .dataframe tbody tr th {\n",
              "        vertical-align: top;\n",
              "    }\n",
              "\n",
              "    .dataframe thead th {\n",
              "        text-align: right;\n",
              "    }\n",
              "</style>\n",
              "<table border=\"1\" class=\"dataframe\">\n",
              "  <thead>\n",
              "    <tr style=\"text-align: right;\">\n",
              "      <th></th>\n",
              "      <th>order_id</th>\n",
              "      <th>customer_id</th>\n",
              "      <th>order_status</th>\n",
              "      <th>order_purchase_timestamp</th>\n",
              "      <th>order_approved_at</th>\n",
              "      <th>order_delivered_carrier_date</th>\n",
              "      <th>order_delivered_customer_date</th>\n",
              "      <th>order_estimated_delivery_date</th>\n",
              "      <th>delivery_day</th>\n",
              "      <th>customer_unique_id</th>\n",
              "      <th>customer_zip_code_prefix</th>\n",
              "      <th>customer_city</th>\n",
              "      <th>customer_state</th>\n",
              "    </tr>\n",
              "  </thead>\n",
              "  <tbody>\n",
              "    <tr>\n",
              "      <th>0</th>\n",
              "      <td>e481f51cbdc54678b7cc49136f2d6af7</td>\n",
              "      <td>9ef432eb6251297304e76186b10a928d</td>\n",
              "      <td>delivered</td>\n",
              "      <td>2017-10-02 10:56:33</td>\n",
              "      <td>2017-10-02 11:07:15</td>\n",
              "      <td>2017-10-04 19:55:00</td>\n",
              "      <td>2017-10-10 21:25:13</td>\n",
              "      <td>2017-10-18</td>\n",
              "      <td>6</td>\n",
              "      <td>7c396fd4830fd04220f754e42b4e5bff</td>\n",
              "      <td>3149</td>\n",
              "      <td>sao paulo</td>\n",
              "      <td>SP</td>\n",
              "    </tr>\n",
              "    <tr>\n",
              "      <th>1</th>\n",
              "      <td>53cdb2fc8bc7dce0b6741e2150273451</td>\n",
              "      <td>b0830fb4747a6c6d20dea0b8c802d7ef</td>\n",
              "      <td>delivered</td>\n",
              "      <td>2018-07-24 20:41:37</td>\n",
              "      <td>2018-07-26 03:24:27</td>\n",
              "      <td>2018-07-26 14:31:00</td>\n",
              "      <td>2018-08-07 15:27:45</td>\n",
              "      <td>2018-08-13</td>\n",
              "      <td>12</td>\n",
              "      <td>af07308b275d755c9edb36a90c618231</td>\n",
              "      <td>47813</td>\n",
              "      <td>barreiras</td>\n",
              "      <td>BA</td>\n",
              "    </tr>\n",
              "    <tr>\n",
              "      <th>2</th>\n",
              "      <td>47770eb9100c2d0c44946d9cf07ec65d</td>\n",
              "      <td>41ce2a54c0b03bf3443c3d931a367089</td>\n",
              "      <td>delivered</td>\n",
              "      <td>2018-08-08 08:38:49</td>\n",
              "      <td>2018-08-08 08:55:23</td>\n",
              "      <td>2018-08-08 13:50:00</td>\n",
              "      <td>2018-08-17 18:06:29</td>\n",
              "      <td>2018-09-04</td>\n",
              "      <td>9</td>\n",
              "      <td>3a653a41f6f9fc3d2a113cf8398680e8</td>\n",
              "      <td>75265</td>\n",
              "      <td>vianopolis</td>\n",
              "      <td>GO</td>\n",
              "    </tr>\n",
              "    <tr>\n",
              "      <th>3</th>\n",
              "      <td>949d5b44dbf5de918fe9c16f97b45f8a</td>\n",
              "      <td>f88197465ea7920adcdbec7375364d82</td>\n",
              "      <td>delivered</td>\n",
              "      <td>2017-11-18 19:28:06</td>\n",
              "      <td>2017-11-18 19:45:59</td>\n",
              "      <td>2017-11-22 13:39:59</td>\n",
              "      <td>2017-12-02 00:28:42</td>\n",
              "      <td>2017-12-15</td>\n",
              "      <td>9</td>\n",
              "      <td>7c142cf63193a1473d2e66489a9ae977</td>\n",
              "      <td>59296</td>\n",
              "      <td>sao goncalo do amarante</td>\n",
              "      <td>RN</td>\n",
              "    </tr>\n",
              "    <tr>\n",
              "      <th>4</th>\n",
              "      <td>ad21c59c0840e6cb83a9ceb5573f8159</td>\n",
              "      <td>8ab97904e6daea8866dbdbc4fb7aad2c</td>\n",
              "      <td>delivered</td>\n",
              "      <td>2018-02-13 21:18:39</td>\n",
              "      <td>2018-02-13 22:20:29</td>\n",
              "      <td>2018-02-14 19:46:34</td>\n",
              "      <td>2018-02-16 18:17:02</td>\n",
              "      <td>2018-02-26</td>\n",
              "      <td>1</td>\n",
              "      <td>72632f0f9dd73dfee390c9b22eb56dd6</td>\n",
              "      <td>9195</td>\n",
              "      <td>santo andre</td>\n",
              "      <td>SP</td>\n",
              "    </tr>\n",
              "  </tbody>\n",
              "</table>\n",
              "</div>"
            ],
            "text/plain": [
              "                           order_id                       customer_id  \\\n",
              "0  e481f51cbdc54678b7cc49136f2d6af7  9ef432eb6251297304e76186b10a928d   \n",
              "1  53cdb2fc8bc7dce0b6741e2150273451  b0830fb4747a6c6d20dea0b8c802d7ef   \n",
              "2  47770eb9100c2d0c44946d9cf07ec65d  41ce2a54c0b03bf3443c3d931a367089   \n",
              "3  949d5b44dbf5de918fe9c16f97b45f8a  f88197465ea7920adcdbec7375364d82   \n",
              "4  ad21c59c0840e6cb83a9ceb5573f8159  8ab97904e6daea8866dbdbc4fb7aad2c   \n",
              "\n",
              "  order_status order_purchase_timestamp   order_approved_at  \\\n",
              "0    delivered      2017-10-02 10:56:33 2017-10-02 11:07:15   \n",
              "1    delivered      2018-07-24 20:41:37 2018-07-26 03:24:27   \n",
              "2    delivered      2018-08-08 08:38:49 2018-08-08 08:55:23   \n",
              "3    delivered      2017-11-18 19:28:06 2017-11-18 19:45:59   \n",
              "4    delivered      2018-02-13 21:18:39 2018-02-13 22:20:29   \n",
              "\n",
              "  order_delivered_carrier_date order_delivered_customer_date  \\\n",
              "0          2017-10-04 19:55:00           2017-10-10 21:25:13   \n",
              "1          2018-07-26 14:31:00           2018-08-07 15:27:45   \n",
              "2          2018-08-08 13:50:00           2018-08-17 18:06:29   \n",
              "3          2017-11-22 13:39:59           2017-12-02 00:28:42   \n",
              "4          2018-02-14 19:46:34           2018-02-16 18:17:02   \n",
              "\n",
              "  order_estimated_delivery_date  delivery_day  \\\n",
              "0                    2017-10-18             6   \n",
              "1                    2018-08-13            12   \n",
              "2                    2018-09-04             9   \n",
              "3                    2017-12-15             9   \n",
              "4                    2018-02-26             1   \n",
              "\n",
              "                 customer_unique_id  customer_zip_code_prefix  \\\n",
              "0  7c396fd4830fd04220f754e42b4e5bff                      3149   \n",
              "1  af07308b275d755c9edb36a90c618231                     47813   \n",
              "2  3a653a41f6f9fc3d2a113cf8398680e8                     75265   \n",
              "3  7c142cf63193a1473d2e66489a9ae977                     59296   \n",
              "4  72632f0f9dd73dfee390c9b22eb56dd6                      9195   \n",
              "\n",
              "             customer_city customer_state  \n",
              "0                sao paulo             SP  \n",
              "1                barreiras             BA  \n",
              "2               vianopolis             GO  \n",
              "3  sao goncalo do amarante             RN  \n",
              "4              santo andre             SP  "
            ]
          },
          "execution_count": 162,
          "metadata": {},
          "output_type": "execute_result"
        }
      ],
      "source": [
        "orders_customer_df = pd.merge(\n",
        "    left=orders_df,\n",
        "    right=customers_df,\n",
        "    how='left',\n",
        "    left_on='customer_id',\n",
        "    right_on='customer_id'\n",
        ")\n",
        "orders_customer_df.head()"
      ]
    },
    {
      "cell_type": "code",
      "execution_count": 163,
      "metadata": {
        "colab": {
          "base_uri": "https://localhost:8080/",
          "height": 429
        },
        "id": "KUZQTiXWHH4G",
        "outputId": "e4bb804f-8f02-4229-80ec-f5042d6b912a"
      },
      "outputs": [
        {
          "data": {
            "text/plain": [
              "customer_city\n",
              "sao paulo                15044\n",
              "rio de janeiro            6603\n",
              "belo horizonte            2697\n",
              "brasilia                  2071\n",
              "curitiba                  1489\n",
              "campinas                  1406\n",
              "porto alegre              1341\n",
              "salvador                  1188\n",
              "guarulhos                 1143\n",
              "sao bernardo do campo      911\n",
              "Name: customer_id, dtype: int64"
            ]
          },
          "execution_count": 163,
          "metadata": {},
          "output_type": "execute_result"
        }
      ],
      "source": [
        "orders_customer_df.groupby(by='customer_city').customer_id.nunique().sort_values(ascending=False).head(10)"
      ]
    },
    {
      "cell_type": "code",
      "execution_count": 164,
      "metadata": {
        "colab": {
          "base_uri": "https://localhost:8080/",
          "height": 178
        },
        "id": "6lsSSO7BHYHl",
        "outputId": "4d248d0e-bf5f-448b-c629-c2a1eaff434d"
      },
      "outputs": [
        {
          "data": {
            "text/plain": [
              "order_status\n",
              "delivered    96455\n",
              "canceled         6\n",
              "Name: customer_id, dtype: int64"
            ]
          },
          "execution_count": 164,
          "metadata": {},
          "output_type": "execute_result"
        }
      ],
      "source": [
        "orders_customer_df.groupby(by='order_status').customer_id.nunique().sort_values(ascending=False).head(10)"
      ]
    },
    {
      "cell_type": "markdown",
      "metadata": {
        "id": "oSc5DAdeIF_5"
      },
      "source": [
        "####Explore `orderItems_df`"
      ]
    },
    {
      "cell_type": "code",
      "execution_count": 165,
      "metadata": {
        "colab": {
          "base_uri": "https://localhost:8080/",
          "height": 226
        },
        "id": "oYi_sFLhIO2f",
        "outputId": "275b47a6-e5db-4084-d64c-7ce3da9490ec"
      },
      "outputs": [
        {
          "data": {
            "text/html": [
              "<div>\n",
              "<style scoped>\n",
              "    .dataframe tbody tr th:only-of-type {\n",
              "        vertical-align: middle;\n",
              "    }\n",
              "\n",
              "    .dataframe tbody tr th {\n",
              "        vertical-align: top;\n",
              "    }\n",
              "\n",
              "    .dataframe thead th {\n",
              "        text-align: right;\n",
              "    }\n",
              "</style>\n",
              "<table border=\"1\" class=\"dataframe\">\n",
              "  <thead>\n",
              "    <tr style=\"text-align: right;\">\n",
              "      <th></th>\n",
              "      <th>order_id</th>\n",
              "      <th>order_item_id</th>\n",
              "      <th>product_id</th>\n",
              "      <th>seller_id</th>\n",
              "      <th>shipping_limit_date</th>\n",
              "      <th>price</th>\n",
              "      <th>freight_value</th>\n",
              "    </tr>\n",
              "  </thead>\n",
              "  <tbody>\n",
              "    <tr>\n",
              "      <th>1715</th>\n",
              "      <td>03edbc910db946c979e09e67eb6a0d9f</td>\n",
              "      <td>1</td>\n",
              "      <td>fb69f3c3b63f63da92e215ddf61e0b01</td>\n",
              "      <td>218d46b86c1881d022bce9c68a7d4b15</td>\n",
              "      <td>2017-12-28 07:17:58</td>\n",
              "      <td>91.00</td>\n",
              "      <td>12.98</td>\n",
              "    </tr>\n",
              "    <tr>\n",
              "      <th>70420</th>\n",
              "      <td>a0b49a0330e926df75d422934cc90cf8</td>\n",
              "      <td>1</td>\n",
              "      <td>a7c73814e6894bc049f7aac7d37f7175</td>\n",
              "      <td>6f892e20a171e98efe17fdb971ff319b</td>\n",
              "      <td>2017-08-13 21:45:11</td>\n",
              "      <td>254.90</td>\n",
              "      <td>27.06</td>\n",
              "    </tr>\n",
              "    <tr>\n",
              "      <th>72077</th>\n",
              "      <td>a46ca44d1b7cf49a346dbab87d2344ac</td>\n",
              "      <td>1</td>\n",
              "      <td>25d6edcd216a9ee579f19f92d694f7d5</td>\n",
              "      <td>b76dba6c951ab00dc4edf0a1aa88037e</td>\n",
              "      <td>2017-07-25 17:50:26</td>\n",
              "      <td>12.97</td>\n",
              "      <td>15.10</td>\n",
              "    </tr>\n",
              "    <tr>\n",
              "      <th>99246</th>\n",
              "      <td>e127e496849462216ba78b6dfe0c48ed</td>\n",
              "      <td>3</td>\n",
              "      <td>53759a2ecddad2bb87a079a1f1519f73</td>\n",
              "      <td>1f50f920176fa81dab994f9023523100</td>\n",
              "      <td>2018-05-09 04:12:48</td>\n",
              "      <td>53.90</td>\n",
              "      <td>3.21</td>\n",
              "    </tr>\n",
              "    <tr>\n",
              "      <th>92274</th>\n",
              "      <td>d16083ed35e57acd01a5ce52c16e5349</td>\n",
              "      <td>1</td>\n",
              "      <td>688ad0169550f8e2eb0307b61df3ba12</td>\n",
              "      <td>640e21a7d01df7614a3b4923e990d40c</td>\n",
              "      <td>2018-07-23 02:42:33</td>\n",
              "      <td>66.55</td>\n",
              "      <td>23.27</td>\n",
              "    </tr>\n",
              "  </tbody>\n",
              "</table>\n",
              "</div>"
            ],
            "text/plain": [
              "                               order_id  order_item_id  \\\n",
              "1715   03edbc910db946c979e09e67eb6a0d9f              1   \n",
              "70420  a0b49a0330e926df75d422934cc90cf8              1   \n",
              "72077  a46ca44d1b7cf49a346dbab87d2344ac              1   \n",
              "99246  e127e496849462216ba78b6dfe0c48ed              3   \n",
              "92274  d16083ed35e57acd01a5ce52c16e5349              1   \n",
              "\n",
              "                             product_id                         seller_id  \\\n",
              "1715   fb69f3c3b63f63da92e215ddf61e0b01  218d46b86c1881d022bce9c68a7d4b15   \n",
              "70420  a7c73814e6894bc049f7aac7d37f7175  6f892e20a171e98efe17fdb971ff319b   \n",
              "72077  25d6edcd216a9ee579f19f92d694f7d5  b76dba6c951ab00dc4edf0a1aa88037e   \n",
              "99246  53759a2ecddad2bb87a079a1f1519f73  1f50f920176fa81dab994f9023523100   \n",
              "92274  688ad0169550f8e2eb0307b61df3ba12  640e21a7d01df7614a3b4923e990d40c   \n",
              "\n",
              "      shipping_limit_date   price  freight_value  \n",
              "1715  2017-12-28 07:17:58   91.00          12.98  \n",
              "70420 2017-08-13 21:45:11  254.90          27.06  \n",
              "72077 2017-07-25 17:50:26   12.97          15.10  \n",
              "99246 2018-05-09 04:12:48   53.90           3.21  \n",
              "92274 2018-07-23 02:42:33   66.55          23.27  "
            ]
          },
          "execution_count": 165,
          "metadata": {},
          "output_type": "execute_result"
        }
      ],
      "source": [
        "orderItems_df.sample(5)"
      ]
    },
    {
      "cell_type": "code",
      "execution_count": 166,
      "metadata": {
        "colab": {
          "base_uri": "https://localhost:8080/",
          "height": 383
        },
        "id": "s0ouWqgHIdcl",
        "outputId": "18c4bd8e-4de8-438f-b685-67906c71aa3d"
      },
      "outputs": [
        {
          "data": {
            "text/html": [
              "<div>\n",
              "<style scoped>\n",
              "    .dataframe tbody tr th:only-of-type {\n",
              "        vertical-align: middle;\n",
              "    }\n",
              "\n",
              "    .dataframe tbody tr th {\n",
              "        vertical-align: top;\n",
              "    }\n",
              "\n",
              "    .dataframe thead th {\n",
              "        text-align: right;\n",
              "    }\n",
              "</style>\n",
              "<table border=\"1\" class=\"dataframe\">\n",
              "  <thead>\n",
              "    <tr style=\"text-align: right;\">\n",
              "      <th></th>\n",
              "      <th>order_id</th>\n",
              "      <th>order_item_id</th>\n",
              "      <th>product_id</th>\n",
              "      <th>seller_id</th>\n",
              "      <th>shipping_limit_date</th>\n",
              "      <th>price</th>\n",
              "      <th>freight_value</th>\n",
              "    </tr>\n",
              "  </thead>\n",
              "  <tbody>\n",
              "    <tr>\n",
              "      <th>59137</th>\n",
              "      <td>86c4eab1571921a6a6e248ed312f5a5a</td>\n",
              "      <td>1</td>\n",
              "      <td>6902c1962dd19d540807d0ab8fade5c6</td>\n",
              "      <td>fa1c13f2614d7b5c4749cbc52fecda94</td>\n",
              "      <td>2017-03-23 20:08:04</td>\n",
              "      <td>3999.90</td>\n",
              "      <td>17.01</td>\n",
              "    </tr>\n",
              "    <tr>\n",
              "      <th>83291</th>\n",
              "      <td>bd2fef198085db0b586b9c71aa2d35da</td>\n",
              "      <td>1</td>\n",
              "      <td>470433f95ba906e17efac3fce39e9ffd</td>\n",
              "      <td>e2a1ac9bf33e5549a2a4f834e70df2f8</td>\n",
              "      <td>2017-04-04 02:15:16</td>\n",
              "      <td>2999.89</td>\n",
              "      <td>24.19</td>\n",
              "    </tr>\n",
              "    <tr>\n",
              "      <th>38895</th>\n",
              "      <td>586992f50ed97898737b07970376d19c</td>\n",
              "      <td>1</td>\n",
              "      <td>8b502ca34e28d30605bc667b965b6abf</td>\n",
              "      <td>fa1c13f2614d7b5c4749cbc52fecda94</td>\n",
              "      <td>2017-02-04 17:01:46</td>\n",
              "      <td>2999.00</td>\n",
              "      <td>17.01</td>\n",
              "    </tr>\n",
              "    <tr>\n",
              "      <th>23765</th>\n",
              "      <td>362aa88dd1265e7b4ea491b5836fb5f6</td>\n",
              "      <td>1</td>\n",
              "      <td>d7324d4c913e7b424cb61675dafc8c10</td>\n",
              "      <td>6750d71153f00fc58829af2a8ef1bcf1</td>\n",
              "      <td>2017-05-23 02:10:12</td>\n",
              "      <td>2799.00</td>\n",
              "      <td>28.00</td>\n",
              "    </tr>\n",
              "    <tr>\n",
              "      <th>91987</th>\n",
              "      <td>d0bce34c31d4494a153aa82c468152c4</td>\n",
              "      <td>1</td>\n",
              "      <td>122bedead6e7541d311e6e0ab3cf248f</td>\n",
              "      <td>961dff0a659b4561334372337dd897d9</td>\n",
              "      <td>2017-06-12 19:45:17</td>\n",
              "      <td>2649.00</td>\n",
              "      <td>32.29</td>\n",
              "    </tr>\n",
              "    <tr>\n",
              "      <th>15815</th>\n",
              "      <td>242800e82e3e3f0aca252d6e03e4564c</td>\n",
              "      <td>1</td>\n",
              "      <td>1ed724b5e4b638eeb4bd3487d88b8f28</td>\n",
              "      <td>961dff0a659b4561334372337dd897d9</td>\n",
              "      <td>2017-06-09 09:30:14</td>\n",
              "      <td>2649.00</td>\n",
              "      <td>32.29</td>\n",
              "    </tr>\n",
              "    <tr>\n",
              "      <th>110583</th>\n",
              "      <td>fb441bffe443e71cb16477c4743591e8</td>\n",
              "      <td>1</td>\n",
              "      <td>5263b67de8e3edbade45ea923f6c4e79</td>\n",
              "      <td>70eea00b476a314817cefde4aad4f89a</td>\n",
              "      <td>2017-03-22 13:05:58</td>\n",
              "      <td>2600.00</td>\n",
              "      <td>26.07</td>\n",
              "    </tr>\n",
              "    <tr>\n",
              "      <th>62453</th>\n",
              "      <td>8ea7aebc18842332aad5f41ca74b334c</td>\n",
              "      <td>1</td>\n",
              "      <td>3ecf69ee1fe21cfd40b30cbea549e563</td>\n",
              "      <td>59417c56835dd8e2e72f91f809cd4092</td>\n",
              "      <td>2017-04-19 13:25:19</td>\n",
              "      <td>2589.00</td>\n",
              "      <td>32.29</td>\n",
              "    </tr>\n",
              "    <tr>\n",
              "      <th>53081</th>\n",
              "      <td>78ce53a063eb2907f9727aac2c678339</td>\n",
              "      <td>1</td>\n",
              "      <td>3ecf69ee1fe21cfd40b30cbea549e563</td>\n",
              "      <td>59417c56835dd8e2e72f91f809cd4092</td>\n",
              "      <td>2017-04-25 21:22:51</td>\n",
              "      <td>2589.00</td>\n",
              "      <td>17.01</td>\n",
              "    </tr>\n",
              "    <tr>\n",
              "      <th>29952</th>\n",
              "      <td>4412d97cb2093633afa85f11db46316c</td>\n",
              "      <td>1</td>\n",
              "      <td>993ac19aa975075775c16ba15426f8be</td>\n",
              "      <td>9803a40e82e45418ab7fb84091af5231</td>\n",
              "      <td>2018-05-29 02:55:11</td>\n",
              "      <td>2499.75</td>\n",
              "      <td>12.00</td>\n",
              "    </tr>\n",
              "  </tbody>\n",
              "</table>\n",
              "</div>"
            ],
            "text/plain": [
              "                                order_id  order_item_id  \\\n",
              "59137   86c4eab1571921a6a6e248ed312f5a5a              1   \n",
              "83291   bd2fef198085db0b586b9c71aa2d35da              1   \n",
              "38895   586992f50ed97898737b07970376d19c              1   \n",
              "23765   362aa88dd1265e7b4ea491b5836fb5f6              1   \n",
              "91987   d0bce34c31d4494a153aa82c468152c4              1   \n",
              "15815   242800e82e3e3f0aca252d6e03e4564c              1   \n",
              "110583  fb441bffe443e71cb16477c4743591e8              1   \n",
              "62453   8ea7aebc18842332aad5f41ca74b334c              1   \n",
              "53081   78ce53a063eb2907f9727aac2c678339              1   \n",
              "29952   4412d97cb2093633afa85f11db46316c              1   \n",
              "\n",
              "                              product_id                         seller_id  \\\n",
              "59137   6902c1962dd19d540807d0ab8fade5c6  fa1c13f2614d7b5c4749cbc52fecda94   \n",
              "83291   470433f95ba906e17efac3fce39e9ffd  e2a1ac9bf33e5549a2a4f834e70df2f8   \n",
              "38895   8b502ca34e28d30605bc667b965b6abf  fa1c13f2614d7b5c4749cbc52fecda94   \n",
              "23765   d7324d4c913e7b424cb61675dafc8c10  6750d71153f00fc58829af2a8ef1bcf1   \n",
              "91987   122bedead6e7541d311e6e0ab3cf248f  961dff0a659b4561334372337dd897d9   \n",
              "15815   1ed724b5e4b638eeb4bd3487d88b8f28  961dff0a659b4561334372337dd897d9   \n",
              "110583  5263b67de8e3edbade45ea923f6c4e79  70eea00b476a314817cefde4aad4f89a   \n",
              "62453   3ecf69ee1fe21cfd40b30cbea549e563  59417c56835dd8e2e72f91f809cd4092   \n",
              "53081   3ecf69ee1fe21cfd40b30cbea549e563  59417c56835dd8e2e72f91f809cd4092   \n",
              "29952   993ac19aa975075775c16ba15426f8be  9803a40e82e45418ab7fb84091af5231   \n",
              "\n",
              "       shipping_limit_date    price  freight_value  \n",
              "59137  2017-03-23 20:08:04  3999.90          17.01  \n",
              "83291  2017-04-04 02:15:16  2999.89          24.19  \n",
              "38895  2017-02-04 17:01:46  2999.00          17.01  \n",
              "23765  2017-05-23 02:10:12  2799.00          28.00  \n",
              "91987  2017-06-12 19:45:17  2649.00          32.29  \n",
              "15815  2017-06-09 09:30:14  2649.00          32.29  \n",
              "110583 2017-03-22 13:05:58  2600.00          26.07  \n",
              "62453  2017-04-19 13:25:19  2589.00          32.29  \n",
              "53081  2017-04-25 21:22:51  2589.00          17.01  \n",
              "29952  2018-05-29 02:55:11  2499.75          12.00  "
            ]
          },
          "execution_count": 166,
          "metadata": {},
          "output_type": "execute_result"
        }
      ],
      "source": [
        "orderItems_df.sort_values(by='price', ascending=False).head(10)"
      ]
    },
    {
      "cell_type": "code",
      "execution_count": 167,
      "metadata": {
        "colab": {
          "base_uri": "https://localhost:8080/",
          "height": 771
        },
        "id": "zag14elHJNJI",
        "outputId": "fde5a387-77cd-494c-8d61-c3788e6c2810"
      },
      "outputs": [
        {
          "data": {
            "text/html": [
              "<div>\n",
              "<style scoped>\n",
              "    .dataframe tbody tr th:only-of-type {\n",
              "        vertical-align: middle;\n",
              "    }\n",
              "\n",
              "    .dataframe tbody tr th {\n",
              "        vertical-align: top;\n",
              "    }\n",
              "\n",
              "    .dataframe thead tr th {\n",
              "        text-align: left;\n",
              "    }\n",
              "\n",
              "    .dataframe thead tr:last-of-type th {\n",
              "        text-align: right;\n",
              "    }\n",
              "</style>\n",
              "<table border=\"1\" class=\"dataframe\">\n",
              "  <thead>\n",
              "    <tr>\n",
              "      <th></th>\n",
              "      <th>product_id</th>\n",
              "      <th colspan=\"2\" halign=\"left\">price</th>\n",
              "    </tr>\n",
              "    <tr>\n",
              "      <th></th>\n",
              "      <th>nunique</th>\n",
              "      <th>min</th>\n",
              "      <th>max</th>\n",
              "    </tr>\n",
              "    <tr>\n",
              "      <th>order_item_id</th>\n",
              "      <th></th>\n",
              "      <th></th>\n",
              "      <th></th>\n",
              "    </tr>\n",
              "  </thead>\n",
              "  <tbody>\n",
              "    <tr>\n",
              "      <th>1</th>\n",
              "      <td>28951</td>\n",
              "      <td>0.85</td>\n",
              "      <td>3999.90</td>\n",
              "    </tr>\n",
              "    <tr>\n",
              "      <th>2</th>\n",
              "      <td>5572</td>\n",
              "      <td>0.85</td>\n",
              "      <td>2200.00</td>\n",
              "    </tr>\n",
              "    <tr>\n",
              "      <th>3</th>\n",
              "      <td>1626</td>\n",
              "      <td>1.20</td>\n",
              "      <td>1790.00</td>\n",
              "    </tr>\n",
              "    <tr>\n",
              "      <th>4</th>\n",
              "      <td>732</td>\n",
              "      <td>1.20</td>\n",
              "      <td>1790.00</td>\n",
              "    </tr>\n",
              "    <tr>\n",
              "      <th>5</th>\n",
              "      <td>351</td>\n",
              "      <td>1.20</td>\n",
              "      <td>1680.00</td>\n",
              "    </tr>\n",
              "    <tr>\n",
              "      <th>6</th>\n",
              "      <td>210</td>\n",
              "      <td>1.20</td>\n",
              "      <td>1680.00</td>\n",
              "    </tr>\n",
              "    <tr>\n",
              "      <th>7</th>\n",
              "      <td>45</td>\n",
              "      <td>1.20</td>\n",
              "      <td>1680.00</td>\n",
              "    </tr>\n",
              "    <tr>\n",
              "      <th>8</th>\n",
              "      <td>27</td>\n",
              "      <td>1.20</td>\n",
              "      <td>1680.00</td>\n",
              "    </tr>\n",
              "    <tr>\n",
              "      <th>9</th>\n",
              "      <td>22</td>\n",
              "      <td>1.20</td>\n",
              "      <td>284.99</td>\n",
              "    </tr>\n",
              "    <tr>\n",
              "      <th>10</th>\n",
              "      <td>19</td>\n",
              "      <td>1.20</td>\n",
              "      <td>284.99</td>\n",
              "    </tr>\n",
              "    <tr>\n",
              "      <th>11</th>\n",
              "      <td>16</td>\n",
              "      <td>1.20</td>\n",
              "      <td>108.00</td>\n",
              "    </tr>\n",
              "    <tr>\n",
              "      <th>12</th>\n",
              "      <td>13</td>\n",
              "      <td>1.20</td>\n",
              "      <td>108.00</td>\n",
              "    </tr>\n",
              "    <tr>\n",
              "      <th>13</th>\n",
              "      <td>8</td>\n",
              "      <td>1.20</td>\n",
              "      <td>100.00</td>\n",
              "    </tr>\n",
              "    <tr>\n",
              "      <th>14</th>\n",
              "      <td>7</td>\n",
              "      <td>1.20</td>\n",
              "      <td>100.00</td>\n",
              "    </tr>\n",
              "    <tr>\n",
              "      <th>15</th>\n",
              "      <td>5</td>\n",
              "      <td>1.20</td>\n",
              "      <td>100.00</td>\n",
              "    </tr>\n",
              "    <tr>\n",
              "      <th>16</th>\n",
              "      <td>3</td>\n",
              "      <td>1.20</td>\n",
              "      <td>100.00</td>\n",
              "    </tr>\n",
              "    <tr>\n",
              "      <th>17</th>\n",
              "      <td>3</td>\n",
              "      <td>1.20</td>\n",
              "      <td>100.00</td>\n",
              "    </tr>\n",
              "    <tr>\n",
              "      <th>18</th>\n",
              "      <td>3</td>\n",
              "      <td>1.20</td>\n",
              "      <td>100.00</td>\n",
              "    </tr>\n",
              "    <tr>\n",
              "      <th>19</th>\n",
              "      <td>3</td>\n",
              "      <td>1.20</td>\n",
              "      <td>100.00</td>\n",
              "    </tr>\n",
              "    <tr>\n",
              "      <th>20</th>\n",
              "      <td>3</td>\n",
              "      <td>1.20</td>\n",
              "      <td>100.00</td>\n",
              "    </tr>\n",
              "    <tr>\n",
              "      <th>21</th>\n",
              "      <td>1</td>\n",
              "      <td>7.80</td>\n",
              "      <td>7.80</td>\n",
              "    </tr>\n",
              "  </tbody>\n",
              "</table>\n",
              "</div>"
            ],
            "text/plain": [
              "              product_id price         \n",
              "                 nunique   min      max\n",
              "order_item_id                          \n",
              "1                  28951  0.85  3999.90\n",
              "2                   5572  0.85  2200.00\n",
              "3                   1626  1.20  1790.00\n",
              "4                    732  1.20  1790.00\n",
              "5                    351  1.20  1680.00\n",
              "6                    210  1.20  1680.00\n",
              "7                     45  1.20  1680.00\n",
              "8                     27  1.20  1680.00\n",
              "9                     22  1.20   284.99\n",
              "10                    19  1.20   284.99\n",
              "11                    16  1.20   108.00\n",
              "12                    13  1.20   108.00\n",
              "13                     8  1.20   100.00\n",
              "14                     7  1.20   100.00\n",
              "15                     5  1.20   100.00\n",
              "16                     3  1.20   100.00\n",
              "17                     3  1.20   100.00\n",
              "18                     3  1.20   100.00\n",
              "19                     3  1.20   100.00\n",
              "20                     3  1.20   100.00\n",
              "21                     1  7.80     7.80"
            ]
          },
          "execution_count": 167,
          "metadata": {},
          "output_type": "execute_result"
        }
      ],
      "source": [
        "orderItems_df.groupby(by=\"order_item_id\").agg({\n",
        "    \"product_id\": \"nunique\",\n",
        "    \"price\":  [\"min\", \"max\"]\n",
        "})"
      ]
    },
    {
      "cell_type": "markdown",
      "metadata": {
        "id": "h6818oh6Jlcm"
      },
      "source": [
        "####Explore `orderPayments_df`"
      ]
    },
    {
      "cell_type": "code",
      "execution_count": 168,
      "metadata": {
        "colab": {
          "base_uri": "https://localhost:8080/",
          "height": 206
        },
        "id": "POdcydn6JxoL",
        "outputId": "cb57ce8f-d9cc-4fba-dd57-55b6ed5e22a0"
      },
      "outputs": [
        {
          "data": {
            "text/html": [
              "<div>\n",
              "<style scoped>\n",
              "    .dataframe tbody tr th:only-of-type {\n",
              "        vertical-align: middle;\n",
              "    }\n",
              "\n",
              "    .dataframe tbody tr th {\n",
              "        vertical-align: top;\n",
              "    }\n",
              "\n",
              "    .dataframe thead th {\n",
              "        text-align: right;\n",
              "    }\n",
              "</style>\n",
              "<table border=\"1\" class=\"dataframe\">\n",
              "  <thead>\n",
              "    <tr style=\"text-align: right;\">\n",
              "      <th></th>\n",
              "      <th>order_id</th>\n",
              "      <th>payment_sequential</th>\n",
              "      <th>payment_type</th>\n",
              "      <th>payment_installments</th>\n",
              "      <th>payment_value</th>\n",
              "    </tr>\n",
              "  </thead>\n",
              "  <tbody>\n",
              "    <tr>\n",
              "      <th>17339</th>\n",
              "      <td>c87d7a80e2ec732b00980f3ea7961603</td>\n",
              "      <td>1</td>\n",
              "      <td>credit_card</td>\n",
              "      <td>4</td>\n",
              "      <td>315.84</td>\n",
              "    </tr>\n",
              "    <tr>\n",
              "      <th>1939</th>\n",
              "      <td>677b1a4dd9c69ee17aafc0d2b33af06d</td>\n",
              "      <td>1</td>\n",
              "      <td>credit_card</td>\n",
              "      <td>8</td>\n",
              "      <td>85.60</td>\n",
              "    </tr>\n",
              "    <tr>\n",
              "      <th>16841</th>\n",
              "      <td>a91c3d9045c21f1f101bfc28c30fbef6</td>\n",
              "      <td>1</td>\n",
              "      <td>credit_card</td>\n",
              "      <td>4</td>\n",
              "      <td>232.89</td>\n",
              "    </tr>\n",
              "    <tr>\n",
              "      <th>61178</th>\n",
              "      <td>b4c5ff803ab75f16ce38e62e25cab043</td>\n",
              "      <td>1</td>\n",
              "      <td>boleto</td>\n",
              "      <td>1</td>\n",
              "      <td>265.16</td>\n",
              "    </tr>\n",
              "    <tr>\n",
              "      <th>29155</th>\n",
              "      <td>86c1a1c5de6b99e0aed1e7f053862ff9</td>\n",
              "      <td>1</td>\n",
              "      <td>boleto</td>\n",
              "      <td>1</td>\n",
              "      <td>44.59</td>\n",
              "    </tr>\n",
              "  </tbody>\n",
              "</table>\n",
              "</div>"
            ],
            "text/plain": [
              "                               order_id  payment_sequential payment_type  \\\n",
              "17339  c87d7a80e2ec732b00980f3ea7961603                   1  credit_card   \n",
              "1939   677b1a4dd9c69ee17aafc0d2b33af06d                   1  credit_card   \n",
              "16841  a91c3d9045c21f1f101bfc28c30fbef6                   1  credit_card   \n",
              "61178  b4c5ff803ab75f16ce38e62e25cab043                   1       boleto   \n",
              "29155  86c1a1c5de6b99e0aed1e7f053862ff9                   1       boleto   \n",
              "\n",
              "       payment_installments  payment_value  \n",
              "17339                     4         315.84  \n",
              "1939                      8          85.60  \n",
              "16841                     4         232.89  \n",
              "61178                     1         265.16  \n",
              "29155                     1          44.59  "
            ]
          },
          "execution_count": 168,
          "metadata": {},
          "output_type": "execute_result"
        }
      ],
      "source": [
        "orderPayments_df.sample(5)"
      ]
    },
    {
      "cell_type": "code",
      "execution_count": 169,
      "metadata": {
        "colab": {
          "base_uri": "https://localhost:8080/",
          "height": 363
        },
        "id": "CYO5r1V7J38H",
        "outputId": "a9f3f6c0-a3da-4aa6-f3d6-82b5d985f89a"
      },
      "outputs": [
        {
          "data": {
            "text/html": [
              "<div>\n",
              "<style scoped>\n",
              "    .dataframe tbody tr th:only-of-type {\n",
              "        vertical-align: middle;\n",
              "    }\n",
              "\n",
              "    .dataframe tbody tr th {\n",
              "        vertical-align: top;\n",
              "    }\n",
              "\n",
              "    .dataframe thead th {\n",
              "        text-align: right;\n",
              "    }\n",
              "</style>\n",
              "<table border=\"1\" class=\"dataframe\">\n",
              "  <thead>\n",
              "    <tr style=\"text-align: right;\">\n",
              "      <th></th>\n",
              "      <th>order_id</th>\n",
              "      <th>payment_sequential</th>\n",
              "      <th>payment_type</th>\n",
              "      <th>payment_installments</th>\n",
              "      <th>payment_value</th>\n",
              "    </tr>\n",
              "  </thead>\n",
              "  <tbody>\n",
              "    <tr>\n",
              "      <th>56273</th>\n",
              "      <td>ee9f6e9060450329e05aef3781e5ed38</td>\n",
              "      <td>1</td>\n",
              "      <td>credit_card</td>\n",
              "      <td>5</td>\n",
              "      <td>344.34</td>\n",
              "    </tr>\n",
              "    <tr>\n",
              "      <th>37829</th>\n",
              "      <td>a00de27f9585ad0dcde9842ad65a43a7</td>\n",
              "      <td>1</td>\n",
              "      <td>credit_card</td>\n",
              "      <td>2</td>\n",
              "      <td>344.33</td>\n",
              "    </tr>\n",
              "    <tr>\n",
              "      <th>48548</th>\n",
              "      <td>b2aadb128e84058f8ff560dbe7466c1c</td>\n",
              "      <td>1</td>\n",
              "      <td>boleto</td>\n",
              "      <td>1</td>\n",
              "      <td>344.33</td>\n",
              "    </tr>\n",
              "    <tr>\n",
              "      <th>34761</th>\n",
              "      <td>c7c6a739a8443d84f8be2528afc84d43</td>\n",
              "      <td>1</td>\n",
              "      <td>credit_card</td>\n",
              "      <td>8</td>\n",
              "      <td>344.32</td>\n",
              "    </tr>\n",
              "    <tr>\n",
              "      <th>42873</th>\n",
              "      <td>2e8a59579f027832343436a97c22499b</td>\n",
              "      <td>1</td>\n",
              "      <td>boleto</td>\n",
              "      <td>1</td>\n",
              "      <td>344.32</td>\n",
              "    </tr>\n",
              "    <tr>\n",
              "      <th>96133</th>\n",
              "      <td>0212767fce39149bfc2e12d54be96f65</td>\n",
              "      <td>1</td>\n",
              "      <td>boleto</td>\n",
              "      <td>1</td>\n",
              "      <td>344.32</td>\n",
              "    </tr>\n",
              "    <tr>\n",
              "      <th>10795</th>\n",
              "      <td>8081c44895cefcfebc13faec5c9ed8bf</td>\n",
              "      <td>1</td>\n",
              "      <td>credit_card</td>\n",
              "      <td>5</td>\n",
              "      <td>344.28</td>\n",
              "    </tr>\n",
              "    <tr>\n",
              "      <th>8719</th>\n",
              "      <td>d807318c6ed8193c569cad0f755131fa</td>\n",
              "      <td>1</td>\n",
              "      <td>credit_card</td>\n",
              "      <td>8</td>\n",
              "      <td>344.27</td>\n",
              "    </tr>\n",
              "    <tr>\n",
              "      <th>79106</th>\n",
              "      <td>f5de15fee5da7c522b0aa5837f99a1db</td>\n",
              "      <td>1</td>\n",
              "      <td>boleto</td>\n",
              "      <td>1</td>\n",
              "      <td>344.26</td>\n",
              "    </tr>\n",
              "    <tr>\n",
              "      <th>19333</th>\n",
              "      <td>c887294d29ae18c8f8cdfa478a4a36b2</td>\n",
              "      <td>1</td>\n",
              "      <td>credit_card</td>\n",
              "      <td>8</td>\n",
              "      <td>344.23</td>\n",
              "    </tr>\n",
              "  </tbody>\n",
              "</table>\n",
              "</div>"
            ],
            "text/plain": [
              "                               order_id  payment_sequential payment_type  \\\n",
              "56273  ee9f6e9060450329e05aef3781e5ed38                   1  credit_card   \n",
              "37829  a00de27f9585ad0dcde9842ad65a43a7                   1  credit_card   \n",
              "48548  b2aadb128e84058f8ff560dbe7466c1c                   1       boleto   \n",
              "34761  c7c6a739a8443d84f8be2528afc84d43                   1  credit_card   \n",
              "42873  2e8a59579f027832343436a97c22499b                   1       boleto   \n",
              "96133  0212767fce39149bfc2e12d54be96f65                   1       boleto   \n",
              "10795  8081c44895cefcfebc13faec5c9ed8bf                   1  credit_card   \n",
              "8719   d807318c6ed8193c569cad0f755131fa                   1  credit_card   \n",
              "79106  f5de15fee5da7c522b0aa5837f99a1db                   1       boleto   \n",
              "19333  c887294d29ae18c8f8cdfa478a4a36b2                   1  credit_card   \n",
              "\n",
              "       payment_installments  payment_value  \n",
              "56273                     5         344.34  \n",
              "37829                     2         344.33  \n",
              "48548                     1         344.33  \n",
              "34761                     8         344.32  \n",
              "42873                     1         344.32  \n",
              "96133                     1         344.32  \n",
              "10795                     5         344.28  \n",
              "8719                      8         344.27  \n",
              "79106                     1         344.26  \n",
              "19333                     8         344.23  "
            ]
          },
          "execution_count": 169,
          "metadata": {},
          "output_type": "execute_result"
        }
      ],
      "source": [
        "orderPayments_df.sort_values(by='payment_value', ascending=False).head(10)"
      ]
    },
    {
      "cell_type": "code",
      "execution_count": 170,
      "metadata": {
        "colab": {
          "base_uri": "https://localhost:8080/",
          "height": 272
        },
        "id": "tJouBzLLKTpf",
        "outputId": "bf2f2f80-b484-4ea7-bff8-694638b87d84"
      },
      "outputs": [
        {
          "data": {
            "text/plain": [
              "payment_type\n",
              "credit_card    70269\n",
              "boleto         18504\n",
              "voucher         5685\n",
              "debit_card      1444\n",
              "not_defined        3\n",
              "Name: order_id, dtype: int64"
            ]
          },
          "execution_count": 170,
          "metadata": {},
          "output_type": "execute_result"
        }
      ],
      "source": [
        "orderPayments_df.groupby(by='payment_type').order_id.count().sort_values(ascending=False)"
      ]
    },
    {
      "cell_type": "code",
      "execution_count": 171,
      "metadata": {
        "colab": {
          "base_uri": "https://localhost:8080/",
          "height": 269
        },
        "id": "jQGA6ck4KJl9",
        "outputId": "2db66cba-0e06-4557-cb10-58308004044b"
      },
      "outputs": [
        {
          "data": {
            "text/html": [
              "<div>\n",
              "<style scoped>\n",
              "    .dataframe tbody tr th:only-of-type {\n",
              "        vertical-align: middle;\n",
              "    }\n",
              "\n",
              "    .dataframe tbody tr th {\n",
              "        vertical-align: top;\n",
              "    }\n",
              "\n",
              "    .dataframe thead tr th {\n",
              "        text-align: left;\n",
              "    }\n",
              "\n",
              "    .dataframe thead tr:last-of-type th {\n",
              "        text-align: right;\n",
              "    }\n",
              "</style>\n",
              "<table border=\"1\" class=\"dataframe\">\n",
              "  <thead>\n",
              "    <tr>\n",
              "      <th></th>\n",
              "      <th>order_id</th>\n",
              "      <th colspan=\"2\" halign=\"left\">payment_value</th>\n",
              "    </tr>\n",
              "    <tr>\n",
              "      <th></th>\n",
              "      <th>nunique</th>\n",
              "      <th>min</th>\n",
              "      <th>max</th>\n",
              "    </tr>\n",
              "    <tr>\n",
              "      <th>payment_type</th>\n",
              "      <th></th>\n",
              "      <th></th>\n",
              "      <th></th>\n",
              "    </tr>\n",
              "  </thead>\n",
              "  <tbody>\n",
              "    <tr>\n",
              "      <th>credit_card</th>\n",
              "      <td>70031</td>\n",
              "      <td>0.01</td>\n",
              "      <td>344.34</td>\n",
              "    </tr>\n",
              "    <tr>\n",
              "      <th>boleto</th>\n",
              "      <td>18504</td>\n",
              "      <td>11.62</td>\n",
              "      <td>344.33</td>\n",
              "    </tr>\n",
              "    <tr>\n",
              "      <th>voucher</th>\n",
              "      <td>3792</td>\n",
              "      <td>0.00</td>\n",
              "      <td>341.02</td>\n",
              "    </tr>\n",
              "    <tr>\n",
              "      <th>debit_card</th>\n",
              "      <td>1443</td>\n",
              "      <td>13.38</td>\n",
              "      <td>340.07</td>\n",
              "    </tr>\n",
              "    <tr>\n",
              "      <th>not_defined</th>\n",
              "      <td>3</td>\n",
              "      <td>0.00</td>\n",
              "      <td>0.00</td>\n",
              "    </tr>\n",
              "  </tbody>\n",
              "</table>\n",
              "</div>"
            ],
            "text/plain": [
              "             order_id payment_value        \n",
              "              nunique           min     max\n",
              "payment_type                               \n",
              "credit_card     70031          0.01  344.34\n",
              "boleto          18504         11.62  344.33\n",
              "voucher          3792          0.00  341.02\n",
              "debit_card       1443         13.38  340.07\n",
              "not_defined         3          0.00    0.00"
            ]
          },
          "execution_count": 171,
          "metadata": {},
          "output_type": "execute_result"
        }
      ],
      "source": [
        "orderPayments_df.groupby(by=\"payment_type\").agg({\n",
        "    \"order_id\": \"nunique\",\n",
        "    \"payment_value\" : [\"min\", \"max\"]\n",
        "}).sort_values(by=('order_id', 'nunique'), ascending=False)"
      ]
    },
    {
      "cell_type": "markdown",
      "metadata": {
        "id": "ID_jlvxIPtUP"
      },
      "source": [
        "####Explore `orderPayments_df` & `orders_df`"
      ]
    },
    {
      "cell_type": "markdown",
      "metadata": {
        "id": "8Zrd30jnQNhI"
      },
      "source": [
        "#####Menggabungkan `orderPayments_df` & `orders_df`"
      ]
    },
    {
      "cell_type": "code",
      "execution_count": 172,
      "metadata": {
        "colab": {
          "base_uri": "https://localhost:8080/",
          "height": 226
        },
        "id": "cOL93eEZQMsO",
        "outputId": "181b0505-e849-4b77-82dd-2a7837d7f0f4"
      },
      "outputs": [
        {
          "data": {
            "text/html": [
              "<div>\n",
              "<style scoped>\n",
              "    .dataframe tbody tr th:only-of-type {\n",
              "        vertical-align: middle;\n",
              "    }\n",
              "\n",
              "    .dataframe tbody tr th {\n",
              "        vertical-align: top;\n",
              "    }\n",
              "\n",
              "    .dataframe thead th {\n",
              "        text-align: right;\n",
              "    }\n",
              "</style>\n",
              "<table border=\"1\" class=\"dataframe\">\n",
              "  <thead>\n",
              "    <tr style=\"text-align: right;\">\n",
              "      <th></th>\n",
              "      <th>order_id</th>\n",
              "      <th>payment_sequential</th>\n",
              "      <th>payment_type</th>\n",
              "      <th>payment_installments</th>\n",
              "      <th>payment_value</th>\n",
              "      <th>customer_id</th>\n",
              "      <th>order_status</th>\n",
              "      <th>order_purchase_timestamp</th>\n",
              "      <th>order_approved_at</th>\n",
              "      <th>order_delivered_carrier_date</th>\n",
              "      <th>order_delivered_customer_date</th>\n",
              "      <th>order_estimated_delivery_date</th>\n",
              "      <th>delivery_day</th>\n",
              "    </tr>\n",
              "  </thead>\n",
              "  <tbody>\n",
              "    <tr>\n",
              "      <th>0</th>\n",
              "      <td>b81ef226f3fe1789b1e8b2acac839d17</td>\n",
              "      <td>1</td>\n",
              "      <td>credit_card</td>\n",
              "      <td>8</td>\n",
              "      <td>99.33</td>\n",
              "      <td>0a8556ac6be836b46b3e89920d59291c</td>\n",
              "      <td>delivered</td>\n",
              "      <td>2018-04-25 22:01:49</td>\n",
              "      <td>2018-04-25 22:15:09</td>\n",
              "      <td>2018-05-02 15:20:00</td>\n",
              "      <td>2018-05-09 17:36:51</td>\n",
              "      <td>2018-05-22</td>\n",
              "      <td>7.0</td>\n",
              "    </tr>\n",
              "    <tr>\n",
              "      <th>1</th>\n",
              "      <td>a9810da82917af2d9aefd1278f1dcfa0</td>\n",
              "      <td>1</td>\n",
              "      <td>credit_card</td>\n",
              "      <td>1</td>\n",
              "      <td>24.39</td>\n",
              "      <td>f2c7fc58a9de810828715166c672f10a</td>\n",
              "      <td>delivered</td>\n",
              "      <td>2018-06-26 11:01:38</td>\n",
              "      <td>2018-06-26 11:18:58</td>\n",
              "      <td>2018-06-28 14:18:00</td>\n",
              "      <td>2018-06-29 20:32:09</td>\n",
              "      <td>2018-07-16</td>\n",
              "      <td>1.0</td>\n",
              "    </tr>\n",
              "    <tr>\n",
              "      <th>2</th>\n",
              "      <td>25e8ea4e93396b6fa0d3dd708e76c1bd</td>\n",
              "      <td>1</td>\n",
              "      <td>credit_card</td>\n",
              "      <td>1</td>\n",
              "      <td>65.71</td>\n",
              "      <td>25b14b69de0b6e184ae6fe2755e478f9</td>\n",
              "      <td>delivered</td>\n",
              "      <td>2017-12-12 11:19:55</td>\n",
              "      <td>2017-12-14 09:52:34</td>\n",
              "      <td>2017-12-15 20:13:22</td>\n",
              "      <td>2017-12-18 17:24:41</td>\n",
              "      <td>2018-01-04</td>\n",
              "      <td>2.0</td>\n",
              "    </tr>\n",
              "    <tr>\n",
              "      <th>3</th>\n",
              "      <td>ba78997921bbcdc1373bb41e913ab953</td>\n",
              "      <td>1</td>\n",
              "      <td>credit_card</td>\n",
              "      <td>8</td>\n",
              "      <td>107.78</td>\n",
              "      <td>7a5d8efaaa1081f800628c30d2b0728f</td>\n",
              "      <td>delivered</td>\n",
              "      <td>2017-12-06 12:04:06</td>\n",
              "      <td>2017-12-06 12:13:20</td>\n",
              "      <td>2017-12-07 20:28:28</td>\n",
              "      <td>2017-12-21 01:35:51</td>\n",
              "      <td>2018-01-04</td>\n",
              "      <td>13.0</td>\n",
              "    </tr>\n",
              "    <tr>\n",
              "      <th>4</th>\n",
              "      <td>42fdf880ba16b47b59251dd489d4441a</td>\n",
              "      <td>1</td>\n",
              "      <td>credit_card</td>\n",
              "      <td>2</td>\n",
              "      <td>128.45</td>\n",
              "      <td>15fd6fb8f8312dbb4674e4518d6fa3b3</td>\n",
              "      <td>delivered</td>\n",
              "      <td>2018-05-21 13:59:17</td>\n",
              "      <td>2018-05-21 16:14:41</td>\n",
              "      <td>2018-05-22 11:46:00</td>\n",
              "      <td>2018-06-01 21:44:53</td>\n",
              "      <td>2018-06-13</td>\n",
              "      <td>10.0</td>\n",
              "    </tr>\n",
              "  </tbody>\n",
              "</table>\n",
              "</div>"
            ],
            "text/plain": [
              "                           order_id  payment_sequential payment_type  \\\n",
              "0  b81ef226f3fe1789b1e8b2acac839d17                   1  credit_card   \n",
              "1  a9810da82917af2d9aefd1278f1dcfa0                   1  credit_card   \n",
              "2  25e8ea4e93396b6fa0d3dd708e76c1bd                   1  credit_card   \n",
              "3  ba78997921bbcdc1373bb41e913ab953                   1  credit_card   \n",
              "4  42fdf880ba16b47b59251dd489d4441a                   1  credit_card   \n",
              "\n",
              "   payment_installments  payment_value                       customer_id  \\\n",
              "0                     8          99.33  0a8556ac6be836b46b3e89920d59291c   \n",
              "1                     1          24.39  f2c7fc58a9de810828715166c672f10a   \n",
              "2                     1          65.71  25b14b69de0b6e184ae6fe2755e478f9   \n",
              "3                     8         107.78  7a5d8efaaa1081f800628c30d2b0728f   \n",
              "4                     2         128.45  15fd6fb8f8312dbb4674e4518d6fa3b3   \n",
              "\n",
              "  order_status order_purchase_timestamp   order_approved_at  \\\n",
              "0    delivered      2018-04-25 22:01:49 2018-04-25 22:15:09   \n",
              "1    delivered      2018-06-26 11:01:38 2018-06-26 11:18:58   \n",
              "2    delivered      2017-12-12 11:19:55 2017-12-14 09:52:34   \n",
              "3    delivered      2017-12-06 12:04:06 2017-12-06 12:13:20   \n",
              "4    delivered      2018-05-21 13:59:17 2018-05-21 16:14:41   \n",
              "\n",
              "  order_delivered_carrier_date order_delivered_customer_date  \\\n",
              "0          2018-05-02 15:20:00           2018-05-09 17:36:51   \n",
              "1          2018-06-28 14:18:00           2018-06-29 20:32:09   \n",
              "2          2017-12-15 20:13:22           2017-12-18 17:24:41   \n",
              "3          2017-12-07 20:28:28           2017-12-21 01:35:51   \n",
              "4          2018-05-22 11:46:00           2018-06-01 21:44:53   \n",
              "\n",
              "  order_estimated_delivery_date  delivery_day  \n",
              "0                    2018-05-22           7.0  \n",
              "1                    2018-07-16           1.0  \n",
              "2                    2018-01-04           2.0  \n",
              "3                    2018-01-04          13.0  \n",
              "4                    2018-06-13          10.0  "
            ]
          },
          "execution_count": 172,
          "metadata": {},
          "output_type": "execute_result"
        }
      ],
      "source": [
        "orderPayments_orders_df = pd.merge(\n",
        "    left=orderPayments_df,\n",
        "    right=orders_df,\n",
        "    how='left',\n",
        "    left_on='order_id',\n",
        "    right_on='order_id'\n",
        ")\n",
        "orderPayments_orders_df.head()"
      ]
    },
    {
      "cell_type": "code",
      "execution_count": 173,
      "metadata": {
        "colab": {
          "base_uri": "https://localhost:8080/",
          "height": 269
        },
        "id": "yyl0jDquQtng",
        "outputId": "7515e8cf-4a70-4af1-e70f-cf556586253a"
      },
      "outputs": [
        {
          "data": {
            "text/html": [
              "<div>\n",
              "<style scoped>\n",
              "    .dataframe tbody tr th:only-of-type {\n",
              "        vertical-align: middle;\n",
              "    }\n",
              "\n",
              "    .dataframe tbody tr th {\n",
              "        vertical-align: top;\n",
              "    }\n",
              "\n",
              "    .dataframe thead tr th {\n",
              "        text-align: left;\n",
              "    }\n",
              "\n",
              "    .dataframe thead tr:last-of-type th {\n",
              "        text-align: right;\n",
              "    }\n",
              "</style>\n",
              "<table border=\"1\" class=\"dataframe\">\n",
              "  <thead>\n",
              "    <tr>\n",
              "      <th></th>\n",
              "      <th>order_id</th>\n",
              "      <th colspan=\"2\" halign=\"left\">delivery_day</th>\n",
              "      <th colspan=\"2\" halign=\"left\">payment_value</th>\n",
              "    </tr>\n",
              "    <tr>\n",
              "      <th></th>\n",
              "      <th>nunique</th>\n",
              "      <th>min</th>\n",
              "      <th>max</th>\n",
              "      <th>min</th>\n",
              "      <th>max</th>\n",
              "    </tr>\n",
              "    <tr>\n",
              "      <th>payment_type</th>\n",
              "      <th></th>\n",
              "      <th></th>\n",
              "      <th></th>\n",
              "      <th></th>\n",
              "      <th></th>\n",
              "    </tr>\n",
              "  </thead>\n",
              "  <tbody>\n",
              "    <tr>\n",
              "      <th>credit_card</th>\n",
              "      <td>70031</td>\n",
              "      <td>-17.0</td>\n",
              "      <td>205.0</td>\n",
              "      <td>0.01</td>\n",
              "      <td>344.34</td>\n",
              "    </tr>\n",
              "    <tr>\n",
              "      <th>boleto</th>\n",
              "      <td>18504</td>\n",
              "      <td>-3.0</td>\n",
              "      <td>195.0</td>\n",
              "      <td>11.62</td>\n",
              "      <td>344.33</td>\n",
              "    </tr>\n",
              "    <tr>\n",
              "      <th>voucher</th>\n",
              "      <td>3792</td>\n",
              "      <td>-7.0</td>\n",
              "      <td>171.0</td>\n",
              "      <td>0.00</td>\n",
              "      <td>341.02</td>\n",
              "    </tr>\n",
              "    <tr>\n",
              "      <th>debit_card</th>\n",
              "      <td>1443</td>\n",
              "      <td>0.0</td>\n",
              "      <td>72.0</td>\n",
              "      <td>13.38</td>\n",
              "      <td>340.07</td>\n",
              "    </tr>\n",
              "    <tr>\n",
              "      <th>not_defined</th>\n",
              "      <td>3</td>\n",
              "      <td>NaN</td>\n",
              "      <td>NaN</td>\n",
              "      <td>0.00</td>\n",
              "      <td>0.00</td>\n",
              "    </tr>\n",
              "  </tbody>\n",
              "</table>\n",
              "</div>"
            ],
            "text/plain": [
              "             order_id delivery_day        payment_value        \n",
              "              nunique          min    max           min     max\n",
              "payment_type                                                   \n",
              "credit_card     70031        -17.0  205.0          0.01  344.34\n",
              "boleto          18504         -3.0  195.0         11.62  344.33\n",
              "voucher          3792         -7.0  171.0          0.00  341.02\n",
              "debit_card       1443          0.0   72.0         13.38  340.07\n",
              "not_defined         3          NaN    NaN          0.00    0.00"
            ]
          },
          "execution_count": 173,
          "metadata": {},
          "output_type": "execute_result"
        }
      ],
      "source": [
        "orderPayments_orders_df.groupby(by=\"payment_type\").agg({\n",
        "    \"order_id\": \"nunique\",\n",
        "    \"delivery_day\" : [\"min\", \"max\"],\n",
        "    \"payment_value\" : [\"min\", \"max\"]\n",
        "}).sort_values(by=('order_id', 'nunique'), ascending=False)"
      ]
    },
    {
      "cell_type": "markdown",
      "metadata": {
        "id": "3CIZmpieLYRr"
      },
      "source": [
        "####Explore `product_df`"
      ]
    },
    {
      "cell_type": "code",
      "execution_count": 174,
      "metadata": {
        "colab": {
          "base_uri": "https://localhost:8080/",
          "height": 226
        },
        "id": "HHBWCdZ8Lcel",
        "outputId": "8c7ce1bf-c621-4301-e0bb-541f11c47708"
      },
      "outputs": [
        {
          "data": {
            "text/html": [
              "<div>\n",
              "<style scoped>\n",
              "    .dataframe tbody tr th:only-of-type {\n",
              "        vertical-align: middle;\n",
              "    }\n",
              "\n",
              "    .dataframe tbody tr th {\n",
              "        vertical-align: top;\n",
              "    }\n",
              "\n",
              "    .dataframe thead th {\n",
              "        text-align: right;\n",
              "    }\n",
              "</style>\n",
              "<table border=\"1\" class=\"dataframe\">\n",
              "  <thead>\n",
              "    <tr style=\"text-align: right;\">\n",
              "      <th></th>\n",
              "      <th>product_id</th>\n",
              "      <th>product_category_name</th>\n",
              "      <th>product_name_lenght</th>\n",
              "      <th>product_description_lenght</th>\n",
              "      <th>product_photos_qty</th>\n",
              "      <th>product_weight_g</th>\n",
              "      <th>product_length_cm</th>\n",
              "      <th>product_height_cm</th>\n",
              "      <th>product_width_cm</th>\n",
              "    </tr>\n",
              "  </thead>\n",
              "  <tbody>\n",
              "    <tr>\n",
              "      <th>32218</th>\n",
              "      <td>93b67da06834e15a3594134d43ee4ebe</td>\n",
              "      <td>eletrodomesticos</td>\n",
              "      <td>39.0</td>\n",
              "      <td>669.0</td>\n",
              "      <td>1.0</td>\n",
              "      <td>1200.0</td>\n",
              "      <td>28.0</td>\n",
              "      <td>8.0</td>\n",
              "      <td>13.0</td>\n",
              "    </tr>\n",
              "    <tr>\n",
              "      <th>31436</th>\n",
              "      <td>796f3b99d54fc73792f722557dd199d1</td>\n",
              "      <td>esporte_lazer</td>\n",
              "      <td>43.0</td>\n",
              "      <td>620.0</td>\n",
              "      <td>5.0</td>\n",
              "      <td>917.0</td>\n",
              "      <td>34.0</td>\n",
              "      <td>18.0</td>\n",
              "      <td>38.0</td>\n",
              "    </tr>\n",
              "    <tr>\n",
              "      <th>22466</th>\n",
              "      <td>b044bda7bc05cc5cf14d4969fda159cb</td>\n",
              "      <td>brinquedos</td>\n",
              "      <td>52.0</td>\n",
              "      <td>575.0</td>\n",
              "      <td>1.0</td>\n",
              "      <td>400.0</td>\n",
              "      <td>19.0</td>\n",
              "      <td>9.0</td>\n",
              "      <td>18.0</td>\n",
              "    </tr>\n",
              "    <tr>\n",
              "      <th>6691</th>\n",
              "      <td>65bb1c5a918d2876d7a0262774887d86</td>\n",
              "      <td>moveis_decoracao</td>\n",
              "      <td>60.0</td>\n",
              "      <td>953.0</td>\n",
              "      <td>7.0</td>\n",
              "      <td>900.0</td>\n",
              "      <td>32.0</td>\n",
              "      <td>17.0</td>\n",
              "      <td>30.0</td>\n",
              "    </tr>\n",
              "    <tr>\n",
              "      <th>32357</th>\n",
              "      <td>cb5cdff97335d1ce76e991fb9cb2adb8</td>\n",
              "      <td>moveis_decoracao</td>\n",
              "      <td>56.0</td>\n",
              "      <td>428.0</td>\n",
              "      <td>1.0</td>\n",
              "      <td>4100.0</td>\n",
              "      <td>43.0</td>\n",
              "      <td>26.0</td>\n",
              "      <td>43.0</td>\n",
              "    </tr>\n",
              "  </tbody>\n",
              "</table>\n",
              "</div>"
            ],
            "text/plain": [
              "                             product_id product_category_name  \\\n",
              "32218  93b67da06834e15a3594134d43ee4ebe      eletrodomesticos   \n",
              "31436  796f3b99d54fc73792f722557dd199d1         esporte_lazer   \n",
              "22466  b044bda7bc05cc5cf14d4969fda159cb            brinquedos   \n",
              "6691   65bb1c5a918d2876d7a0262774887d86      moveis_decoracao   \n",
              "32357  cb5cdff97335d1ce76e991fb9cb2adb8      moveis_decoracao   \n",
              "\n",
              "       product_name_lenght  product_description_lenght  product_photos_qty  \\\n",
              "32218                 39.0                       669.0                 1.0   \n",
              "31436                 43.0                       620.0                 5.0   \n",
              "22466                 52.0                       575.0                 1.0   \n",
              "6691                  60.0                       953.0                 7.0   \n",
              "32357                 56.0                       428.0                 1.0   \n",
              "\n",
              "       product_weight_g  product_length_cm  product_height_cm  \\\n",
              "32218            1200.0               28.0                8.0   \n",
              "31436             917.0               34.0               18.0   \n",
              "22466             400.0               19.0                9.0   \n",
              "6691              900.0               32.0               17.0   \n",
              "32357            4100.0               43.0               26.0   \n",
              "\n",
              "       product_width_cm  \n",
              "32218              13.0  \n",
              "31436              38.0  \n",
              "22466              18.0  \n",
              "6691               30.0  \n",
              "32357              43.0  "
            ]
          },
          "execution_count": 174,
          "metadata": {},
          "output_type": "execute_result"
        }
      ],
      "source": [
        "product_df.sample(5)"
      ]
    },
    {
      "cell_type": "code",
      "execution_count": 175,
      "metadata": {
        "colab": {
          "base_uri": "https://localhost:8080/",
          "height": 269
        },
        "id": "7y4mqEhYMaa-",
        "outputId": "b6149ad3-fc0f-4aa3-9168-43e504214290"
      },
      "outputs": [
        {
          "data": {
            "text/html": [
              "<div>\n",
              "<style scoped>\n",
              "    .dataframe tbody tr th:only-of-type {\n",
              "        vertical-align: middle;\n",
              "    }\n",
              "\n",
              "    .dataframe tbody tr th {\n",
              "        vertical-align: top;\n",
              "    }\n",
              "\n",
              "    .dataframe thead tr th {\n",
              "        text-align: left;\n",
              "    }\n",
              "\n",
              "    .dataframe thead tr:last-of-type th {\n",
              "        text-align: right;\n",
              "    }\n",
              "</style>\n",
              "<table border=\"1\" class=\"dataframe\">\n",
              "  <thead>\n",
              "    <tr>\n",
              "      <th></th>\n",
              "      <th>product_id</th>\n",
              "      <th colspan=\"2\" halign=\"left\">product_weight_g</th>\n",
              "    </tr>\n",
              "    <tr>\n",
              "      <th></th>\n",
              "      <th>nunique</th>\n",
              "      <th>min</th>\n",
              "      <th>max</th>\n",
              "    </tr>\n",
              "    <tr>\n",
              "      <th>product_category_name</th>\n",
              "      <th></th>\n",
              "      <th></th>\n",
              "      <th></th>\n",
              "    </tr>\n",
              "  </thead>\n",
              "  <tbody>\n",
              "    <tr>\n",
              "      <th>agro_industria_e_comercio</th>\n",
              "      <td>44</td>\n",
              "      <td>50.0</td>\n",
              "      <td>4050.0</td>\n",
              "    </tr>\n",
              "    <tr>\n",
              "      <th>alimentos</th>\n",
              "      <td>79</td>\n",
              "      <td>75.0</td>\n",
              "      <td>3350.0</td>\n",
              "    </tr>\n",
              "    <tr>\n",
              "      <th>alimentos_bebidas</th>\n",
              "      <td>98</td>\n",
              "      <td>50.0</td>\n",
              "      <td>4200.0</td>\n",
              "    </tr>\n",
              "    <tr>\n",
              "      <th>artes</th>\n",
              "      <td>49</td>\n",
              "      <td>100.0</td>\n",
              "      <td>3400.0</td>\n",
              "    </tr>\n",
              "    <tr>\n",
              "      <th>artes_e_artesanato</th>\n",
              "      <td>18</td>\n",
              "      <td>100.0</td>\n",
              "      <td>2900.0</td>\n",
              "    </tr>\n",
              "  </tbody>\n",
              "</table>\n",
              "</div>"
            ],
            "text/plain": [
              "                          product_id product_weight_g        \n",
              "                             nunique              min     max\n",
              "product_category_name                                        \n",
              "agro_industria_e_comercio         44             50.0  4050.0\n",
              "alimentos                         79             75.0  3350.0\n",
              "alimentos_bebidas                 98             50.0  4200.0\n",
              "artes                             49            100.0  3400.0\n",
              "artes_e_artesanato                18            100.0  2900.0"
            ]
          },
          "execution_count": 175,
          "metadata": {},
          "output_type": "execute_result"
        }
      ],
      "source": [
        "product_df.groupby(by=\"product_category_name\").agg({\n",
        "    \"product_id\": \"nunique\",\n",
        "    \"product_weight_g\": [\"min\", \"max\"]\n",
        "}).head()"
      ]
    },
    {
      "cell_type": "code",
      "execution_count": 176,
      "metadata": {
        "colab": {
          "base_uri": "https://localhost:8080/",
          "height": 272
        },
        "id": "uH50HMbYLrOp",
        "outputId": "683b8940-3ad3-4db4-d622-c8fdb8f370f9"
      },
      "outputs": [
        {
          "data": {
            "text/plain": [
              "product_category_name\n",
              "cama_mesa_banho          2651\n",
              "esporte_lazer            2565\n",
              "beleza_saude             2343\n",
              "moveis_decoracao         2174\n",
              "utilidades_domesticas    1865\n",
              "Name: product_id, dtype: int64"
            ]
          },
          "execution_count": 176,
          "metadata": {},
          "output_type": "execute_result"
        }
      ],
      "source": [
        "product_df.groupby(by=\"product_category_name\").product_id.nunique().sort_values(ascending=False).head()"
      ]
    },
    {
      "cell_type": "markdown",
      "metadata": {
        "id": "_lnZuKoZN8Xh"
      },
      "source": [
        "####Explore `product_df` & `orderItems_df`"
      ]
    },
    {
      "cell_type": "markdown",
      "metadata": {
        "id": "i1LK9yOONcDx"
      },
      "source": [
        "#####Menggabungkan `product_df` & `orderItems_df`"
      ]
    },
    {
      "cell_type": "code",
      "execution_count": 177,
      "metadata": {
        "colab": {
          "base_uri": "https://localhost:8080/",
          "height": 226
        },
        "id": "2uNvBizvNUW4",
        "outputId": "38d6a364-ff98-4210-ad94-86d6ab9ac987"
      },
      "outputs": [
        {
          "data": {
            "text/html": [
              "<div>\n",
              "<style scoped>\n",
              "    .dataframe tbody tr th:only-of-type {\n",
              "        vertical-align: middle;\n",
              "    }\n",
              "\n",
              "    .dataframe tbody tr th {\n",
              "        vertical-align: top;\n",
              "    }\n",
              "\n",
              "    .dataframe thead th {\n",
              "        text-align: right;\n",
              "    }\n",
              "</style>\n",
              "<table border=\"1\" class=\"dataframe\">\n",
              "  <thead>\n",
              "    <tr style=\"text-align: right;\">\n",
              "      <th></th>\n",
              "      <th>product_id</th>\n",
              "      <th>product_category_name</th>\n",
              "      <th>product_name_lenght</th>\n",
              "      <th>product_description_lenght</th>\n",
              "      <th>product_photos_qty</th>\n",
              "      <th>product_weight_g</th>\n",
              "      <th>product_length_cm</th>\n",
              "      <th>product_height_cm</th>\n",
              "      <th>product_width_cm</th>\n",
              "      <th>order_id</th>\n",
              "      <th>order_item_id</th>\n",
              "      <th>seller_id</th>\n",
              "      <th>shipping_limit_date</th>\n",
              "      <th>price</th>\n",
              "      <th>freight_value</th>\n",
              "    </tr>\n",
              "  </thead>\n",
              "  <tbody>\n",
              "    <tr>\n",
              "      <th>0</th>\n",
              "      <td>1e9e8ef04dbcff4541ed26657ea517e5</td>\n",
              "      <td>perfumaria</td>\n",
              "      <td>40.0</td>\n",
              "      <td>287.0</td>\n",
              "      <td>1.0</td>\n",
              "      <td>225.0</td>\n",
              "      <td>16.0</td>\n",
              "      <td>10.0</td>\n",
              "      <td>14.0</td>\n",
              "      <td>e17e4f88e31525f7deef66779844ddce</td>\n",
              "      <td>1.0</td>\n",
              "      <td>5670f4db5b62c43d542e1b2d56b0cf7c</td>\n",
              "      <td>2018-04-30 17:33:54</td>\n",
              "      <td>10.91</td>\n",
              "      <td>7.39</td>\n",
              "    </tr>\n",
              "    <tr>\n",
              "      <th>1</th>\n",
              "      <td>3aa071139cb16b67ca9e5dea641aaa2f</td>\n",
              "      <td>artes</td>\n",
              "      <td>44.0</td>\n",
              "      <td>276.0</td>\n",
              "      <td>1.0</td>\n",
              "      <td>1000.0</td>\n",
              "      <td>30.0</td>\n",
              "      <td>18.0</td>\n",
              "      <td>20.0</td>\n",
              "      <td>5236307716393b7114b53ee991f36956</td>\n",
              "      <td>1.0</td>\n",
              "      <td>b561927807645834b59ef0d16ba55a24</td>\n",
              "      <td>2018-02-06 19:11:15</td>\n",
              "      <td>248.00</td>\n",
              "      <td>17.99</td>\n",
              "    </tr>\n",
              "    <tr>\n",
              "      <th>2</th>\n",
              "      <td>96bd76ec8810374ed1b65e291975717f</td>\n",
              "      <td>esporte_lazer</td>\n",
              "      <td>46.0</td>\n",
              "      <td>250.0</td>\n",
              "      <td>1.0</td>\n",
              "      <td>154.0</td>\n",
              "      <td>18.0</td>\n",
              "      <td>9.0</td>\n",
              "      <td>15.0</td>\n",
              "      <td>01f66e58769f84129811d43eefd187fb</td>\n",
              "      <td>1.0</td>\n",
              "      <td>7b07b3c7487f0ea825fc6df75abd658b</td>\n",
              "      <td>2018-07-11 21:30:20</td>\n",
              "      <td>79.80</td>\n",
              "      <td>7.82</td>\n",
              "    </tr>\n",
              "    <tr>\n",
              "      <th>3</th>\n",
              "      <td>cef67bcfe19066a932b7673e239eb23d</td>\n",
              "      <td>bebes</td>\n",
              "      <td>27.0</td>\n",
              "      <td>261.0</td>\n",
              "      <td>1.0</td>\n",
              "      <td>371.0</td>\n",
              "      <td>26.0</td>\n",
              "      <td>4.0</td>\n",
              "      <td>26.0</td>\n",
              "      <td>143d00a4f2dde4e0364ee1821577adb3</td>\n",
              "      <td>1.0</td>\n",
              "      <td>c510bc1718f0f2961eaa42a23330681a</td>\n",
              "      <td>2018-08-07 09:10:13</td>\n",
              "      <td>112.30</td>\n",
              "      <td>9.54</td>\n",
              "    </tr>\n",
              "    <tr>\n",
              "      <th>4</th>\n",
              "      <td>9dc1a7de274444849c219cff195d0b71</td>\n",
              "      <td>utilidades_domesticas</td>\n",
              "      <td>37.0</td>\n",
              "      <td>402.0</td>\n",
              "      <td>4.0</td>\n",
              "      <td>625.0</td>\n",
              "      <td>20.0</td>\n",
              "      <td>17.0</td>\n",
              "      <td>13.0</td>\n",
              "      <td>86cafb8794cb99a9b1b77fc8e48fbbbb</td>\n",
              "      <td>1.0</td>\n",
              "      <td>0be8ff43f22e456b4e0371b2245e4d01</td>\n",
              "      <td>2018-04-17 01:30:23</td>\n",
              "      <td>37.90</td>\n",
              "      <td>8.29</td>\n",
              "    </tr>\n",
              "  </tbody>\n",
              "</table>\n",
              "</div>"
            ],
            "text/plain": [
              "                         product_id  product_category_name  \\\n",
              "0  1e9e8ef04dbcff4541ed26657ea517e5             perfumaria   \n",
              "1  3aa071139cb16b67ca9e5dea641aaa2f                  artes   \n",
              "2  96bd76ec8810374ed1b65e291975717f          esporte_lazer   \n",
              "3  cef67bcfe19066a932b7673e239eb23d                  bebes   \n",
              "4  9dc1a7de274444849c219cff195d0b71  utilidades_domesticas   \n",
              "\n",
              "   product_name_lenght  product_description_lenght  product_photos_qty  \\\n",
              "0                 40.0                       287.0                 1.0   \n",
              "1                 44.0                       276.0                 1.0   \n",
              "2                 46.0                       250.0                 1.0   \n",
              "3                 27.0                       261.0                 1.0   \n",
              "4                 37.0                       402.0                 4.0   \n",
              "\n",
              "   product_weight_g  product_length_cm  product_height_cm  product_width_cm  \\\n",
              "0             225.0               16.0               10.0              14.0   \n",
              "1            1000.0               30.0               18.0              20.0   \n",
              "2             154.0               18.0                9.0              15.0   \n",
              "3             371.0               26.0                4.0              26.0   \n",
              "4             625.0               20.0               17.0              13.0   \n",
              "\n",
              "                           order_id  order_item_id  \\\n",
              "0  e17e4f88e31525f7deef66779844ddce            1.0   \n",
              "1  5236307716393b7114b53ee991f36956            1.0   \n",
              "2  01f66e58769f84129811d43eefd187fb            1.0   \n",
              "3  143d00a4f2dde4e0364ee1821577adb3            1.0   \n",
              "4  86cafb8794cb99a9b1b77fc8e48fbbbb            1.0   \n",
              "\n",
              "                          seller_id shipping_limit_date   price  freight_value  \n",
              "0  5670f4db5b62c43d542e1b2d56b0cf7c 2018-04-30 17:33:54   10.91           7.39  \n",
              "1  b561927807645834b59ef0d16ba55a24 2018-02-06 19:11:15  248.00          17.99  \n",
              "2  7b07b3c7487f0ea825fc6df75abd658b 2018-07-11 21:30:20   79.80           7.82  \n",
              "3  c510bc1718f0f2961eaa42a23330681a 2018-08-07 09:10:13  112.30           9.54  \n",
              "4  0be8ff43f22e456b4e0371b2245e4d01 2018-04-17 01:30:23   37.90           8.29  "
            ]
          },
          "execution_count": 177,
          "metadata": {},
          "output_type": "execute_result"
        }
      ],
      "source": [
        "product_orderItems_df = pd.merge(\n",
        "    left=product_df,\n",
        "    right=orderItems_df,\n",
        "    how='left',\n",
        "    left_on='product_id',\n",
        "    right_on='product_id'\n",
        ")\n",
        "product_orderItems_df.head()"
      ]
    },
    {
      "cell_type": "code",
      "execution_count": 178,
      "metadata": {
        "colab": {
          "base_uri": "https://localhost:8080/",
          "height": 486
        },
        "id": "oEKxu_B2OmYW",
        "outputId": "2cca55f4-37b4-4a7a-ac92-4b84e981e87d"
      },
      "outputs": [
        {
          "data": {
            "text/html": [
              "<div>\n",
              "<style scoped>\n",
              "    .dataframe tbody tr th:only-of-type {\n",
              "        vertical-align: middle;\n",
              "    }\n",
              "\n",
              "    .dataframe tbody tr th {\n",
              "        vertical-align: top;\n",
              "    }\n",
              "\n",
              "    .dataframe thead tr th {\n",
              "        text-align: left;\n",
              "    }\n",
              "\n",
              "    .dataframe thead tr:last-of-type th {\n",
              "        text-align: right;\n",
              "    }\n",
              "</style>\n",
              "<table border=\"1\" class=\"dataframe\">\n",
              "  <thead>\n",
              "    <tr>\n",
              "      <th></th>\n",
              "      <th>product_id</th>\n",
              "      <th colspan=\"2\" halign=\"left\">price</th>\n",
              "    </tr>\n",
              "    <tr>\n",
              "      <th></th>\n",
              "      <th>nunique</th>\n",
              "      <th>min</th>\n",
              "      <th>max</th>\n",
              "    </tr>\n",
              "    <tr>\n",
              "      <th>product_category_name</th>\n",
              "      <th></th>\n",
              "      <th></th>\n",
              "      <th></th>\n",
              "    </tr>\n",
              "  </thead>\n",
              "  <tbody>\n",
              "    <tr>\n",
              "      <th>cama_mesa_banho</th>\n",
              "      <td>2651</td>\n",
              "      <td>6.99</td>\n",
              "      <td>629.90</td>\n",
              "    </tr>\n",
              "    <tr>\n",
              "      <th>esporte_lazer</th>\n",
              "      <td>2565</td>\n",
              "      <td>4.50</td>\n",
              "      <td>1799.00</td>\n",
              "    </tr>\n",
              "    <tr>\n",
              "      <th>beleza_saude</th>\n",
              "      <td>2343</td>\n",
              "      <td>1.20</td>\n",
              "      <td>1850.00</td>\n",
              "    </tr>\n",
              "    <tr>\n",
              "      <th>moveis_decoracao</th>\n",
              "      <td>2174</td>\n",
              "      <td>4.90</td>\n",
              "      <td>629.90</td>\n",
              "    </tr>\n",
              "    <tr>\n",
              "      <th>utilidades_domesticas</th>\n",
              "      <td>1865</td>\n",
              "      <td>3.06</td>\n",
              "      <td>1009.90</td>\n",
              "    </tr>\n",
              "    <tr>\n",
              "      <th>...</th>\n",
              "      <td>...</td>\n",
              "      <td>...</td>\n",
              "      <td>...</td>\n",
              "    </tr>\n",
              "    <tr>\n",
              "      <th>casa_conforto_2</th>\n",
              "      <td>5</td>\n",
              "      <td>12.90</td>\n",
              "      <td>219.99</td>\n",
              "    </tr>\n",
              "    <tr>\n",
              "      <th>moveis_colchao_e_estofado</th>\n",
              "      <td>4</td>\n",
              "      <td>110.00</td>\n",
              "      <td>249.00</td>\n",
              "    </tr>\n",
              "    <tr>\n",
              "      <th>pc_gamer</th>\n",
              "      <td>3</td>\n",
              "      <td>129.99</td>\n",
              "      <td>239.00</td>\n",
              "    </tr>\n",
              "    <tr>\n",
              "      <th>seguros_e_servicos</th>\n",
              "      <td>2</td>\n",
              "      <td>100.00</td>\n",
              "      <td>183.29</td>\n",
              "    </tr>\n",
              "    <tr>\n",
              "      <th>cds_dvds_musicais</th>\n",
              "      <td>1</td>\n",
              "      <td>45.00</td>\n",
              "      <td>65.00</td>\n",
              "    </tr>\n",
              "  </tbody>\n",
              "</table>\n",
              "<p>73 rows × 3 columns</p>\n",
              "</div>"
            ],
            "text/plain": [
              "                          product_id   price         \n",
              "                             nunique     min      max\n",
              "product_category_name                                \n",
              "cama_mesa_banho                 2651    6.99   629.90\n",
              "esporte_lazer                   2565    4.50  1799.00\n",
              "beleza_saude                    2343    1.20  1850.00\n",
              "moveis_decoracao                2174    4.90   629.90\n",
              "utilidades_domesticas           1865    3.06  1009.90\n",
              "...                              ...     ...      ...\n",
              "casa_conforto_2                    5   12.90   219.99\n",
              "moveis_colchao_e_estofado          4  110.00   249.00\n",
              "pc_gamer                           3  129.99   239.00\n",
              "seguros_e_servicos                 2  100.00   183.29\n",
              "cds_dvds_musicais                  1   45.00    65.00\n",
              "\n",
              "[73 rows x 3 columns]"
            ]
          },
          "execution_count": 178,
          "metadata": {},
          "output_type": "execute_result"
        }
      ],
      "source": [
        "product_orderItems_df.groupby(by=\"product_category_name\").agg({\n",
        "    \"product_id\": \"nunique\",\n",
        "    \"price\" : [\"min\", \"max\"]\n",
        "}).sort_values(by=('product_id', 'nunique'), ascending=False)"
      ]
    },
    {
      "cell_type": "markdown",
      "metadata": {
        "id": "0hJTSeVITAhK"
      },
      "source": [
        "####Explore All Data"
      ]
    },
    {
      "cell_type": "markdown",
      "metadata": {
        "id": "KP91fR3tTP7d"
      },
      "source": [
        "#####Menggabungkan semua data"
      ]
    },
    {
      "cell_type": "code",
      "execution_count": 179,
      "metadata": {
        "colab": {
          "base_uri": "https://localhost:8080/",
          "height": 256
        },
        "id": "UxGQ5saqS_yw",
        "outputId": "41cfad7d-9495-417a-fc53-8f72d75dcba5"
      },
      "outputs": [
        {
          "data": {
            "text/html": [
              "<div>\n",
              "<style scoped>\n",
              "    .dataframe tbody tr th:only-of-type {\n",
              "        vertical-align: middle;\n",
              "    }\n",
              "\n",
              "    .dataframe tbody tr th {\n",
              "        vertical-align: top;\n",
              "    }\n",
              "\n",
              "    .dataframe thead th {\n",
              "        text-align: right;\n",
              "    }\n",
              "</style>\n",
              "<table border=\"1\" class=\"dataframe\">\n",
              "  <thead>\n",
              "    <tr style=\"text-align: right;\">\n",
              "      <th></th>\n",
              "      <th>customer_id</th>\n",
              "      <th>customer_unique_id</th>\n",
              "      <th>customer_zip_code_prefix</th>\n",
              "      <th>customer_city</th>\n",
              "      <th>customer_state</th>\n",
              "      <th>geolocation_zip_code_prefix</th>\n",
              "      <th>geolocation_lat</th>\n",
              "      <th>geolocation_lng</th>\n",
              "      <th>geolocation_city</th>\n",
              "      <th>geolocation_state</th>\n",
              "      <th>...</th>\n",
              "      <th>product_photos_qty</th>\n",
              "      <th>product_weight_g</th>\n",
              "      <th>product_length_cm</th>\n",
              "      <th>product_height_cm</th>\n",
              "      <th>product_width_cm</th>\n",
              "      <th>order_item_id</th>\n",
              "      <th>seller_id</th>\n",
              "      <th>shipping_limit_date</th>\n",
              "      <th>price</th>\n",
              "      <th>freight_value</th>\n",
              "    </tr>\n",
              "  </thead>\n",
              "  <tbody>\n",
              "    <tr>\n",
              "      <th>0</th>\n",
              "      <td>fd826e7cf63160e536e0908c76c3f441</td>\n",
              "      <td>addec96d2e059c80c30fe6871d30d177</td>\n",
              "      <td>4534</td>\n",
              "      <td>sao paulo</td>\n",
              "      <td>SP</td>\n",
              "      <td>4534.0</td>\n",
              "      <td>-23.584547</td>\n",
              "      <td>-46.674561</td>\n",
              "      <td>sao paulo</td>\n",
              "      <td>SP</td>\n",
              "      <td>...</td>\n",
              "      <td>3.0</td>\n",
              "      <td>100.0</td>\n",
              "      <td>16.0</td>\n",
              "      <td>3.0</td>\n",
              "      <td>13.0</td>\n",
              "      <td>1.0</td>\n",
              "      <td>9f505651f4a6abe901a56cdc21508025</td>\n",
              "      <td>2018-02-23 14:50:37</td>\n",
              "      <td>14.99</td>\n",
              "      <td>7.78</td>\n",
              "    </tr>\n",
              "    <tr>\n",
              "      <th>1</th>\n",
              "      <td>fd826e7cf63160e536e0908c76c3f441</td>\n",
              "      <td>addec96d2e059c80c30fe6871d30d177</td>\n",
              "      <td>4534</td>\n",
              "      <td>sao paulo</td>\n",
              "      <td>SP</td>\n",
              "      <td>4534.0</td>\n",
              "      <td>-23.583566</td>\n",
              "      <td>-46.671051</td>\n",
              "      <td>sao paulo</td>\n",
              "      <td>SP</td>\n",
              "      <td>...</td>\n",
              "      <td>3.0</td>\n",
              "      <td>100.0</td>\n",
              "      <td>16.0</td>\n",
              "      <td>3.0</td>\n",
              "      <td>13.0</td>\n",
              "      <td>1.0</td>\n",
              "      <td>9f505651f4a6abe901a56cdc21508025</td>\n",
              "      <td>2018-02-23 14:50:37</td>\n",
              "      <td>14.99</td>\n",
              "      <td>7.78</td>\n",
              "    </tr>\n",
              "    <tr>\n",
              "      <th>2</th>\n",
              "      <td>fd826e7cf63160e536e0908c76c3f441</td>\n",
              "      <td>addec96d2e059c80c30fe6871d30d177</td>\n",
              "      <td>4534</td>\n",
              "      <td>sao paulo</td>\n",
              "      <td>SP</td>\n",
              "      <td>4534.0</td>\n",
              "      <td>-23.583486</td>\n",
              "      <td>-46.670741</td>\n",
              "      <td>sao paulo</td>\n",
              "      <td>SP</td>\n",
              "      <td>...</td>\n",
              "      <td>3.0</td>\n",
              "      <td>100.0</td>\n",
              "      <td>16.0</td>\n",
              "      <td>3.0</td>\n",
              "      <td>13.0</td>\n",
              "      <td>1.0</td>\n",
              "      <td>9f505651f4a6abe901a56cdc21508025</td>\n",
              "      <td>2018-02-23 14:50:37</td>\n",
              "      <td>14.99</td>\n",
              "      <td>7.78</td>\n",
              "    </tr>\n",
              "    <tr>\n",
              "      <th>3</th>\n",
              "      <td>fd826e7cf63160e536e0908c76c3f441</td>\n",
              "      <td>addec96d2e059c80c30fe6871d30d177</td>\n",
              "      <td>4534</td>\n",
              "      <td>sao paulo</td>\n",
              "      <td>SP</td>\n",
              "      <td>4534.0</td>\n",
              "      <td>-23.586131</td>\n",
              "      <td>-46.680689</td>\n",
              "      <td>sao paulo</td>\n",
              "      <td>SP</td>\n",
              "      <td>...</td>\n",
              "      <td>3.0</td>\n",
              "      <td>100.0</td>\n",
              "      <td>16.0</td>\n",
              "      <td>3.0</td>\n",
              "      <td>13.0</td>\n",
              "      <td>1.0</td>\n",
              "      <td>9f505651f4a6abe901a56cdc21508025</td>\n",
              "      <td>2018-02-23 14:50:37</td>\n",
              "      <td>14.99</td>\n",
              "      <td>7.78</td>\n",
              "    </tr>\n",
              "    <tr>\n",
              "      <th>4</th>\n",
              "      <td>fd826e7cf63160e536e0908c76c3f441</td>\n",
              "      <td>addec96d2e059c80c30fe6871d30d177</td>\n",
              "      <td>4534</td>\n",
              "      <td>sao paulo</td>\n",
              "      <td>SP</td>\n",
              "      <td>4534.0</td>\n",
              "      <td>-23.584547</td>\n",
              "      <td>-46.674561</td>\n",
              "      <td>sao paulo</td>\n",
              "      <td>SP</td>\n",
              "      <td>...</td>\n",
              "      <td>3.0</td>\n",
              "      <td>100.0</td>\n",
              "      <td>16.0</td>\n",
              "      <td>3.0</td>\n",
              "      <td>13.0</td>\n",
              "      <td>1.0</td>\n",
              "      <td>9f505651f4a6abe901a56cdc21508025</td>\n",
              "      <td>2018-02-23 14:50:37</td>\n",
              "      <td>14.99</td>\n",
              "      <td>7.78</td>\n",
              "    </tr>\n",
              "  </tbody>\n",
              "</table>\n",
              "<p>5 rows × 36 columns</p>\n",
              "</div>"
            ],
            "text/plain": [
              "                        customer_id                customer_unique_id  \\\n",
              "0  fd826e7cf63160e536e0908c76c3f441  addec96d2e059c80c30fe6871d30d177   \n",
              "1  fd826e7cf63160e536e0908c76c3f441  addec96d2e059c80c30fe6871d30d177   \n",
              "2  fd826e7cf63160e536e0908c76c3f441  addec96d2e059c80c30fe6871d30d177   \n",
              "3  fd826e7cf63160e536e0908c76c3f441  addec96d2e059c80c30fe6871d30d177   \n",
              "4  fd826e7cf63160e536e0908c76c3f441  addec96d2e059c80c30fe6871d30d177   \n",
              "\n",
              "   customer_zip_code_prefix customer_city customer_state  \\\n",
              "0                      4534     sao paulo             SP   \n",
              "1                      4534     sao paulo             SP   \n",
              "2                      4534     sao paulo             SP   \n",
              "3                      4534     sao paulo             SP   \n",
              "4                      4534     sao paulo             SP   \n",
              "\n",
              "   geolocation_zip_code_prefix  geolocation_lat  geolocation_lng  \\\n",
              "0                       4534.0       -23.584547       -46.674561   \n",
              "1                       4534.0       -23.583566       -46.671051   \n",
              "2                       4534.0       -23.583486       -46.670741   \n",
              "3                       4534.0       -23.586131       -46.680689   \n",
              "4                       4534.0       -23.584547       -46.674561   \n",
              "\n",
              "  geolocation_city geolocation_state  ... product_photos_qty  \\\n",
              "0        sao paulo                SP  ...                3.0   \n",
              "1        sao paulo                SP  ...                3.0   \n",
              "2        sao paulo                SP  ...                3.0   \n",
              "3        sao paulo                SP  ...                3.0   \n",
              "4        sao paulo                SP  ...                3.0   \n",
              "\n",
              "   product_weight_g product_length_cm  product_height_cm  product_width_cm  \\\n",
              "0             100.0              16.0                3.0              13.0   \n",
              "1             100.0              16.0                3.0              13.0   \n",
              "2             100.0              16.0                3.0              13.0   \n",
              "3             100.0              16.0                3.0              13.0   \n",
              "4             100.0              16.0                3.0              13.0   \n",
              "\n",
              "  order_item_id                         seller_id shipping_limit_date  price  \\\n",
              "0           1.0  9f505651f4a6abe901a56cdc21508025 2018-02-23 14:50:37  14.99   \n",
              "1           1.0  9f505651f4a6abe901a56cdc21508025 2018-02-23 14:50:37  14.99   \n",
              "2           1.0  9f505651f4a6abe901a56cdc21508025 2018-02-23 14:50:37  14.99   \n",
              "3           1.0  9f505651f4a6abe901a56cdc21508025 2018-02-23 14:50:37  14.99   \n",
              "4           1.0  9f505651f4a6abe901a56cdc21508025 2018-02-23 14:50:37  14.99   \n",
              "\n",
              "  freight_value  \n",
              "0          7.78  \n",
              "1          7.78  \n",
              "2          7.78  \n",
              "3          7.78  \n",
              "4          7.78  \n",
              "\n",
              "[5 rows x 36 columns]"
            ]
          },
          "execution_count": 179,
          "metadata": {},
          "output_type": "execute_result"
        }
      ],
      "source": [
        "merged_1 = geolocation_customer_df.merge(orderPayments_orders_df, on='customer_id')\n",
        "alldata = merged_1.merge(product_orderItems_df, on='order_id')\n",
        "alldata.head()"
      ]
    },
    {
      "cell_type": "code",
      "execution_count": 180,
      "metadata": {
        "colab": {
          "base_uri": "https://localhost:8080/",
          "height": 455
        },
        "id": "S0t7UIC3YzDe",
        "outputId": "f3b9f3a2-e13b-4e81-9964-b84439b0eceb"
      },
      "outputs": [
        {
          "data": {
            "text/html": [
              "<div>\n",
              "<style scoped>\n",
              "    .dataframe tbody tr th:only-of-type {\n",
              "        vertical-align: middle;\n",
              "    }\n",
              "\n",
              "    .dataframe tbody tr th {\n",
              "        vertical-align: top;\n",
              "    }\n",
              "\n",
              "    .dataframe thead th {\n",
              "        text-align: right;\n",
              "    }\n",
              "</style>\n",
              "<table border=\"1\" class=\"dataframe\">\n",
              "  <thead>\n",
              "    <tr style=\"text-align: right;\">\n",
              "      <th></th>\n",
              "      <th></th>\n",
              "      <th>customer_id</th>\n",
              "      <th>price</th>\n",
              "    </tr>\n",
              "    <tr>\n",
              "      <th>customer_city</th>\n",
              "      <th>product_category_name</th>\n",
              "      <th></th>\n",
              "      <th></th>\n",
              "    </tr>\n",
              "  </thead>\n",
              "  <tbody>\n",
              "    <tr>\n",
              "      <th>rio de janeiro</th>\n",
              "      <th>cama_mesa_banho</th>\n",
              "      <td>617</td>\n",
              "      <td>8423844.11</td>\n",
              "    </tr>\n",
              "    <tr>\n",
              "      <th rowspan=\"2\" valign=\"top\">sao paulo</th>\n",
              "      <th>cama_mesa_banho</th>\n",
              "      <td>1441</td>\n",
              "      <td>6621790.69</td>\n",
              "    </tr>\n",
              "    <tr>\n",
              "      <th>beleza_saude</th>\n",
              "      <td>1372</td>\n",
              "      <td>6079549.43</td>\n",
              "    </tr>\n",
              "    <tr>\n",
              "      <th rowspan=\"2\" valign=\"top\">rio de janeiro</th>\n",
              "      <th>beleza_saude</th>\n",
              "      <td>429</td>\n",
              "      <td>5987164.14</td>\n",
              "    </tr>\n",
              "    <tr>\n",
              "      <th>esporte_lazer</th>\n",
              "      <td>428</td>\n",
              "      <td>5954442.86</td>\n",
              "    </tr>\n",
              "    <tr>\n",
              "      <th>...</th>\n",
              "      <th>...</th>\n",
              "      <td>...</td>\n",
              "      <td>...</td>\n",
              "    </tr>\n",
              "    <tr>\n",
              "      <th>jacuipe</th>\n",
              "      <th>telefonia</th>\n",
              "      <td>1</td>\n",
              "      <td>13.98</td>\n",
              "    </tr>\n",
              "    <tr>\n",
              "      <th>tuparece</th>\n",
              "      <th>telefonia</th>\n",
              "      <td>1</td>\n",
              "      <td>13.50</td>\n",
              "    </tr>\n",
              "    <tr>\n",
              "      <th>rio paranaiba</th>\n",
              "      <th>telefonia_fixa</th>\n",
              "      <td>1</td>\n",
              "      <td>10.99</td>\n",
              "    </tr>\n",
              "    <tr>\n",
              "      <th>hortolandia</th>\n",
              "      <th>construcao_ferramentas_construcao</th>\n",
              "      <td>1</td>\n",
              "      <td>10.20</td>\n",
              "    </tr>\n",
              "    <tr>\n",
              "      <th>polo petroquimico de triunfo</th>\n",
              "      <th>papelaria</th>\n",
              "      <td>1</td>\n",
              "      <td>5.60</td>\n",
              "    </tr>\n",
              "  </tbody>\n",
              "</table>\n",
              "<p>19454 rows × 2 columns</p>\n",
              "</div>"
            ],
            "text/plain": [
              "                                                                customer_id  \\\n",
              "customer_city                product_category_name                            \n",
              "rio de janeiro               cama_mesa_banho                            617   \n",
              "sao paulo                    cama_mesa_banho                           1441   \n",
              "                             beleza_saude                              1372   \n",
              "rio de janeiro               beleza_saude                               429   \n",
              "                             esporte_lazer                              428   \n",
              "...                                                                     ...   \n",
              "jacuipe                      telefonia                                    1   \n",
              "tuparece                     telefonia                                    1   \n",
              "rio paranaiba                telefonia_fixa                               1   \n",
              "hortolandia                  construcao_ferramentas_construcao            1   \n",
              "polo petroquimico de triunfo papelaria                                    1   \n",
              "\n",
              "                                                                     price  \n",
              "customer_city                product_category_name                          \n",
              "rio de janeiro               cama_mesa_banho                    8423844.11  \n",
              "sao paulo                    cama_mesa_banho                    6621790.69  \n",
              "                             beleza_saude                       6079549.43  \n",
              "rio de janeiro               beleza_saude                       5987164.14  \n",
              "                             esporte_lazer                      5954442.86  \n",
              "...                                                                    ...  \n",
              "jacuipe                      telefonia                               13.98  \n",
              "tuparece                     telefonia                               13.50  \n",
              "rio paranaiba                telefonia_fixa                          10.99  \n",
              "hortolandia                  construcao_ferramentas_construcao       10.20  \n",
              "polo petroquimico de triunfo papelaria                                5.60  \n",
              "\n",
              "[19454 rows x 2 columns]"
            ]
          },
          "execution_count": 180,
          "metadata": {},
          "output_type": "execute_result"
        }
      ],
      "source": [
        "alldata.groupby(by=[\"customer_city\", \"product_category_name\"]).agg({\n",
        "    \"customer_id\" : \"nunique\",\n",
        "    \"price\" : \"sum\"\n",
        "}).sort_values(by=\"price\", ascending=False)"
      ]
    },
    {
      "cell_type": "code",
      "execution_count": 181,
      "metadata": {
        "id": "q8IZL8frecmg"
      },
      "outputs": [],
      "source": [
        "#Menggunakan 300rb sampel baris data untuk memaksimalkan memori saat commit ke github \n",
        "alldata['order_purchase_timestamp'] = pd.to_datetime(alldata['order_purchase_timestamp'], errors='coerce')\n",
        "alldata['year'] = alldata['order_purchase_timestamp'].dt.year\n",
        "alldata = alldata.head(300000)\n",
        "\n",
        "# Hapus kolom yang tidak diperlukan (pastikan kolom ini ada dalam dataset)\n",
        "unused_columns = [\n",
        "    \"geolocation_zip_code_prefix\", \"geolocation_lat\", \"geolocation_lng\",\n",
        "    \"product_name_lenght\", \"product_description_lenght\", \"product_photos_qty\",\n",
        "    \"product_weight_g\", \"product_length_cm\", \"product_height_cm\", \"product_width_cm\",\n",
        "    \"order_approved_at\", \"order_delivered_carrier_date\", \"customer_unique_id\",\n",
        "    \"customer_zip_code_prefix\", \"seller_id\", \"shipping_limit_date\",\n",
        "    \"payment_installments\", \"payment_sequential\", \"geolocation_city\",\n",
        "    \"geolocation_state\", \"product_id\", \"payment_type\", \"price\",\n",
        "    \"freight_value\", \"order_status\", \"customer_state\", \"order_estimated_delivery_date\",\"delivery_day\", \"order_item_id\",\"year\",\"month\"\n",
        "]\n",
        "\n",
        "\n",
        "alldata = alldata.drop(columns=[col for col in unused_columns if col in alldata.columns])\n",
        "\n",
        "alldata.to_csv(\"alldata.csv\", index=False)"
      ]
    },
    {
      "cell_type": "markdown",
      "metadata": {},
      "source": [
        "**Insight**\n",
        "- Kartu kredit adalah metode pembayaran yang paling sering digunakan, menunjukkan preferensi pelanggan terhadap transaksi non-tunai.\n",
        "-  Sebagian besar pelanggan berasal dari kota-kota besar seperti rio de jainero, sao paulo dsb, yang menunjukkan pasar utama bagi bisnis.\n",
        "- Beberapa kategori produk seperti cama_mesa_banho paling laris dikota rio de jainero"
      ]
    },
    {
      "cell_type": "markdown",
      "metadata": {
        "id": "zsyZjqak8DC2"
      },
      "source": [
        "## Visualization & Explanatory Analysis"
      ]
    },
    {
      "cell_type": "markdown",
      "metadata": {
        "id": "HZxOiQ6n8DC2"
      },
      "source": [
        "### Pertanyaan 1:Bagaimana tren jumlah pesanan dan total pendapatan perusahaan dalam beberapa bulan terakhir?"
      ]
    },
    {
      "cell_type": "code",
      "execution_count": 182,
      "metadata": {
        "colab": {
          "base_uri": "https://localhost:8080/",
          "height": 256
        },
        "id": "1swJUdAD8DC2",
        "outputId": "1d5cc1c0-9ede-453e-d2f2-946fcee6a9a3"
      },
      "outputs": [
        {
          "data": {
            "text/html": [
              "<div>\n",
              "<style scoped>\n",
              "    .dataframe tbody tr th:only-of-type {\n",
              "        vertical-align: middle;\n",
              "    }\n",
              "\n",
              "    .dataframe tbody tr th {\n",
              "        vertical-align: top;\n",
              "    }\n",
              "\n",
              "    .dataframe thead th {\n",
              "        text-align: right;\n",
              "    }\n",
              "</style>\n",
              "<table border=\"1\" class=\"dataframe\">\n",
              "  <thead>\n",
              "    <tr style=\"text-align: right;\">\n",
              "      <th></th>\n",
              "      <th>customer_id</th>\n",
              "      <th>customer_city</th>\n",
              "      <th>order_id</th>\n",
              "      <th>payment_value</th>\n",
              "      <th>order_purchase_timestamp</th>\n",
              "      <th>order_delivered_customer_date</th>\n",
              "      <th>product_category_name</th>\n",
              "    </tr>\n",
              "  </thead>\n",
              "  <tbody>\n",
              "    <tr>\n",
              "      <th>177725</th>\n",
              "      <td>dae09add1fb0749dd2deb3555fb5ff52</td>\n",
              "      <td>belo horizonte</td>\n",
              "      <td>05f5cfec67106e59d6280f62c4792d25</td>\n",
              "      <td>65.35</td>\n",
              "      <td>2018-07-26 10:20:44</td>\n",
              "      <td>2018-07-30 20:32:15</td>\n",
              "      <td>cama_mesa_banho</td>\n",
              "    </tr>\n",
              "    <tr>\n",
              "      <th>110329</th>\n",
              "      <td>60582a6628af83a283474d8c94e3ff7a</td>\n",
              "      <td>pedro leopoldo</td>\n",
              "      <td>4ceb9336411700f9568db2ef11bda594</td>\n",
              "      <td>218.08</td>\n",
              "      <td>2017-01-19 22:41:52</td>\n",
              "      <td>2017-01-26 13:57:59</td>\n",
              "      <td>bebes</td>\n",
              "    </tr>\n",
              "    <tr>\n",
              "      <th>185394</th>\n",
              "      <td>7dc0e5a1cd93b2037b5705566f784f8c</td>\n",
              "      <td>sao paulo</td>\n",
              "      <td>98c398503085e37d1c5da3e29980ee25</td>\n",
              "      <td>234.79</td>\n",
              "      <td>2018-02-12 11:44:29</td>\n",
              "      <td>2018-02-22 02:08:51</td>\n",
              "      <td>ferramentas_jardim</td>\n",
              "    </tr>\n",
              "    <tr>\n",
              "      <th>128674</th>\n",
              "      <td>3d64967ab5012122e071d526a18038d1</td>\n",
              "      <td>juiz de fora</td>\n",
              "      <td>09816d25300df1b7cc5c78edc96f55da</td>\n",
              "      <td>206.68</td>\n",
              "      <td>2017-12-23 21:58:49</td>\n",
              "      <td>2018-01-06 15:42:25</td>\n",
              "      <td>cama_mesa_banho</td>\n",
              "    </tr>\n",
              "    <tr>\n",
              "      <th>163294</th>\n",
              "      <td>bfab3ce69efcd5ed27377833a86bd7e0</td>\n",
              "      <td>belo horizonte</td>\n",
              "      <td>b39662e0f09931c6e3d392e873207658</td>\n",
              "      <td>128.95</td>\n",
              "      <td>2017-08-28 13:38:01</td>\n",
              "      <td>2017-09-01 22:42:17</td>\n",
              "      <td>malas_acessorios</td>\n",
              "    </tr>\n",
              "  </tbody>\n",
              "</table>\n",
              "</div>"
            ],
            "text/plain": [
              "                             customer_id   customer_city  \\\n",
              "177725  dae09add1fb0749dd2deb3555fb5ff52  belo horizonte   \n",
              "110329  60582a6628af83a283474d8c94e3ff7a  pedro leopoldo   \n",
              "185394  7dc0e5a1cd93b2037b5705566f784f8c       sao paulo   \n",
              "128674  3d64967ab5012122e071d526a18038d1    juiz de fora   \n",
              "163294  bfab3ce69efcd5ed27377833a86bd7e0  belo horizonte   \n",
              "\n",
              "                                order_id  payment_value  \\\n",
              "177725  05f5cfec67106e59d6280f62c4792d25          65.35   \n",
              "110329  4ceb9336411700f9568db2ef11bda594         218.08   \n",
              "185394  98c398503085e37d1c5da3e29980ee25         234.79   \n",
              "128674  09816d25300df1b7cc5c78edc96f55da         206.68   \n",
              "163294  b39662e0f09931c6e3d392e873207658         128.95   \n",
              "\n",
              "       order_purchase_timestamp order_delivered_customer_date  \\\n",
              "177725      2018-07-26 10:20:44           2018-07-30 20:32:15   \n",
              "110329      2017-01-19 22:41:52           2017-01-26 13:57:59   \n",
              "185394      2018-02-12 11:44:29           2018-02-22 02:08:51   \n",
              "128674      2017-12-23 21:58:49           2018-01-06 15:42:25   \n",
              "163294      2017-08-28 13:38:01           2017-09-01 22:42:17   \n",
              "\n",
              "       product_category_name  \n",
              "177725       cama_mesa_banho  \n",
              "110329                 bebes  \n",
              "185394    ferramentas_jardim  \n",
              "128674       cama_mesa_banho  \n",
              "163294      malas_acessorios  "
            ]
          },
          "execution_count": 182,
          "metadata": {},
          "output_type": "execute_result"
        }
      ],
      "source": [
        "alldata.sample(5)"
      ]
    },
    {
      "cell_type": "code",
      "execution_count": 183,
      "metadata": {},
      "outputs": [
        {
          "data": {
            "text/html": [
              "<div>\n",
              "<style scoped>\n",
              "    .dataframe tbody tr th:only-of-type {\n",
              "        vertical-align: middle;\n",
              "    }\n",
              "\n",
              "    .dataframe tbody tr th {\n",
              "        vertical-align: top;\n",
              "    }\n",
              "\n",
              "    .dataframe thead th {\n",
              "        text-align: right;\n",
              "    }\n",
              "</style>\n",
              "<table border=\"1\" class=\"dataframe\">\n",
              "  <thead>\n",
              "    <tr style=\"text-align: right;\">\n",
              "      <th></th>\n",
              "      <th>order_id</th>\n",
              "      <th>customer_id</th>\n",
              "      <th>order_status</th>\n",
              "      <th>order_purchase_timestamp</th>\n",
              "      <th>order_approved_at</th>\n",
              "      <th>order_delivered_carrier_date</th>\n",
              "      <th>order_delivered_customer_date</th>\n",
              "      <th>order_estimated_delivery_date</th>\n",
              "      <th>delivery_day</th>\n",
              "    </tr>\n",
              "  </thead>\n",
              "  <tbody>\n",
              "    <tr>\n",
              "      <th>0</th>\n",
              "      <td>e481f51cbdc54678b7cc49136f2d6af7</td>\n",
              "      <td>9ef432eb6251297304e76186b10a928d</td>\n",
              "      <td>delivered</td>\n",
              "      <td>2017-10-02 10:56:33</td>\n",
              "      <td>2017-10-02 11:07:15</td>\n",
              "      <td>2017-10-04 19:55:00</td>\n",
              "      <td>2017-10-10 21:25:13</td>\n",
              "      <td>2017-10-18</td>\n",
              "      <td>6</td>\n",
              "    </tr>\n",
              "    <tr>\n",
              "      <th>1</th>\n",
              "      <td>53cdb2fc8bc7dce0b6741e2150273451</td>\n",
              "      <td>b0830fb4747a6c6d20dea0b8c802d7ef</td>\n",
              "      <td>delivered</td>\n",
              "      <td>2018-07-24 20:41:37</td>\n",
              "      <td>2018-07-26 03:24:27</td>\n",
              "      <td>2018-07-26 14:31:00</td>\n",
              "      <td>2018-08-07 15:27:45</td>\n",
              "      <td>2018-08-13</td>\n",
              "      <td>12</td>\n",
              "    </tr>\n",
              "    <tr>\n",
              "      <th>2</th>\n",
              "      <td>47770eb9100c2d0c44946d9cf07ec65d</td>\n",
              "      <td>41ce2a54c0b03bf3443c3d931a367089</td>\n",
              "      <td>delivered</td>\n",
              "      <td>2018-08-08 08:38:49</td>\n",
              "      <td>2018-08-08 08:55:23</td>\n",
              "      <td>2018-08-08 13:50:00</td>\n",
              "      <td>2018-08-17 18:06:29</td>\n",
              "      <td>2018-09-04</td>\n",
              "      <td>9</td>\n",
              "    </tr>\n",
              "    <tr>\n",
              "      <th>3</th>\n",
              "      <td>949d5b44dbf5de918fe9c16f97b45f8a</td>\n",
              "      <td>f88197465ea7920adcdbec7375364d82</td>\n",
              "      <td>delivered</td>\n",
              "      <td>2017-11-18 19:28:06</td>\n",
              "      <td>2017-11-18 19:45:59</td>\n",
              "      <td>2017-11-22 13:39:59</td>\n",
              "      <td>2017-12-02 00:28:42</td>\n",
              "      <td>2017-12-15</td>\n",
              "      <td>9</td>\n",
              "    </tr>\n",
              "    <tr>\n",
              "      <th>4</th>\n",
              "      <td>ad21c59c0840e6cb83a9ceb5573f8159</td>\n",
              "      <td>8ab97904e6daea8866dbdbc4fb7aad2c</td>\n",
              "      <td>delivered</td>\n",
              "      <td>2018-02-13 21:18:39</td>\n",
              "      <td>2018-02-13 22:20:29</td>\n",
              "      <td>2018-02-14 19:46:34</td>\n",
              "      <td>2018-02-16 18:17:02</td>\n",
              "      <td>2018-02-26</td>\n",
              "      <td>1</td>\n",
              "    </tr>\n",
              "  </tbody>\n",
              "</table>\n",
              "</div>"
            ],
            "text/plain": [
              "                           order_id                       customer_id  \\\n",
              "0  e481f51cbdc54678b7cc49136f2d6af7  9ef432eb6251297304e76186b10a928d   \n",
              "1  53cdb2fc8bc7dce0b6741e2150273451  b0830fb4747a6c6d20dea0b8c802d7ef   \n",
              "2  47770eb9100c2d0c44946d9cf07ec65d  41ce2a54c0b03bf3443c3d931a367089   \n",
              "3  949d5b44dbf5de918fe9c16f97b45f8a  f88197465ea7920adcdbec7375364d82   \n",
              "4  ad21c59c0840e6cb83a9ceb5573f8159  8ab97904e6daea8866dbdbc4fb7aad2c   \n",
              "\n",
              "  order_status order_purchase_timestamp   order_approved_at  \\\n",
              "0    delivered      2017-10-02 10:56:33 2017-10-02 11:07:15   \n",
              "1    delivered      2018-07-24 20:41:37 2018-07-26 03:24:27   \n",
              "2    delivered      2018-08-08 08:38:49 2018-08-08 08:55:23   \n",
              "3    delivered      2017-11-18 19:28:06 2017-11-18 19:45:59   \n",
              "4    delivered      2018-02-13 21:18:39 2018-02-13 22:20:29   \n",
              "\n",
              "  order_delivered_carrier_date order_delivered_customer_date  \\\n",
              "0          2017-10-04 19:55:00           2017-10-10 21:25:13   \n",
              "1          2018-07-26 14:31:00           2018-08-07 15:27:45   \n",
              "2          2018-08-08 13:50:00           2018-08-17 18:06:29   \n",
              "3          2017-11-22 13:39:59           2017-12-02 00:28:42   \n",
              "4          2018-02-14 19:46:34           2018-02-16 18:17:02   \n",
              "\n",
              "  order_estimated_delivery_date  delivery_day  \n",
              "0                    2017-10-18             6  \n",
              "1                    2018-08-13            12  \n",
              "2                    2018-09-04             9  \n",
              "3                    2017-12-15             9  \n",
              "4                    2018-02-26             1  "
            ]
          },
          "execution_count": 183,
          "metadata": {},
          "output_type": "execute_result"
        }
      ],
      "source": [
        "orders_df.head()"
      ]
    },
    {
      "cell_type": "code",
      "execution_count": 184,
      "metadata": {
        "colab": {
          "base_uri": "https://localhost:8080/"
        },
        "id": "Pa_eHF2UioFv",
        "outputId": "06b5d045-ff45-4a6b-b845-83309e3ac4e6"
      },
      "outputs": [
        {
          "name": "stderr",
          "output_type": "stream",
          "text": [
            "C:\\Users\\YOHANES ALDO\\AppData\\Local\\Temp\\ipykernel_14256\\1715171990.py:2: FutureWarning: 'M' is deprecated and will be removed in a future version, please use 'ME' instead.\n",
            "  monthly_orders_df = df_2018.resample(rule='M', on=\"order_purchase_timestamp\").agg({\n"
          ]
        },
        {
          "data": {
            "text/html": [
              "<div>\n",
              "<style scoped>\n",
              "    .dataframe tbody tr th:only-of-type {\n",
              "        vertical-align: middle;\n",
              "    }\n",
              "\n",
              "    .dataframe tbody tr th {\n",
              "        vertical-align: top;\n",
              "    }\n",
              "\n",
              "    .dataframe thead th {\n",
              "        text-align: right;\n",
              "    }\n",
              "</style>\n",
              "<table border=\"1\" class=\"dataframe\">\n",
              "  <thead>\n",
              "    <tr style=\"text-align: right;\">\n",
              "      <th></th>\n",
              "      <th>order_purchase_timestamp</th>\n",
              "      <th>order_count</th>\n",
              "      <th>revenue</th>\n",
              "    </tr>\n",
              "  </thead>\n",
              "  <tbody>\n",
              "    <tr>\n",
              "      <th>0</th>\n",
              "      <td>January</td>\n",
              "      <td>146</td>\n",
              "      <td>2680673.80</td>\n",
              "    </tr>\n",
              "    <tr>\n",
              "      <th>1</th>\n",
              "      <td>February</td>\n",
              "      <td>162</td>\n",
              "      <td>2059394.35</td>\n",
              "    </tr>\n",
              "    <tr>\n",
              "      <th>2</th>\n",
              "      <td>March</td>\n",
              "      <td>146</td>\n",
              "      <td>2145727.58</td>\n",
              "    </tr>\n",
              "    <tr>\n",
              "      <th>3</th>\n",
              "      <td>April</td>\n",
              "      <td>153</td>\n",
              "      <td>1874203.97</td>\n",
              "    </tr>\n",
              "    <tr>\n",
              "      <th>4</th>\n",
              "      <td>May</td>\n",
              "      <td>185</td>\n",
              "      <td>2563974.12</td>\n",
              "    </tr>\n",
              "  </tbody>\n",
              "</table>\n",
              "</div>"
            ],
            "text/plain": [
              "  order_purchase_timestamp  order_count     revenue\n",
              "0                  January          146  2680673.80\n",
              "1                 February          162  2059394.35\n",
              "2                    March          146  2145727.58\n",
              "3                    April          153  1874203.97\n",
              "4                      May          185  2563974.12"
            ]
          },
          "execution_count": 184,
          "metadata": {},
          "output_type": "execute_result"
        }
      ],
      "source": [
        "df_2018 = alldata[alldata[\"order_purchase_timestamp\"].dt.year == 2018]\n",
        "monthly_orders_df = df_2018.resample(rule='M', on=\"order_purchase_timestamp\").agg({\n",
        "    \"order_id\": \"nunique\",\n",
        "    \"payment_value\": \"sum\"\n",
        "})\n",
        "monthly_orders_df.index = monthly_orders_df.index.strftime('%B') #mengubah format order date menjadi Tahun-Bulan\n",
        "monthly_orders_df = monthly_orders_df.reset_index()\n",
        "monthly_orders_df.rename(columns={\n",
        "    \"order_id\": \"order_count\",\n",
        "    \"payment_value\": \"revenue\"\n",
        "}, inplace=True)\n",
        "monthly_orders_df.head()"
      ]
    },
    {
      "cell_type": "code",
      "execution_count": 185,
      "metadata": {},
      "outputs": [
        {
          "data": {
            "image/png": "[encoded data removed]",
            "text/plain": [
              "<Figure size 1000x500 with 1 Axes>"
            ]
          },
          "metadata": {},
          "output_type": "display_data"
        }
      ],
      "source": [
        "plt.figure(figsize=(10, 5))\n",
        "plt.plot(\n",
        "    monthly_orders_df[\"order_purchase_timestamp\"],\n",
        "    monthly_orders_df[\"order_count\"],\n",
        "    marker='o', \n",
        "    linewidth=2,\n",
        "    color=\"#72BCD4\"\n",
        ")\n",
        "plt.title(\"Tren Jumlah Pesanan per Bulan (2018)\", loc=\"center\", fontsize=20)\n",
        "plt.xticks(fontsize=7)\n",
        "plt.yticks(fontsize=7)\n",
        "plt.show()"
      ]
    },
    {
      "cell_type": "code",
      "execution_count": 186,
      "metadata": {},
      "outputs": [
        {
          "data": {
            "image/png": "[encoded data removed]",
            "text/plain": [
              "<Figure size 1000x500 with 1 Axes>"
            ]
          },
          "metadata": {},
          "output_type": "display_data"
        }
      ],
      "source": [
        "plt.figure(figsize=(10, 5))\n",
        "plt.plot(\n",
        "    monthly_orders_df[\"order_purchase_timestamp\"],\n",
        "    monthly_orders_df[\"revenue\"],\n",
        "    marker='o', \n",
        "    linewidth=2,\n",
        "    color=\"#72BCD4\"\n",
        ")\n",
        "plt.title(\"Total pendapatan per bulan (2018)\", loc=\"center\", fontsize=20)\n",
        "plt.xticks(fontsize=10)\n",
        "plt.yticks(fontsize=10)\n",
        "plt.show()"
      ]
    },
    {
      "cell_type": "markdown",
      "metadata": {
        "id": "DgHI7CiU8DC2"
      },
      "source": [
        "### Pertanyaan 2:Kategori produk mana yang paling banyak dan paling sedikit dipesan oleh pelanggan?"
      ]
    },
    {
      "cell_type": "code",
      "execution_count": 187,
      "metadata": {},
      "outputs": [
        {
          "data": {
            "text/html": [
              "<div>\n",
              "<style scoped>\n",
              "    .dataframe tbody tr th:only-of-type {\n",
              "        vertical-align: middle;\n",
              "    }\n",
              "\n",
              "    .dataframe tbody tr th {\n",
              "        vertical-align: top;\n",
              "    }\n",
              "\n",
              "    .dataframe thead th {\n",
              "        text-align: right;\n",
              "    }\n",
              "</style>\n",
              "<table border=\"1\" class=\"dataframe\">\n",
              "  <thead>\n",
              "    <tr style=\"text-align: right;\">\n",
              "      <th></th>\n",
              "      <th>product_category_name</th>\n",
              "      <th>order_count</th>\n",
              "    </tr>\n",
              "  </thead>\n",
              "  <tbody>\n",
              "    <tr>\n",
              "      <th>12</th>\n",
              "      <td>cama_mesa_banho</td>\n",
              "      <td>38839</td>\n",
              "    </tr>\n",
              "    <tr>\n",
              "      <th>10</th>\n",
              "      <td>beleza_saude</td>\n",
              "      <td>26962</td>\n",
              "    </tr>\n",
              "    <tr>\n",
              "      <th>28</th>\n",
              "      <td>esporte_lazer</td>\n",
              "      <td>24437</td>\n",
              "    </tr>\n",
              "    <tr>\n",
              "      <th>44</th>\n",
              "      <td>moveis_decoracao</td>\n",
              "      <td>22911</td>\n",
              "    </tr>\n",
              "    <tr>\n",
              "      <th>59</th>\n",
              "      <td>utilidades_domesticas</td>\n",
              "      <td>21042</td>\n",
              "    </tr>\n",
              "  </tbody>\n",
              "</table>\n",
              "</div>"
            ],
            "text/plain": [
              "    product_category_name  order_count\n",
              "12        cama_mesa_banho        38839\n",
              "10           beleza_saude        26962\n",
              "28          esporte_lazer        24437\n",
              "44       moveis_decoracao        22911\n",
              "59  utilidades_domesticas        21042"
            ]
          },
          "execution_count": 187,
          "metadata": {},
          "output_type": "execute_result"
        }
      ],
      "source": [
        "sum_category_orders = alldata.groupby(\"product_category_name\")[\"order_id\"].count().reset_index()\n",
        "sum_category_orders.columns = [\"product_category_name\", \"order_count\"]\n",
        "\n",
        "sum_category_orders = sum_category_orders.sort_values(by=\"order_count\", ascending=False)\n",
        "\n",
        "sum_category_orders.head()\n",
        "\n"
      ]
    },
    {
      "cell_type": "code",
      "execution_count": 188,
      "metadata": {},
      "outputs": [
        {
          "name": "stderr",
          "output_type": "stream",
          "text": [
            "C:\\Users\\YOHANES ALDO\\AppData\\Local\\Temp\\ipykernel_14256\\1360723109.py:7: FutureWarning: \n",
            "\n",
            "Passing `palette` without assigning `hue` is deprecated and will be removed in v0.14.0. Assign the `y` variable to `hue` and set `legend=False` for the same effect.\n",
            "\n",
            "  sns.barplot(y=top_10_category_orders[\"product_category_name\"],\n",
            "C:\\Users\\YOHANES ALDO\\AppData\\Local\\Temp\\ipykernel_14256\\1360723109.py:16: FutureWarning: \n",
            "\n",
            "Passing `palette` without assigning `hue` is deprecated and will be removed in v0.14.0. Assign the `y` variable to `hue` and set `legend=False` for the same effect.\n",
            "\n",
            "  sns.barplot(y=bottom_10_category_orders[\"product_category_name\"],\n"
          ]
        },
        {
          "data": {
            "image/png": "[encoded data removed]",
            "text/plain": [
              "<Figure size 1500x600 with 2 Axes>"
            ]
          },
          "metadata": {},
          "output_type": "display_data"
        }
      ],
      "source": [
        "top_10_category_orders = sum_category_orders.head(10)\n",
        "bottom_10_category_orders = sum_category_orders.tail(10)\n",
        "\n",
        "fig, axes = plt.subplots(1, 2, figsize=(15, 6))\n",
        "\n",
        "# Plot Produk Terlaris\n",
        "sns.barplot(y=top_10_category_orders[\"product_category_name\"], \n",
        "            x=top_10_category_orders[\"order_count\"], \n",
        "            palette=\"Blues_d\", \n",
        "            ax=axes[0])\n",
        "axes[0].set_title(\"Top 10 Kategori Produk Paling Laris(2018)\", fontsize=14)\n",
        "axes[0].set_xlabel(\"Jumlah Pesanan\")\n",
        "axes[0].set_ylabel(\"Kategori Produk\")\n",
        "\n",
        "# Plot Produk Tidak Laris\n",
        "sns.barplot(y=bottom_10_category_orders[\"product_category_name\"], \n",
        "            x=bottom_10_category_orders[\"order_count\"], \n",
        "            palette=\"Reds_d\", \n",
        "            ax=axes[1])\n",
        "axes[1].set_title(\"Top 10 Kategori Produk Paling Tidak Laris\", fontsize=14)\n",
        "axes[1].set_xlabel(\"Jumlah Pesanan\")\n",
        "axes[1].set_ylabel(\"Kategori Produk\")\n",
        "\n",
        "# Menampilkan plot\n",
        "plt.tight_layout()\n",
        "plt.show()"
      ]
    },
    {
      "cell_type": "markdown",
      "metadata": {
        "id": "pp8P_5zCR7Lm"
      },
      "source": [
        "### Pertanyaan 3:Bagaimana distribusi pelanggan berdasarkan lokasi geografis?"
      ]
    },
    {
      "cell_type": "code",
      "execution_count": 189,
      "metadata": {},
      "outputs": [
        {
          "data": {
            "text/html": [
              "<div>\n",
              "<style scoped>\n",
              "    .dataframe tbody tr th:only-of-type {\n",
              "        vertical-align: middle;\n",
              "    }\n",
              "\n",
              "    .dataframe tbody tr th {\n",
              "        vertical-align: top;\n",
              "    }\n",
              "\n",
              "    .dataframe thead th {\n",
              "        text-align: right;\n",
              "    }\n",
              "</style>\n",
              "<table border=\"1\" class=\"dataframe\">\n",
              "  <thead>\n",
              "    <tr style=\"text-align: right;\">\n",
              "      <th></th>\n",
              "      <th>customer_city</th>\n",
              "      <th>total customers</th>\n",
              "    </tr>\n",
              "  </thead>\n",
              "  <tbody>\n",
              "    <tr>\n",
              "      <th>0</th>\n",
              "      <td>sao paulo</td>\n",
              "      <td>24494</td>\n",
              "    </tr>\n",
              "    <tr>\n",
              "      <th>1</th>\n",
              "      <td>rio de janeiro</td>\n",
              "      <td>23903</td>\n",
              "    </tr>\n",
              "    <tr>\n",
              "      <th>2</th>\n",
              "      <td>belo horizonte</td>\n",
              "      <td>15287</td>\n",
              "    </tr>\n",
              "    <tr>\n",
              "      <th>3</th>\n",
              "      <td>niteroi</td>\n",
              "      <td>8403</td>\n",
              "    </tr>\n",
              "    <tr>\n",
              "      <th>4</th>\n",
              "      <td>curitiba</td>\n",
              "      <td>4677</td>\n",
              "    </tr>\n",
              "  </tbody>\n",
              "</table>\n",
              "</div>"
            ],
            "text/plain": [
              "    customer_city  total customers\n",
              "0       sao paulo            24494\n",
              "1  rio de janeiro            23903\n",
              "2  belo horizonte            15287\n",
              "3         niteroi             8403\n",
              "4        curitiba             4677"
            ]
          },
          "execution_count": 189,
          "metadata": {},
          "output_type": "execute_result"
        }
      ],
      "source": [
        "customers_distribution = alldata[\"customer_city\"].value_counts().reset_index()\n",
        "customers_distribution.columns = ['customer_city', 'total customers']\n",
        "\n",
        "customers_distribution.head()"
      ]
    },
    {
      "cell_type": "code",
      "execution_count": 190,
      "metadata": {},
      "outputs": [
        {
          "name": "stderr",
          "output_type": "stream",
          "text": [
            "C:\\Users\\YOHANES ALDO\\AppData\\Local\\Temp\\ipykernel_14256\\57882963.py:2: FutureWarning: \n",
            "\n",
            "Passing `palette` without assigning `hue` is deprecated and will be removed in v0.14.0. Assign the `y` variable to `hue` and set `legend=False` for the same effect.\n",
            "\n",
            "  sns.barplot(x=customers_distribution[\"total customers\"].head(10), y=customers_distribution[\"customer_city\"].head(10), palette=\"mako\")\n"
          ]
        },
        {
          "data": {
            "image/png": "[encoded data removed]",
            "text/plain": [
              "<Figure size 1200x600 with 1 Axes>"
            ]
          },
          "metadata": {},
          "output_type": "display_data"
        }
      ],
      "source": [
        "plt.figure(figsize=(12, 6))\n",
        "sns.barplot(x=customers_distribution[\"total customers\"].head(10), y=customers_distribution[\"customer_city\"].head(10), palette=\"mako\")\n",
        "plt.title(\"Top 10 Kota dengan Pelanggan Terbanyak(2018)\")\n",
        "plt.xlabel(\"Jumlah Pelanggan\")\n",
        "plt.ylabel(\"Kota\")\n",
        "plt.show()"
      ]
    },
    {
      "cell_type": "markdown",
      "metadata": {
        "id": "bBqjEe7oSA-m"
      },
      "source": [
        "### Pertanyaan 4:Kapan terakhir kali pelanggan melakukan pembelian?"
      ]
    },
    {
      "cell_type": "code",
      "execution_count": 191,
      "metadata": {},
      "outputs": [
        {
          "data": {
            "text/html": [
              "<div>\n",
              "<style scoped>\n",
              "    .dataframe tbody tr th:only-of-type {\n",
              "        vertical-align: middle;\n",
              "    }\n",
              "\n",
              "    .dataframe tbody tr th {\n",
              "        vertical-align: top;\n",
              "    }\n",
              "\n",
              "    .dataframe thead th {\n",
              "        text-align: right;\n",
              "    }\n",
              "</style>\n",
              "<table border=\"1\" class=\"dataframe\">\n",
              "  <thead>\n",
              "    <tr style=\"text-align: right;\">\n",
              "      <th></th>\n",
              "      <th>customer_id</th>\n",
              "      <th>order_purchase_timestamp</th>\n",
              "    </tr>\n",
              "  </thead>\n",
              "  <tbody>\n",
              "    <tr>\n",
              "      <th>0</th>\n",
              "      <td>001051abfcfdbed9f87b4266213a5df1</td>\n",
              "      <td>2018-05-30 09:19:31</td>\n",
              "    </tr>\n",
              "    <tr>\n",
              "      <th>1</th>\n",
              "      <td>0013280441d86a4f7a8006efdaf1b0fe</td>\n",
              "      <td>2018-01-08 02:35:36</td>\n",
              "    </tr>\n",
              "    <tr>\n",
              "      <th>2</th>\n",
              "      <td>00146ad30454993879adaa91c518f68c</td>\n",
              "      <td>2018-01-08 20:40:57</td>\n",
              "    </tr>\n",
              "    <tr>\n",
              "      <th>3</th>\n",
              "      <td>0089c34393989276de67746531e0df21</td>\n",
              "      <td>2017-10-17 22:31:03</td>\n",
              "    </tr>\n",
              "    <tr>\n",
              "      <th>4</th>\n",
              "      <td>009bd844996868ab5166ade7dd9ab471</td>\n",
              "      <td>2018-02-13 18:07:47</td>\n",
              "    </tr>\n",
              "  </tbody>\n",
              "</table>\n",
              "</div>"
            ],
            "text/plain": [
              "                        customer_id order_purchase_timestamp\n",
              "0  001051abfcfdbed9f87b4266213a5df1      2018-05-30 09:19:31\n",
              "1  0013280441d86a4f7a8006efdaf1b0fe      2018-01-08 02:35:36\n",
              "2  00146ad30454993879adaa91c518f68c      2018-01-08 20:40:57\n",
              "3  0089c34393989276de67746531e0df21      2017-10-17 22:31:03\n",
              "4  009bd844996868ab5166ade7dd9ab471      2018-02-13 18:07:47"
            ]
          },
          "execution_count": 191,
          "metadata": {},
          "output_type": "execute_result"
        }
      ],
      "source": [
        "alldata[\"order_purchase_timestamp\"] = pd.to_datetime(alldata[\"order_purchase_timestamp\"])\n",
        "last_purchase = alldata.groupby(\"customer_id\")[\"order_purchase_timestamp\"].max().reset_index()\n",
        "last_purchase.head()"
      ]
    },
    {
      "cell_type": "code",
      "execution_count": 192,
      "metadata": {},
      "outputs": [
        {
          "data": {
            "image/png": "[encoded data removed]",
            "text/plain": [
              "<Figure size 1200x600 with 1 Axes>"
            ]
          },
          "metadata": {},
          "output_type": "display_data"
        }
      ],
      "source": [
        "plt.figure(figsize=(12, 6))\n",
        "sns.histplot(last_purchase[\"order_purchase_timestamp\"], bins=30, kde=True, color=\"blue\")\n",
        "plt.title(\"Distribusi Waktu Terakhir Kali Pelanggan Melakukan Pembelian\", fontsize=14)\n",
        "plt.xlabel(\"Tanggal\", fontsize=12)\n",
        "plt.ylabel(\"Jumlah Pelanggan\", fontsize=12)\n",
        "plt.xticks(rotation=45)  \n",
        "plt.show()"
      ]
    },
    {
      "cell_type": "markdown",
      "metadata": {
        "id": "_0-36BDLklRg"
      },
      "source": [
        "**Insight:**\n",
        "- Penurunan tajam terjadi dari Januari ke Februari dan dari Mei ke  pada tahun 2018, yang mungkin disebabkan oleh faktor musiman atau penurunan customer.\n",
        "- Kategori produk yang paling laris menunjukkan bahwa pelanggan lebih tertarik pada produk seperti cama_mesa_banho, beleza_saude dsb. Sedangkan untuk produk yang kurang laris Perusahaan mungkin dapat melakukan promosi sebagai salah satu solusi. \n",
        "- Sebagian pelanggan berasal dari 3 kota besar yaitu rio de janeiro, sao paulo, dan belo horizonte, dimana hal ini menunjukkan bahwa pasar utama perusahaan saat ini berada di 3 kota ini.\n",
        "- Jumlah pelanggan yang melakukan pembelian terakhir kali cenderung berfluktuasi setiap bulan dengan puncaknya pada bulan April dan Agustus 2018, serta penurunan signifikan pada bulan Juni dan September 2018."
      ]
    },
    {
      "cell_type": "markdown",
      "metadata": {
        "id": "_WeHlCeX8DC2"
      },
      "source": [
        "## Conclusion"
      ]
    },
    {
      "cell_type": "markdown",
      "metadata": {
        "id": "ZTcyR48Y8DC2"
      },
      "source": [
        "- Conclution pertanyaan 1 : Perusahaan perlu meningkatkan strategi pemasaran pada bulan seperti februari, april, juni dan juli yang mengalami penuruan pesanan dan memanfaatkan momen puncak dengan promosi yang lebih agresif.\n",
        "- Conclution pertanyaan 2 : Perusahaan sebaiknya meningkatkan stok dan promosi produk terlaris serta melakukan evalusi strategi harga dan pemasaran untuk kategori produk yang kurang diminati.\n",
        "- Conclution pertanyaan 3 : Perusahaan dapat lebih fokus memperkuat pasar di wilayah dengan pelanggan terbanyak serta mempertimbangkan ekspansi ke daerah dengan kepadatan pelanggan lebih rendah.\n",
        "- Conclution pertanyaan 4 : Perusahaan mungkin perlu menerapkan strategi retensi seperti program loyalitas atau promosi khusus untuk mendorong pelanggan lama yang melakukan pembelian ulang."
      ]
    }
  ],
  "metadata": {
    "colab": {
      "collapsed_sections": [
        "sXU2GBYu8DC1",
        "6Aes_1FMYcXd",
        "o7yVSxoshWRL",
        "gBdAn62EgHsG",
        "oFH833zmhosu",
        "zmzKt7kKjsS8",
        "43uOhYVYaS9T",
        "Pb2HI6UTb1S5",
        "gp-Y6wU38DC1",
        "zsyZjqak8DC2",
        "9y4VUsmcYNZ5",
        "_WeHlCeX8DC2"
      ],
      "provenance": []
    },
    "kernelspec": {
      "display_name": "Python 3",
      "language": "python",
      "name": "python3"
    },
    "language_info": {
      "codemirror_mode": {
        "name": "ipython",
        "version": 3
      },
      "file_extension": ".py",
      "mimetype": "text/x-python",
      "name": "python",
      "nbconvert_exporter": "python",
      "pygments_lexer": "ipython3",
      "version": "3.12.6"
    },
    "vscode": {
      "interpreter": {
        "hash": "972b3bf27e332e87b5379f2791f6ef9dfc79c71018c370b0d7423235e20fe4d7"
      }
    }
  },
  "nbformat": 4,
  "nbformat_minor": 0
}
